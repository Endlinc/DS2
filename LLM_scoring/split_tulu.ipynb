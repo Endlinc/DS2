{
 "cells": [
  {
   "cell_type": "code",
   "execution_count": null,
   "metadata": {},
   "outputs": [],
   "source": [
    "from datasets import load_dataset, DatasetDict\n",
    "import torch\n",
    "# 加载数据集\n",
    "dataset_name = \"allenai/tulu-v2-sft-mixture\"\n",
    "data = load_dataset(dataset_name)\n",
    "\n",
    "# 假设我们处理的是训练集\n",
    "train_dataset = data['train']\n",
    "\n",
    "# 定义函数来按键分割数据集\n",
    "def split_by_key(dataset, key):\n",
    "    unique_values = dataset.unique(key)\n",
    "    split_datasets = {}\n",
    "    for value in unique_values:\n",
    "        split_datasets[value] = dataset.filter(lambda x: x[key] == value)\n",
    "    return DatasetDict(split_datasets)\n",
    "\n",
    "# 使用函数按 'dataset' 列分割数据集\n",
    "split_datasets = split_by_key(train_dataset, 'dataset')\n",
    "\n",
    "# 查看结果\n",
    "for key, sub_dataset in split_datasets.items():\n",
    "    print(f\"Subset for {key}:\")\n",
    "    print(sub_dataset)\n",
    "\n",
    "\n",
    "torch.save(split_datasets, \"tulu_split.pt\")\n"
   ]
  },
  {
   "cell_type": "code",
   "execution_count": 6,
   "metadata": {},
   "outputs": [
    {
     "data": {
      "text/plain": [
       "Dataset({\n",
       "    features: ['dataset', 'id', 'messages'],\n",
       "    num_rows: 49747\n",
       "})"
      ]
     },
     "execution_count": 6,
     "metadata": {},
     "output_type": "execute_result"
    }
   ],
   "source": [
    "from datasets import load_dataset\n",
    "\n",
    "# 读取单个 Parquet 文件\n",
    "dataset = load_dataset('parquet', data_files='tulu_split_parquet/cot.parquet')\n",
    "dataset['train']"
   ]
  },
  {
   "cell_type": "code",
   "execution_count": null,
   "metadata": {},
   "outputs": [],
   "source": [
    "import json\n",
    "\n",
    "# 打开 jsonl 文件并逐行读取\n",
    "with open('./LLM Scoring/tulu_split_json/lima.jsonl', 'r') as jsonl_file:\n",
    "    json_list = [json.loads(line) for line in jsonl_file]\n",
    "\n",
    "# 将所有行的 JSON 对象组合成一个列表，写入 json 文件\n",
    "with open('./LLM Scoring/tulu_split_json/lima.json', 'w') as json_file:\n",
    "    json.dump(json_list, json_file, indent=4)  # indent=4 使输出的 json 文件格式化为便于阅读的形式\n"
   ]
  }
 ],
 "metadata": {
  "kernelspec": {
   "display_name": "Python 3 (ipykernel)",
   "language": "python",
   "name": "python3"
  },
  "language_info": {
   "codemirror_mode": {
    "name": "ipython",
    "version": 3
   },
   "file_extension": ".py",
   "mimetype": "text/x-python",
   "name": "python",
   "nbconvert_exporter": "python",
   "pygments_lexer": "ipython3",
   "version": "3.8.19"
  }
 },
 "nbformat": 4,
 "nbformat_minor": 2
}
