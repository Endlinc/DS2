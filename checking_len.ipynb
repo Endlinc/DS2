{
 "cells": [
  {
   "cell_type": "markdown",
   "metadata": {},
   "source": [
    "### Calculating the average token length of Datasets"
   ]
  },
  {
   "cell_type": "code",
   "execution_count": null,
   "metadata": {},
   "outputs": [],
   "source": [
    "from transformers import AutoTokenizer\n",
    "from datasets import load_dataset\n",
    "\n",
    "# dataset_list =['flan_v2', 'oasst1', 'wizardlm', 'dolly', 'stanford_alpaca']\n",
    "dataset_name='all_train'\n",
    "root_path = f'model_finetune/new_train_data/meta-llama/Meta-Llama-3.1-8B-Instruct/{dataset_name}/random_dataset.json'\n",
    "\n",
    "data = load_dataset('json', data_files =root_path)\n",
    "\n",
    "prompts = []\n",
    "completions = []\n",
    "dialogs = data['train']\n",
    "\n",
    "for dialog in dialogs['messages']:\n",
    "    prompts.append(dialog[0]['content']) \n",
    "    completions.append(dialog[1]['content'])\n",
    "\n",
    "#  Meta-Llama tokenizer\n",
    "tokenizer = AutoTokenizer.from_pretrained(\"meta-llama/Meta-Llama-3.1-8B-Instruct\")\n",
    "\n",
    "prompts_tokenized = tokenizer(prompts, padding=False, truncation=False, return_length=True)\n",
    "completions_tokenized = tokenizer(completions, padding=False, truncation=False, return_length=True)\n",
    "\n",
    "prompts_avg_tokens = sum(prompts_tokenized['length']) / len(prompts_tokenized['length'])\n",
    "completions_avg_tokens = sum(completions_tokenized['length']) / len(completions_tokenized['length'])\n",
    "\n",
    "prompts_avg_tokens, completions_avg_tokens\n"
   ]
  }
 ],
 "metadata": {
  "kernelspec": {
   "display_name": "new_env",
   "language": "python",
   "name": "python3"
  },
  "language_info": {
   "codemirror_mode": {
    "name": "ipython",
    "version": 3
   },
   "file_extension": ".py",
   "mimetype": "text/x-python",
   "name": "python",
   "nbconvert_exporter": "python",
   "pygments_lexer": "ipython3",
   "version": "3.10.12"
  }
 },
 "nbformat": 4,
 "nbformat_minor": 2
}
