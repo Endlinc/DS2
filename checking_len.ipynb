{
 "cells": [
  {
   "cell_type": "markdown",
   "metadata": {},
   "source": [
    "### Calculating the average token length of Datasets"
   ]
  },
  {
   "cell_type": "code",
   "execution_count": 2,
   "metadata": {},
   "outputs": [
    {
     "name": "stderr",
     "output_type": "stream",
     "text": [
      "/home/jlpang/LLM_data_selection/venv/lib/python3.10/site-packages/tqdm/auto.py:21: TqdmWarning: IProgress not found. Please update jupyter and ipywidgets. See https://ipywidgets.readthedocs.io/en/stable/user_install.html\n",
      "  from .autonotebook import tqdm as notebook_tqdm\n"
     ]
    },
    {
     "name": "stdout",
     "output_type": "stream",
     "text": [
      "Prompts Average Tokens: 156.13970930309839\n",
      "Completions Average Tokens: 172.06477210798454\n"
     ]
    }
   ],
   "source": [
    "from transformers import AutoTokenizer\n",
    "from datasets import load_dataset\n",
    "\n",
    "# Configuration\n",
    "dataset_name = 'all_train'\n",
    "root_path = 'full_dataset.json'\n",
    "\n",
    "# Load dataset\n",
    "data = load_dataset('json', data_files=root_path)\n",
    "dialogs = data['train']\n",
    "\n",
    "# Load tokenizer\n",
    "tokenizer = AutoTokenizer.from_pretrained(\"meta-llama/Meta-Llama-3.1-8B-Instruct\")\n",
    "\n",
    "# Define data processing function\n",
    "def process_dialog(batch):\n",
    "    dialog_prompts = []\n",
    "    dialog_completions = []\n",
    "    for dialog in batch['messages']:  # Access the 'messages' field\n",
    "        dialog_prompt = \" \".join([msg['content'] for msg in dialog if msg['role'] == 'user'])\n",
    "        dialog_completion = \" \".join([msg['content'] for msg in dialog if msg['role'] == 'assistant'])\n",
    "        dialog_prompts.append(dialog_prompt)\n",
    "        dialog_completions.append(dialog_completion)\n",
    "    return {\"prompt\": dialog_prompts, \"completion\": dialog_completions}\n",
    "\n",
    "# Process dialogs using datasets.map\n",
    "processed_data = dialogs.map(\n",
    "    process_dialog,\n",
    "    batched=True,\n",
    "    batch_size=8,  # Adjust the batch size based on memory capacity\n",
    "    num_proc=4\n",
    ")\n",
    "\n",
    "# Extract prompts and completions\n",
    "prompts = processed_data['prompt']\n",
    "completions = processed_data['completion']\n",
    "\n",
    "# Batch tokenize data\n",
    "prompts_tokenized = tokenizer(prompts, padding=False, truncation=False, return_length=True)\n",
    "completions_tokenized = tokenizer(completions, padding=False, truncation=False, return_length=True)\n",
    "\n",
    "# Compute average lengths\n",
    "prompts_avg_tokens = sum(prompts_tokenized['length']) / len(prompts_tokenized['length'])\n",
    "completions_avg_tokens = sum(completions_tokenized['length']) / len(completions_tokenized['length'])\n",
    "\n",
    "# Print results\n",
    "print(f\"Prompts Average Tokens: {prompts_avg_tokens}\")\n",
    "print(f\"Completions Average Tokens: {completions_avg_tokens}\")\n"
   ]
  },
  {
   "cell_type": "code",
   "execution_count": 4,
   "metadata": {},
   "outputs": [
    {
     "name": "stdout",
     "output_type": "stream",
     "text": [
      "Sorted Indices: [246267, 102351, 107094, 107955, 100248, 107093, 107103, 115978, 116457, 117625]\n",
      "Sorted Lengths: [5, 6, 6, 6, 7, 7, 7, 7, 7, 7]\n"
     ]
    }
   ],
   "source": [
    "\n",
    "overall_lens = [prompt_len + completion_len for prompt_len, completion_len in zip(prompts_tokenized['length'], completions_tokenized['length'])]\n",
    "\n",
    "\n",
    "\n",
    "sorted_indices = sorted(range(len(overall_lens)), key=lambda x: overall_lens[x])\n",
    "\n",
    "# 根据排序后的索引提取值\n",
    "sorted_lens = [overall_lens[i] for i in sorted_indices]\n",
    "\n",
    "print(\"Sorted Indices:\", sorted_indices[:10])  # 输出: [1, 0, 3, 2]\n",
    "print(\"Sorted Lengths:\", sorted_lens[:10])    # 输出: [5, 10, 15, 20]\n",
    "import torch\n",
    "\n",
    "torch.save(sorted_indices, \"overall_len_indices_sorted.pt\")\n",
    "torch.save(sorted_lens, \"overall_len_sorted.pt\")\n",
    "\n",
    "examples = data['train'].select(sorted_indices[:10])\n"
   ]
  },
  {
   "cell_type": "code",
   "execution_count": 1,
   "metadata": {},
   "outputs": [
    {
     "name": "stderr",
     "output_type": "stream",
     "text": [
      "/home/jlpang/LLM_data_selection/venv/lib/python3.10/site-packages/tqdm/auto.py:21: TqdmWarning: IProgress not found. Please update jupyter and ipywidgets. See https://ipywidgets.readthedocs.io/en/stable/user_install.html\n",
      "  from .autonotebook import tqdm as notebook_tqdm\n"
     ]
    },
    {
     "name": "stdout",
     "output_type": "stream",
     "text": [
      "Using device: cuda\n"
     ]
    },
    {
     "name": "stderr",
     "output_type": "stream",
     "text": [
      "Generating train split: 300932 examples [00:18, 16704.52 examples/s]\n",
      "Exception ignored in: <bound method IPythonKernel._clean_thread_parent_frames of <ipykernel.ipkernel.IPythonKernel object at 0x7f4c2f31b280>>\n",
      "Traceback (most recent call last):\n",
      "  File \"/home/jlpang/LLM_data_selection/venv/lib/python3.10/site-packages/ipykernel/ipkernel.py\", line 775, in _clean_thread_parent_frames\n",
      "    def _clean_thread_parent_frames(\n",
      "KeyboardInterrupt: \n"
     ]
    }
   ],
   "source": [
    "from transformers import AutoTokenizer, AutoModel\n",
    "import torch\n",
    "import torch.nn.functional as F\n",
    "from datasets import load_dataset, Dataset\n",
    "import random\n",
    "import numpy as np\n",
    "from tqdm import tqdm\n",
    "import os\n",
    "\n",
    "# Set random seed for reproducibility\n",
    "seed = 3\n",
    "random.seed(seed)\n",
    "np.random.seed(seed)\n",
    "torch.manual_seed(seed)\n",
    "\n",
    "# Set device (GPU if available)\n",
    "device = torch.device(\"cuda\" if torch.cuda.is_available() else \"cpu\")\n",
    "print(f\"Using device: {device}\")\n",
    "\n",
    "# Function to calculate cosine distance and return KNN indices (excluding the sample itself)\n",
    "def cosDistance(sample_embedding, all_embeddings, k_near=10):\n",
    "    sample_embedding = sample_embedding.to(device)\n",
    "    all_embeddings = all_embeddings.to(device)\n",
    "\n",
    "    # Compute cosine similarity and convert to cosine distance\n",
    "    similarity_vector = torch.matmul(all_embeddings, sample_embedding)\n",
    "    distance_vector = 1.0 - similarity_vector\n",
    "\n",
    "    # Get top-k nearest samples, including self at index 0\n",
    "    distance_vector, topk_indices = torch.topk(distance_vector, k=k_near+1, dim=0, largest=False)\n",
    "\n",
    "    # Exclude the sample itself from KNN results\n",
    "    if topk_indices[0] == torch.arange(all_embeddings.size(0))[0]:\n",
    "        topk_indices = topk_indices[1:]\n",
    "        distance_vector = distance_vector[1:]\n",
    "\n",
    "    return distance_vector, topk_indices\n",
    "\n",
    "# Mean pooling function to obtain sentence embeddings\n",
    "def mean_pooling(model_output, attention_mask):\n",
    "    token_embeddings = model_output[0]\n",
    "    input_mask_expanded = attention_mask.unsqueeze(-1).expand(token_embeddings.size()).float()\n",
    "    return torch.sum(token_embeddings * input_mask_expanded, 1) / torch.clamp(input_mask_expanded.sum(1), min=1e-9)\n",
    "\n",
    "# Process dialog messages to convert into a text format\n",
    "def process_dialog(dialog):\n",
    "    conversation = \"\"\n",
    "    for message in dialog['messages']:\n",
    "        conversation += f\"### {message['role']}: {message['content']}\\n\"\n",
    "    return {\"features\": conversation}\n",
    "\n",
    "# Generate embeddings for text\n",
    "def embed_text(batch):\n",
    "    encoded_inputs = tokenizer(batch['features'], padding=True, truncation=True, return_tensors=\"pt\").to(device)\n",
    "    with torch.no_grad():\n",
    "        model_outputs = model(**encoded_inputs)\n",
    "    sentence_embeddings = mean_pooling(model_outputs, encoded_inputs['attention_mask'])\n",
    "    embeddings = F.normalize(sentence_embeddings, p=2, dim=1)\n",
    "    \n",
    "    batch['embeddings'] = embeddings.cpu().numpy().tolist()\n",
    "    return batch\n",
    "\n",
    "##############################################################################################################################\n",
    "\n",
    "dataset_name = \"all_train\"\n",
    "\n",
    "# Load or generate embeddings if they don't already exist\n",
    "if not os.path.exists(f\"{dataset_name}_embeddings.parquet\"):\n",
    "    \n",
    "    print(\"calculating the embedding...\")\n",
    "    \n",
    "    data = load_dataset('json', data_files=f\"full_dataset.json\")\n",
    "    data['train'] = data['train'].map(process_dialog, batched=False)\n",
    "\n",
    "    embedding_model_name = \"BAAI/bge-large-en-v1.5\"\n",
    "    tokenizer = AutoTokenizer.from_pretrained(embedding_model_name)\n",
    "    model = AutoModel.from_pretrained(embedding_model_name).to(device)\n",
    "    model = torch.nn.DataParallel(model)\n",
    "\n",
    "    data['train'] = data['train'].map(embed_text, batched=True, batch_size=2048)\n",
    "    data['train'].to_parquet(f'{dataset_name}_embeddings.parquet')\n",
    "    print(f\"Embeddings saved to {dataset_name}_embeddings.parquet\")\n",
    "\n",
    "#########################################################################################################################\n",
    "\n",
    "\n",
    "# Load generated embeddings dataset\n",
    "embedding_dataset = load_dataset('parquet', data_files=f'{dataset_name}_embeddings.parquet')['train']\n",
    "\n",
    "# Get all embeddings data\n",
    "all_embeddings = torch.tensor(embedding_dataset['embeddings']).to(device)\n",
    "\n",
    "\n",
    "knn_indices = []\n",
    "\n",
    "# overall_len_sorted_indices = torch.load(\"overall_len_indices_sorted.pt\")\n",
    "\n",
    "# selected_short_example_indices = overall_len_sorted_indices ##check the len\n",
    "# embedding_subset = embedding_dataset.select(selected_short_example_indices)\n",
    "\n",
    "for sample_idx, sample in enumerate(tqdm(embedding_dataset, desc=f\"Processing 2-NN samples\")):\n",
    "    sample_embedding = torch.tensor(sample['embeddings']).to(device)\n",
    "\n",
    "    # Calculate cosine distance for the sample and retrieve KNN indices\n",
    "    _, topk_indices = cosDistance(sample_embedding, all_embeddings, k_near=2)\n",
    "    knn_indices.append(topk_indices.cpu().numpy().tolist())\n",
    "\n",
    "\n",
    "# torch.save(knn_indices, \"all_train_knn_indices.pt\")"
   ]
  },
  {
   "cell_type": "code",
   "execution_count": 6,
   "metadata": {},
   "outputs": [],
   "source": [
    "dataset = load_dataset('json', data_files=f\"full_dataset.json\")['train']\n",
    "\n",
    "dataset_name='all_train'\n",
    "model_name=\"meta-llama/Meta-Llama-3.1-8B-Instruct\""
   ]
  },
  {
   "cell_type": "code",
   "execution_count": 37,
   "metadata": {},
   "outputs": [
    {
     "data": {
      "text/plain": [
       "200"
      ]
     },
     "execution_count": 37,
     "metadata": {},
     "output_type": "execute_result"
    }
   ],
   "source": [
    "len(knn_indices)"
   ]
  },
  {
   "cell_type": "code",
   "execution_count": 63,
   "metadata": {},
   "outputs": [
    {
     "name": "stdout",
     "output_type": "stream",
     "text": [
      "################\n",
      "Score: 3;; Example: [{'role': 'user', 'content': 'Title: curious about enlisting Review: a great read to see what kind of knowledge and techniques you should know before and after going to boot camp for the navy. It is also a great read for anyone who is interested in possibly joining. great price and fast shipping Is this product review negative?\\nAnswer:'}, {'role': 'assistant', 'content': 'No'}]\n",
      "################\n",
      "Score: 3;; Example: [{'role': 'user', 'content': \"Given the question: Title: A Great Buy, But A Bad Mistake Product review: After reading this book, I enlisted in the Navy. I wanted to become a Navy Seal. The problem is that I did not make the first day of BUD's. Warning: If you read this book, and like it, do not think about enlisting in the Navy. I made the mistake, so learn from me. This book is so detailed, you feel like you are part of the teams. Would you say this review depicts the product in a flattering or unflattering light?\\nThe answer is:\"}, {'role': 'assistant', 'content': 'flattering'}]\n",
      "################\n",
      "Score: 2;; Example: [{'role': 'user', 'content': 'Answer the following question: Is there a negative or positive tone to this product review? === Title: Not what you think, or is it?? Review: Being a former sailor (84-06), I was looking for a book about how this new DDG was going to be put together mabe a photo or something, but this is not the case. This book is more into looking at how this new class ship is budgeted, how/who will get contracts, timelines of when it will be built....someting that a person working in a shipyard supervisor might want to look at, oh well. Answer:\\nAnswer:'}, {'role': 'assistant', 'content': 'Negative'}]\n"
     ]
    }
   ],
   "source": [
    "root_path = f\"./model_finetune/selected_data/{model_name}/{dataset_name}/\"\n",
    "labels = torch.load(root_path + \"output_labels_revised.pt\", weights_only=True)\n",
    "\n",
    "targe_example = 206\n",
    "knn_examples = dataset.select(knn_indices[targe_example])\n",
    "\n",
    "for knn_idx in [0,1,2]: ## 2-NN clusterability 0 means the original example \n",
    "    print(\"################\")\n",
    "    sample_idx = knn_indices[targe_example][knn_idx]\n",
    "    print(f\"Score: {labels[sample_idx]};; Example: {knn_examples[knn_idx]['messages']}\")"
   ]
  },
  {
   "cell_type": "markdown",
   "metadata": {},
   "source": [
    "################\n",
    "Score: 2;; Example: [{'role': 'user', 'content': 'Use the word \"scrumptious\" in a sentence.\\n'}, {'role': 'assistant', 'content': 'The dinner was cooked to perfection and was absolutely scrumptious.'}]\n",
    "################\n",
    "Score: 2;; Example: [{'role': 'user', 'content': 'Delete two words from the following sentence to make it a valid sentence:\\n\\nI ate the most delicious dinner ever\\n\\n'}, {'role': 'assistant', 'content': 'I ate most delicious ever.'}]\n",
    "################\n",
    "Score: 2;; Example: [{'role': 'user', 'content': 'Task: Edit the following sentence to make it more concise: \"The food that we ate for the party was absolutely delicious.\"\\n\\n'}, {'role': 'assistant', 'content': 'The food for the party was delicious.'}]\n",
    "\n",
    "\n",
    "\n",
    "################\n",
    "Score: 4;; Example: [{'role': 'user', 'content': 'List 3 applications of artificial intelligence'}, {'role': 'assistant', 'content': '\\nSome applications of Artificial Intelligence include natural language processing, facial recognition, and self-driving cars.'}]\n",
    "################\n",
    "Score: 3;; Example: [{'role': 'user', 'content': 'Name 3 applications for artificial intelligence Output:'}, {'role': 'assistant', 'content': 'Three applications for artificial intelligence are natural language processing, computer vision, and facial recognition.'}]\n",
    "################\n",
    "Score: 1;; Example: [{'role': 'user', 'content': 'Name three artificial intelligence applications\\n'}, {'role': 'assistant', 'content': 'Three artificial intelligence applications are: facial recognition software, natural language processing, and driverless cars.'}]\n"
   ]
  },
  {
   "cell_type": "markdown",
   "metadata": {},
   "source": [
    "## check the score difference of 2-NN samples"
   ]
  },
  {
   "cell_type": "code",
   "execution_count": 1,
   "metadata": {},
   "outputs": [
    {
     "name": "stderr",
     "output_type": "stream",
     "text": [
      "/tmp/ipykernel_3380584/3403878622.py:17: FutureWarning: You are using `torch.load` with `weights_only=False` (the current default value), which uses the default pickle module implicitly. It is possible to construct malicious pickle data which will execute arbitrary code during unpickling (See https://github.com/pytorch/pytorch/blob/main/SECURITY.md#untrusted-models for more details). In a future release, the default value for `weights_only` will be flipped to `True`. This limits the functions that could be executed during unpickling. Arbitrary objects will no longer be allowed to be loaded via this mode unless they are explicitly allowlisted by the user via `torch.serialization.add_safe_globals`. We recommend you start setting `weights_only=True` for any use case where you don't have full control of the loaded file. Please open an issue on GitHub for any issues related to this experimental feature.\n",
      "  all_train_knn_indices = torch.load(\"all_train_knn_indices.pt\")\n",
      "/tmp/ipykernel_3380584/3403878622.py:90: FutureWarning: You are using `torch.load` with `weights_only=False` (the current default value), which uses the default pickle module implicitly. It is possible to construct malicious pickle data which will execute arbitrary code during unpickling (See https://github.com/pytorch/pytorch/blob/main/SECURITY.md#untrusted-models for more details). In a future release, the default value for `weights_only` will be flipped to `True`. This limits the functions that could be executed during unpickling. Arbitrary objects will no longer be allowed to be loaded via this mode unless they are explicitly allowlisted by the user via `torch.serialization.add_safe_globals`. We recommend you start setting `weights_only=True` for any use case where you don't have full control of the loaded file. Please open an issue on GitHub for any issues related to this experimental feature.\n",
      "  scores = torch.load(root_path + \"output_labels_revised.pt\")\n",
      "/tmp/ipykernel_3380584/3403878622.py:88: FutureWarning: You are using `torch.load` with `weights_only=False` (the current default value), which uses the default pickle module implicitly. It is possible to construct malicious pickle data which will execute arbitrary code during unpickling (See https://github.com/pytorch/pytorch/blob/main/SECURITY.md#untrusted-models for more details). In a future release, the default value for `weights_only` will be flipped to `True`. This limits the functions that could be executed during unpickling. Arbitrary objects will no longer be allowed to be loaded via this mode unless they are explicitly allowlisted by the user via `torch.serialization.add_safe_globals`. We recommend you start setting `weights_only=True` for any use case where you don't have full control of the loaded file. Please open an issue on GitHub for any issues related to this experimental feature.\n",
      "  scores = torch.load(root_path + \"output_labels_revised_cured.pt\")\n"
     ]
    },
    {
     "data": {
      "image/png": "[encoded data removed]",
      "text/plain": [
       "<Figure size 1200x500 with 2 Axes>"
      ]
     },
     "metadata": {},
     "output_type": "display_data"
    }
   ],
   "source": [
    "import torch\n",
    "import os \n",
    "import math\n",
    "from collections import Counter\n",
    "import matplotlib.pyplot as plt\n",
    "import numpy as np\n",
    "from matplotlib.ticker import FuncFormatter\n",
    "\n",
    "def to_k_samples(y, _):\n",
    "    return f\"{y / 1000:.0f}k\"\n",
    "\n",
    "rating_models = ['gpt-4o-mini', \"meta-llama/Meta-Llama-3.1-8B-Instruct\", \"mistralai/Mistral-7B-Instruct-v0.3\"]\n",
    "dataset_name = \"all_train\"\n",
    "\n",
    "\n",
    "## knn_indices \n",
    "all_train_knn_indices = torch.load(\"all_train_knn_indices.pt\")\n",
    "\n",
    "# avg_knn_scores = {}\n",
    "# knn_scores_statists = {}\n",
    "\n",
    "# for is_curated in [True, False]:\n",
    "    \n",
    "#     for rating_model in rating_models:\n",
    "#         ##load score\n",
    "#         root_path = f\"./model_finetune/selected_data/{rating_model}/{dataset_name}/\"\n",
    "#         if is_curated:\n",
    "#             scores = torch.load(root_path + \"output_labels_revised_cured.pt\", weights_only=True)\n",
    "#         else:            \n",
    "#             scores = torch.load(root_path + \"output_labels_revised.pt\", weights_only=True)\n",
    "        \n",
    "#         avg_scores_per_model = []\n",
    "#         for sample_knn_indices in all_train_knn_indices:\n",
    "#             sample_scores = [scores[idx] for idx in sample_knn_indices]\n",
    "#             avg_knn_score_gap = (abs(sample_scores[0]-sample_scores[1]) + abs(sample_scores[0]-sample_scores[2])) / 2\n",
    "#             avg_scores_per_model.append(avg_knn_score_gap)\n",
    "\n",
    "#         rating_model = os.path.basename(rating_model)    \n",
    "#         avg_knn_scores[rating_model] = avg_scores_per_model\n",
    "#         knn_scores_statists[rating_model] = Counter(avg_scores_per_model)\n",
    "        \n",
    "\n",
    "# # Plot histogram for each model\n",
    "# plt.figure(figsize=(8, 5))\n",
    "# bar_width = 0.25  # Width of each bar\n",
    "# x_positions = {}  # To store positions for each model's bars\n",
    "\n",
    "# # Generate x positions and bar heights\n",
    "# keys_union = sorted(set().union(*[knn_scores_statists[os.path.basename(model)].keys() for model in rating_models]))\n",
    "# x = np.arange(len(keys_union))  # Common x positions for all keys\n",
    "\n",
    "# # Plot each model's data\n",
    "# for i, rating_model in enumerate(rating_models):\n",
    "#     model_name = os.path.basename(rating_model)\n",
    "#     model_data = knn_scores_statists[model_name]\n",
    "#     heights = [model_data.get(k, 0) for k in keys_union]\n",
    "#     x_positions[model_name] = x + (i - len(rating_models) / 2) * bar_width\n",
    "#     plt.bar(x_positions[model_name], heights, bar_width, label=model_name, zorder=2)\n",
    "\n",
    "# # Add labels and legend\n",
    "# plt.xlabel(\"Average Score Gap\", fontsize=16)\n",
    "# plt.ylabel(\"Count\", fontsize=16)\n",
    "# plt.title(\"Average Score Gaps across 2-NN Clusters\", fontsize=16)\n",
    "# plt.xticks(x, keys_union)\n",
    "# plt.legend(fontsize=14)\n",
    "# plt.gca().yaxis.set_major_formatter(FuncFormatter(to_k_samples))\n",
    "# plt.tick_params(axis='both', labelsize=14)\n",
    "# plt.tight_layout()\n",
    "# plt.grid(True, color='gray', alpha=0.3, zorder=0)\n",
    "\n",
    "# # Display the plot\n",
    "# plt.show()\n",
    "\n",
    "\n",
    "# Prepare the figure and subplots\n",
    "fig, axes = plt.subplots(1, 2, figsize=(12, 5), sharey=True)\n",
    "\n",
    "# Loop through both is_curated cases\n",
    "table_scores_all = {}\n",
    "for idx, is_curated in enumerate([False, True]):\n",
    "    avg_knn_scores = {}\n",
    "    knn_scores_statists = {}\n",
    "    table_scores_all[is_curated] = {}\n",
    "    for rating_model in rating_models:\n",
    "        # Load scores based on is_curated\n",
    "        root_path = f\"./model_finetune/selected_data/{rating_model}/{dataset_name}/\"\n",
    "        if is_curated:\n",
    "            scores = torch.load(root_path + \"output_labels_revised_cured.pt\")\n",
    "        else:\n",
    "            scores = torch.load(root_path + \"output_labels_revised.pt\")\n",
    "\n",
    "        avg_scores_per_model = []\n",
    "        for sample_knn_indices in all_train_knn_indices:\n",
    "            sample_scores = [scores[idx] for idx in sample_knn_indices]\n",
    "            avg_knn_score_gap = (abs(sample_scores[0] - sample_scores[1]) + abs(sample_scores[0] - sample_scores[2])) / 2\n",
    "            avg_scores_per_model.append(avg_knn_score_gap)\n",
    "\n",
    "        rating_model = os.path.basename(rating_model)\n",
    "        avg_knn_scores[rating_model] = avg_scores_per_model\n",
    "        knn_scores_statists[rating_model] = Counter(avg_scores_per_model)\n",
    "    table_scores_all[is_curated] = knn_scores_statists\n",
    "        \n",
    "    # Generate x positions and bar heights\n",
    "    keys_union = sorted(set().union(*[knn_scores_statists[os.path.basename(model)].keys() for model in rating_models]))\n",
    "    x = np.arange(len(keys_union))  # Common x positions for all keys\n",
    "\n",
    "    # Plot each model's data in the respective subplot\n",
    "    ax = axes[idx]\n",
    "    bar_width = 0.25\n",
    "    for i, rating_model in enumerate(rating_models):\n",
    "        model_name = os.path.basename(rating_model)\n",
    "        model_data = knn_scores_statists[model_name]\n",
    "        heights = [model_data.get(k, 0) for k in keys_union]\n",
    "        x_positions = x + (i - len(rating_models) / 2) * bar_width\n",
    "        ax.bar(x_positions, heights, bar_width, label=model_name, zorder=2)\n",
    "\n",
    "    # Add labels, title, and legend for the subplot\n",
    "    ax.set_xlabel(\"Average score gap\", fontsize=18)\n",
    "    if idx == 0:\n",
    "        ax.set_ylabel(\"Count\", fontsize=18)\n",
    "        ax.legend(fontsize=14)\n",
    "\n",
    "    ax.set_title(\"w/ curation\" if is_curated else \"w/o curation \", fontsize=18)\n",
    "    ax.set_xticks(x)\n",
    "    ax.set_xticklabels(keys_union)\n",
    "    ax.yaxis.set_major_formatter(FuncFormatter(to_k_samples))\n",
    "    ax.tick_params(axis='both', labelsize=16)\n",
    "    ax.grid(True, color='gray', alpha=0.3, zorder=0)\n",
    "\n",
    "# Tight layout and show the plot\n",
    "plt.tight_layout()\n",
    "plt.show()\n",
    "\n",
    "\n",
    "# knn_score_gap_statistis"
   ]
  },
  {
   "cell_type": "code",
   "execution_count": 7,
   "metadata": {},
   "outputs": [
    {
     "name": "stdout",
     "output_type": "stream",
     "text": [
      "       Curation                       Model  score gap 0.0(%)  score gap 0.5(%)  score gap 1.0(%)  score gap 1.5(%)  score gap 2.0(%)  score gap 2.5(%)  score gap 3.0(%)  score gap 3.5(%)  score gap 4.0(%)  score gap 4.5(%)  score gap 5.0(%)\n",
      "0  w/o Curation                 gpt-4o-mini              19.7              33.2              28.1              12.0               4.9               1.5               0.6               0.2               0.1               0.0               0.0\n",
      "1  w/o Curation  Meta-Llama-3.1-8B-Instruct              11.1              21.9              25.3              18.0              12.2               5.8               3.1               1.7               0.9               0.1               0.0\n",
      "2  w/o Curation    Mistral-7B-Instruct-v0.3              14.8              27.5              27.9              16.5               8.1               3.2               1.9               0.1               0.0               0.0               0.0\n",
      "3   W/ Curation                 gpt-4o-mini              23.4              32.3              26.8              10.9               4.5               1.3               0.5               0.2               0.1               0.0               0.0\n",
      "4   W/ Curation  Meta-Llama-3.1-8B-Instruct              34.7              21.9              22.2               9.4               7.3               1.9               1.8               0.5               0.4               0.0               0.0\n",
      "5   W/ Curation    Mistral-7B-Instruct-v0.3              28.4              28.1              24.0              10.8               5.6               1.9               1.1               0.0               0.0               0.0               0.0\n"
     ]
    }
   ],
   "source": [
    "import pandas as pd\n",
    "\n",
    "# Prepare data for table with score_gap as columns\n",
    "table_data = []\n",
    "\n",
    "for is_curated, knn_scores_statists in table_scores_all.items():\n",
    "    curated_label = \"W/ Curation\" if is_curated else \"w/o Curation\"\n",
    "    for model_name, counter in knn_scores_statists.items():\n",
    "        total_count = sum(counter.values())\n",
    "        row = {\n",
    "            \"Curation\": curated_label,\n",
    "            \"Model\": model_name,\n",
    "        }\n",
    "        for gap, count in sorted(counter.items()):\n",
    "            # row[f\"Score Gap {gap}\"] = count\n",
    "            row[f\"score gap {gap}(%)\"] = round((count / total_count) * 100, 1)\n",
    "        table_data.append(row)\n",
    "\n",
    "# Convert to DataFrame\n",
    "df = pd.DataFrame(table_data)\n",
    "\n",
    "# Fill missing score gaps with 0 (if any)\n",
    "df.fillna(0, inplace=True)\n",
    "\n",
    "pd.set_option('display.max_rows', None)  # 显示所有行\n",
    "pd.set_option('display.max_columns', None)  # 显示所有列\n",
    "pd.set_option('display.width', 1000)        # 增大输出宽度\n",
    "pd.set_option('display.max_colwidth', None)  # 不限制单元格内容宽度\n",
    "\n",
    "# Display the table\n",
    "print(df)\n",
    "\n",
    "# Optionally, save to a CSV or Excel file\n",
    "df.to_csv(\"knn_score_gap_statistics_pivot.csv\", index=False)\n"
   ]
  },
  {
   "cell_type": "markdown",
   "metadata": {},
   "source": [
    "| Curation        | Model                        | Score Gap 0.0 (%) | Score Gap 0.5(%) | Score Gap 1.0(%) | Score Gap 1.5(%) | Score Gap 2.0(%) | Score Gap 2.5(%) | Score Gap 3.0(%) | Score Gap 3.5(%) | Score Gap 4.0(%) | Score Gap 4.5(%) | Score Gap 5.0(%) |\n",
    "|------------------|------------------------------|---------------|---------------|---------------|---------------|---------------|---------------|---------------|---------------|---------------|---------------|---------------|\n",
    "| w/o Curation    | gpt-4o-mini                 | 19.66         | 33.19         | 28.06         | 11.97         | 4.86          | 1.47          | 0.55          | 0.17          | 0.06          | 0.01          | 0.00          |\n",
    "| w/o Curation    | Meta-Llama-3.1-8B-Instruct  | 11.09         | 21.86         | 25.26         | 17.99         | 12.21         | 5.76          | 3.14          | 1.70          | 0.86          | 0.10          | 0.02          |\n",
    "| w/o Curation    | Mistral-7B-Instruct-v0.3    | 14.83         | 27.48         | 27.94         | 16.49         | 8.10          | 3.20          | 1.89          | 0.07          | 0.01          | 0.00          | 0.00          |\n",
    "| W/ Curation     | gpt-4o-mini                 | 23.44         | 32.31         | 26.76         | 10.91         | 4.50          | 1.34          | 0.52          | 0.15          | 0.05          | 0.01          | 0.00          |\n",
    "| W/ Curation     | Meta-Llama-3.1-8B-Instruct  | 34.68         | 21.85         | 22.17         | 9.36          | 7.28          | 1.92          | 1.83          | 0.54          | 0.37          | 0.00          | 0.00          |\n",
    "| W/ Curation     | Mistral-7B-Instruct-v0.3    | 28.36         | 28.11         | 24.03         | 10.80         | 5.59          | 1.93          | 1.13          | 0.03          | 0.01          | 0.00          | 0.00          |\n"
   ]
  }
 ],
 "metadata": {
  "kernelspec": {
   "display_name": "new_env",
   "language": "python",
   "name": "python3"
  },
  "language_info": {
   "codemirror_mode": {
    "name": "ipython",
    "version": 3
   },
   "file_extension": ".py",
   "mimetype": "text/x-python",
   "name": "python",
   "nbconvert_exporter": "python",
   "pygments_lexer": "ipython3",
   "version": "3.10.12"
  }
 },
 "nbformat": 4,
 "nbformat_minor": 2
}
