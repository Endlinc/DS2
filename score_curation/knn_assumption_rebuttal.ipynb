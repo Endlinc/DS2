{
 "cells": [
  {
   "cell_type": "markdown",
   "metadata": {},
   "source": [
    "## Diversity score verification"
   ]
  },
  {
   "cell_type": "code",
   "execution_count": null,
   "metadata": {},
   "outputs": [],
   "source": [
    "from transformers import AutoTokenizer, AutoModel\n",
    "import torch\n",
    "import torch.nn.functional as F\n",
    "from datasets import load_dataset, Dataset\n",
    "import random\n",
    "import numpy as np\n",
    "from tqdm import tqdm\n",
    "import os\n",
    "import gc\n",
    "\n",
    "seed =3\n",
    "random.seed(seed)\n",
    "np.random.seed(seed)\n",
    "\n",
    "device = torch.device(\"cuda\" if torch.cuda.is_available() else \"cpu\")\n",
    "print(f\"Using device: {device}\")\n",
    "\n",
    "def cosDistance(sample_embedding, selected_embeddings, k_near=0):\n",
    "    similarity_vector = torch.matmul(selected_embeddings, sample_embedding)\n",
    "    distance_vector = 1.0 - similarity_vector\n",
    "    if selected_embeddings.size(0) > k_near:\n",
    "        distance_vector, _ = torch.topk(distance_vector, k=k_near, dim=0)\n",
    "    mean_distance = distance_vector.mean()\n",
    "    return mean_distance\n",
    "\n",
    "def mean_pooling(model_output, attention_mask):\n",
    "    \n",
    "    token_embeddings = model_output[0]\n",
    "    input_mask_expanded = attention_mask.unsqueeze(-1).expand(token_embeddings.size()).float()\n",
    "    return torch.sum(token_embeddings * input_mask_expanded, 1) / torch.clamp(input_mask_expanded.sum(1), min=1e-9)\n",
    "\n",
    "def process_dialog(dialog):\n",
    "    conversation = \"\"\n",
    "    for message in dialog['messages']:\n",
    "        conversation += f\"### {message['role']}: {message['content']}\\n\"\n",
    "    return {\"features\": conversation}\n",
    "\n",
    "def embed_text(batch):\n",
    "    encoded_inputs = tokenizer(batch['features'], padding=True, truncation=True, return_tensors=\"pt\").to(device)\n",
    "    if 'token_type_ids' in encoded_inputs:\n",
    "        del encoded_inputs['token_type_ids']\n",
    "        \n",
    "    with torch.no_grad():\n",
    "        model_outputs = model(**encoded_inputs)\n",
    "    sentence_embeddings = mean_pooling(model_outputs, encoded_inputs['attention_mask'].to(device))\n",
    "    embeddings = F.normalize(sentence_embeddings, p=2, dim=1)\n",
    "    \n",
    "    batch['embeddings'] = embeddings.cpu().numpy().tolist()\n",
    "    return batch\n",
    "\n",
    "##############################################################################################################################\n",
    "samples = [\n",
    "    {\n",
    "        \"messages\": [\n",
    "            {\"role\": \"user\", \"content\": \"please tell me the answer of below math question '1+1=?'\"},\n",
    "            {\"role\": \"assistant\", \"content\": \"answer:2\"}\n",
    "        ]\n",
    "    },\n",
    "    {\n",
    "        \"messages\": [\n",
    "            {\"role\": \"user\", \"content\": \"please tell me the answer of below math question '1+1=?'\"},\n",
    "            {\"role\": \"assistant\", \"content\": \"answer:3\"}\n",
    "        ]\n",
    "    }\n",
    "]\n",
    "\n",
    "embedding_models = [###encoders\n",
    "                    \"tbs17/MathBERT\",\n",
    "                    \"BAAI/bge-large-en-v1.5\", \n",
    "                    \"sentence-transformers/all-mpnet-base-v2\", \n",
    "                    ##### \n",
    "                    \"facebook/galactica-6.7b\", \n",
    "                    \"meta-llama/Llama-3.1-8B-Instruct\",\n",
    "                    \"meta-llama/Llama-3.2-3B-Instruct\",\n",
    "                    \"Qwen/Qwen2.5-Math-7B-Instruct\",\n",
    "                    \"Qwen/Qwen2.5-Math-1.5B-Instruct\",\n",
    "                    \"Qwen/Qwen2.5-14B-Instruct\",\n",
    "                    \"mistralai/Mistral-7B-Instruct-v0.3\",\n",
    "                    \"deepseek-ai/deepseek-math-7b-base\",\n",
    "                    ] # \"BAAI/bge-large-en-v1.5\", \"sentence-transformers/all-mpnet-base-v2\"\n",
    "\n",
    "distances = {}\n",
    "\n",
    "for embedding_model_name in embedding_models:\n",
    "    print(f\"### embedding model: {embedding_model_name}\")\n",
    "    tokenizer = AutoTokenizer.from_pretrained(embedding_model_name)\n",
    "    model = AutoModel.from_pretrained(embedding_model_name).to(device)\n",
    "    tokenizer.pad_token = tokenizer.eos_token\n",
    "    tokenizer.add_special_tokens({'pad_token': '[PAD]'})\n",
    "\n",
    "    embeddings = []\n",
    "    for sample in samples:\n",
    "        dialog = process_dialog(sample)\n",
    "        embeddings.append(embed_text(dialog))\n",
    "        \n",
    "    dist = cosDistance(torch.Tensor(embeddings[0]['embeddings'][0]), torch.Tensor(embeddings[1]['embeddings'][0]))\n",
    "\n",
    "    distances[os.path.basename(embedding_model_name)] = round(dist.item(), 3)\n",
    "    \n",
    "    del model\n",
    "    del tokenizer\n",
    "    torch.cuda.empty_cache()\n",
    "    gc.collect()\n",
    "\n",
    "import pandas as pd\n",
    "\n",
    "distances_df = pd.DataFrame(list(distances.items()), columns=[\"Model\", \"Distance\"])\n",
    "print(distances_df)\n"
   ]
  },
  {
   "cell_type": "markdown",
   "metadata": {},
   "source": [
    "## GPT API text embedding"
   ]
  },
  {
   "cell_type": "code",
   "execution_count": 8,
   "metadata": {},
   "outputs": [
    {
     "name": "stdout",
     "output_type": "stream",
     "text": [
      "                        Pair 0-1  Pair 1-2  Pair 3-4\n",
      "text-embedding-3-small    0.0208    0.1380    0.1415\n",
      "text-embedding-3-large    0.0490    0.2043    0.2464\n",
      "text-embedding-ada-002    0.0050    0.0487    0.0697\n"
     ]
    }
   ],
   "source": [
    "from openai import OpenAI\n",
    "from transformers import AutoTokenizer, AutoModel\n",
    "import torch\n",
    "import torch.nn.functional as F\n",
    "from datasets import load_dataset, Dataset\n",
    "import random\n",
    "import numpy as np\n",
    "from tqdm import tqdm\n",
    "import os\n",
    "\n",
    "api_key = os.getenv(\"OPENAI_API_KEY\")\n",
    "client = OpenAI(api_key=api_key)\n",
    "\n",
    "def cosDistance(sample_embedding, selected_embeddings, k_near=0):\n",
    "    similarity_vector = torch.matmul(selected_embeddings, sample_embedding)\n",
    "    distance_vector = 1.0 - similarity_vector\n",
    "    if selected_embeddings.size(0) > k_near:\n",
    "        distance_vector, _ = torch.topk(distance_vector, k=k_near, dim=0)\n",
    "    mean_distance = distance_vector.mean()\n",
    "    return mean_distance\n",
    "\n",
    "samples = [\n",
    "    {\n",
    "        \"messages\": [\n",
    "            {\"role\": \"user\", \"content\": \"please tell me the answer of below math question '1+1=?'\"},\n",
    "            {\"role\": \"assistant\", \"content\": \"answer:2\"}\n",
    "        ]\n",
    "    },\n",
    "    {\n",
    "        \"messages\": [\n",
    "            {\"role\": \"user\", \"content\": \"please tell me the answer of below math question '1+1=?'\"},\n",
    "            {\"role\": \"assistant\", \"content\": \"answer:3\"}\n",
    "        ]\n",
    "    },\n",
    "    {\n",
    "        \"messages\": [\n",
    "            {\"role\": \"user\", \"content\": \"please tell me the answer of below math question '10+10=?'\"},\n",
    "            {\"role\": \"assistant\", \"content\": \"answer:20\"}\n",
    "        ]\n",
    "    },\n",
    "    {\n",
    "        \"messages\": [\n",
    "            {'role': 'user', 'content': 'Calculate 15% of 500.\\n\\n'},\n",
    "            {'role': 'assistant', 'content': '75'}\n",
    "        ]\n",
    "    },\n",
    "    {\n",
    "        \"messages\": [\n",
    "            {'role': 'user', 'content': 'Calculate 50% of 300.'},\n",
    "            {'role': 'assistant', 'content': '50% of 300 is 150.'}\n",
    "        ]\n",
    "    },\n",
    "        {\n",
    "        \"messages\": [\n",
    "            {\"role\":\"user\",\"content\":\"Task: Generate an open-ended story based on the following prompts.\\nInput: Prompts: False accusation, Tower, Mallet\\nOutput:\"},\n",
    "            {\"role\":\"assistant\",\"content\":\"Once upon a time, there was a small village nestled in a meadow at the foot of a tall tower. The tower was used by the local villagers for refuge during times of trouble, and with its high walls, it was secure and impenetrable. \\n\\nOne day, a stranger appeared in the village without warning and accused one of the villagers of a serious crime. Perplexed and outraged, the villagers voted to conduct a trial. The stranger declared that the accused must climb to the top of the tower and if they could make it to the top with a mallet, then they would be found innocent. If they failed, then the stranger would claim that they had fled and were therefore guilty. The accused was terrified, as none had ever made it to the top before. But to their surprise, they succeeded with the aid of the mallet, and the stranger was forced to leave in shame. \\nFrom then on, the villagers held a festival once a year to mark the occasion and celebrate the strength of the accused.\"}]\n",
    "    }\n",
    "]\n",
    "\n",
    "#####################\n",
    "add_system_prompt = False\n",
    "\n",
    "embedding_models = [\"text-embedding-3-small\", \"text-embedding-3-large\", \"text-embedding-ada-002\"]\n",
    "\n",
    "system_prompt = \"### system: please carefully check the correctness of the assistant's answer. Reason step by step and provide the explanations.\" if add_system_prompt else None\n",
    "\n",
    "tot_embeddings = {}\n",
    "\n",
    "# example_pairs = [(0,1), (1,2), (3,4)]\n",
    "example_pairs = [(0,1), (1,2), (3,4)]\n",
    "\n",
    "for embedding_model in embedding_models:\n",
    "    \n",
    "    dist_pairs = []\n",
    "    \n",
    "    for example_pair in example_pairs:\n",
    "        embeddings =[]\n",
    "        for sample in samples:\n",
    "            conversation = \"\"\n",
    "            for message in sample['messages']:\n",
    "                conversation += f\"{system_prompt} ### {message['role']}: {message['content']}\\n\"\n",
    "            response = client.embeddings.create(\n",
    "                input=conversation,\n",
    "                model=embedding_model,\n",
    "            )\n",
    "            embeddings.append(response.data[0].embedding)\n",
    "            \n",
    "        # print(response.data[0].embedding)\n",
    "        emb1 = torch.Tensor(embeddings[example_pair[0]])\n",
    "        emb2 = torch.Tensor(embeddings[example_pair[1]])\n",
    "        dist = cosDistance(emb1, emb2)\n",
    "        dist_pairs.append(round(dist.item(), 4))\n",
    "        # print(f\"GPT embedding model: {embedding_model}\")\n",
    "        # print(f\"cos distance: {round(dist.item(), 4)}\\n\")\n",
    "        \n",
    "    tot_embeddings[embedding_model] = dist_pairs\n",
    "        \n",
    "\n",
    "import pandas as pd\n",
    "\n",
    "pair_names = [f\"Pair {p[0]}-{p[1]}\" for p in example_pairs]  \n",
    "tot_embeddings_df = pd.DataFrame.from_dict(tot_embeddings, orient='index', columns=pair_names)\n",
    "\n",
    "print(tot_embeddings_df)\n"
   ]
  },
  {
   "cell_type": "code",
   "execution_count": 14,
   "metadata": {},
   "outputs": [
    {
     "data": {
      "text/plain": [
       "\"### system: please carefully check the correctness of the assistant's answer. Reason step by step and provide the explanations. ### user: please tell me the answer of below math question '1+1=?'\\n### system: please carefully check the correctness of the assistant's answer. Reason step by step and provide the explanations. ### assistant: answer:3\\n\""
      ]
     },
     "execution_count": 14,
     "metadata": {},
     "output_type": "execute_result"
    }
   ],
   "source": [
    "conversation"
   ]
  },
  {
   "cell_type": "markdown",
   "metadata": {},
   "source": [
    "|      Model            | Example 1 & 2 | Example 2 & 3 | Example 4 & 5 |\n",
    "|-------------------------|---------------|---------------|---------------|\n",
    "| GPT text-embedding-3-small  | 0.0208        | 0.1380        | 0.1415        |\n",
    "| GPT text-embedding-3-large  | 0.0490        | 0.2043        | 0.2464        |\n",
    "| GPT text-embedding-ada-002  | 0.0050        | 0.0487        | 0.0697        |\n",
    "|bge-large-en-v1.5 (used) |  0.00772 | 0.04975 | 0.09283 |\n"
   ]
  },
  {
   "cell_type": "code",
   "execution_count": 1,
   "metadata": {},
   "outputs": [
    {
     "name": "stderr",
     "output_type": "stream",
     "text": [
      "/home/jlpang/LLM_data_selection/venv/lib/python3.10/site-packages/tqdm/auto.py:21: TqdmWarning: IProgress not found. Please update jupyter and ipywidgets. See https://ipywidgets.readthedocs.io/en/stable/user_install.html\n",
      "  from .autonotebook import tqdm as notebook_tqdm\n"
     ]
    },
    {
     "ename": "OSError",
     "evalue": "[Errno 28] No space left on device",
     "output_type": "error",
     "traceback": [
      "\u001b[0;31m---------------------------------------------------------------------------\u001b[0m",
      "\u001b[0;31mOSError\u001b[0m                                   Traceback (most recent call last)",
      "\u001b[0;31mOSError\u001b[0m: [Errno 28] No space left on device",
      "\nDuring handling of the above exception, another exception occurred:\n",
      "\u001b[0;31mOSError\u001b[0m                                   Traceback (most recent call last)",
      "\u001b[1;32m/home/jlpang/LLM_data_selection/score_curation/knn_assumption_rebuttal.ipynb 单元格 7\u001b[0m line \u001b[0;36m7\n\u001b[1;32m     <a href='vscode-notebook-cell://ssh-remote%2B192.168.1.7/home/jlpang/LLM_data_selection/score_curation/knn_assumption_rebuttal.ipynb#W6sdnNjb2RlLXJlbW90ZQ%3D%3D?line=67'>68</a>\u001b[0m prompt_template \u001b[39m=\u001b[39m \u001b[39m'''\u001b[39m\n\u001b[1;32m     <a href='vscode-notebook-cell://ssh-remote%2B192.168.1.7/home/jlpang/LLM_data_selection/score_curation/knn_assumption_rebuttal.ipynb#W6sdnNjb2RlLXJlbW90ZQ%3D%3D?line=68'>69</a>\u001b[0m \u001b[39m            <|begin_of_text|><|start_header_id|>system<|end_header_id|>\u001b[39m\u001b[39m{}\u001b[39;00m\u001b[39m<|eot_id|>\u001b[39m\n\u001b[1;32m     <a href='vscode-notebook-cell://ssh-remote%2B192.168.1.7/home/jlpang/LLM_data_selection/score_curation/knn_assumption_rebuttal.ipynb#W6sdnNjb2RlLXJlbW90ZQ%3D%3D?line=69'>70</a>\u001b[0m \u001b[39m            <|start_header_id|>user<|end_header_id|>\u001b[39m\u001b[39m{}\u001b[39;00m\u001b[39m \u001b[39m\u001b[39m\\n\u001b[39;00m\u001b[39m## Data sample (conversation):\u001b[39m\u001b[39m\\n\u001b[39;00m\u001b[39m{}\u001b[39;00m\u001b[39m<|eot_id|> \u001b[39m\n\u001b[1;32m     <a href='vscode-notebook-cell://ssh-remote%2B192.168.1.7/home/jlpang/LLM_data_selection/score_curation/knn_assumption_rebuttal.ipynb#W6sdnNjb2RlLXJlbW90ZQ%3D%3D?line=70'>71</a>\u001b[0m \u001b[39m            <|start_header_id|>assistant<|end_header_id|>\u001b[39m\n\u001b[1;32m     <a href='vscode-notebook-cell://ssh-remote%2B192.168.1.7/home/jlpang/LLM_data_selection/score_curation/knn_assumption_rebuttal.ipynb#W6sdnNjb2RlLXJlbW90ZQ%3D%3D?line=71'>72</a>\u001b[0m \u001b[39m            \u001b[39m\u001b[39m'''\u001b[39m\n\u001b[1;32m     <a href='vscode-notebook-cell://ssh-remote%2B192.168.1.7/home/jlpang/LLM_data_selection/score_curation/knn_assumption_rebuttal.ipynb#W6sdnNjb2RlLXJlbW90ZQ%3D%3D?line=74'>75</a>\u001b[0m \u001b[39m# Load the tokenizer\u001b[39;00m\n\u001b[0;32m---> <a href='vscode-notebook-cell://ssh-remote%2B192.168.1.7/home/jlpang/LLM_data_selection/score_curation/knn_assumption_rebuttal.ipynb#W6sdnNjb2RlLXJlbW90ZQ%3D%3D?line=75'>76</a>\u001b[0m tokenizer \u001b[39m=\u001b[39m AutoTokenizer\u001b[39m.\u001b[39;49mfrom_pretrained(model_name)\n\u001b[1;32m     <a href='vscode-notebook-cell://ssh-remote%2B192.168.1.7/home/jlpang/LLM_data_selection/score_curation/knn_assumption_rebuttal.ipynb#W6sdnNjb2RlLXJlbW90ZQ%3D%3D?line=76'>77</a>\u001b[0m tokenizer\u001b[39m.\u001b[39mpad_token \u001b[39m=\u001b[39m tokenizer\u001b[39m.\u001b[39meos_token\n\u001b[1;32m     <a href='vscode-notebook-cell://ssh-remote%2B192.168.1.7/home/jlpang/LLM_data_selection/score_curation/knn_assumption_rebuttal.ipynb#W6sdnNjb2RlLXJlbW90ZQ%3D%3D?line=77'>78</a>\u001b[0m \u001b[39m# Load the model\u001b[39;00m\n",
      "File \u001b[0;32m~/LLM_data_selection/venv/lib/python3.10/site-packages/transformers/models/auto/tokenization_auto.py:857\u001b[0m, in \u001b[0;36mAutoTokenizer.from_pretrained\u001b[0;34m(cls, pretrained_model_name_or_path, *inputs, **kwargs)\u001b[0m\n\u001b[1;32m    854\u001b[0m     \u001b[39mreturn\u001b[39;00m tokenizer_class\u001b[39m.\u001b[39mfrom_pretrained(pretrained_model_name_or_path, \u001b[39m*\u001b[39minputs, \u001b[39m*\u001b[39m\u001b[39m*\u001b[39mkwargs)\n\u001b[1;32m    856\u001b[0m \u001b[39m# Next, let's try to use the tokenizer_config file to get the tokenizer class.\u001b[39;00m\n\u001b[0;32m--> 857\u001b[0m tokenizer_config \u001b[39m=\u001b[39m get_tokenizer_config(pretrained_model_name_or_path, \u001b[39m*\u001b[39;49m\u001b[39m*\u001b[39;49mkwargs)\n\u001b[1;32m    858\u001b[0m \u001b[39mif\u001b[39;00m \u001b[39m\"\u001b[39m\u001b[39m_commit_hash\u001b[39m\u001b[39m\"\u001b[39m \u001b[39min\u001b[39;00m tokenizer_config:\n\u001b[1;32m    859\u001b[0m     kwargs[\u001b[39m\"\u001b[39m\u001b[39m_commit_hash\u001b[39m\u001b[39m\"\u001b[39m] \u001b[39m=\u001b[39m tokenizer_config[\u001b[39m\"\u001b[39m\u001b[39m_commit_hash\u001b[39m\u001b[39m\"\u001b[39m]\n",
      "File \u001b[0;32m~/LLM_data_selection/venv/lib/python3.10/site-packages/transformers/models/auto/tokenization_auto.py:689\u001b[0m, in \u001b[0;36mget_tokenizer_config\u001b[0;34m(pretrained_model_name_or_path, cache_dir, force_download, resume_download, proxies, token, revision, local_files_only, subfolder, **kwargs)\u001b[0m\n\u001b[1;32m    686\u001b[0m     token \u001b[39m=\u001b[39m use_auth_token\n\u001b[1;32m    688\u001b[0m commit_hash \u001b[39m=\u001b[39m kwargs\u001b[39m.\u001b[39mget(\u001b[39m\"\u001b[39m\u001b[39m_commit_hash\u001b[39m\u001b[39m\"\u001b[39m, \u001b[39mNone\u001b[39;00m)\n\u001b[0;32m--> 689\u001b[0m resolved_config_file \u001b[39m=\u001b[39m cached_file(\n\u001b[1;32m    690\u001b[0m     pretrained_model_name_or_path,\n\u001b[1;32m    691\u001b[0m     TOKENIZER_CONFIG_FILE,\n\u001b[1;32m    692\u001b[0m     cache_dir\u001b[39m=\u001b[39;49mcache_dir,\n\u001b[1;32m    693\u001b[0m     force_download\u001b[39m=\u001b[39;49mforce_download,\n\u001b[1;32m    694\u001b[0m     resume_download\u001b[39m=\u001b[39;49mresume_download,\n\u001b[1;32m    695\u001b[0m     proxies\u001b[39m=\u001b[39;49mproxies,\n\u001b[1;32m    696\u001b[0m     token\u001b[39m=\u001b[39;49mtoken,\n\u001b[1;32m    697\u001b[0m     revision\u001b[39m=\u001b[39;49mrevision,\n\u001b[1;32m    698\u001b[0m     local_files_only\u001b[39m=\u001b[39;49mlocal_files_only,\n\u001b[1;32m    699\u001b[0m     subfolder\u001b[39m=\u001b[39;49msubfolder,\n\u001b[1;32m    700\u001b[0m     _raise_exceptions_for_gated_repo\u001b[39m=\u001b[39;49m\u001b[39mFalse\u001b[39;49;00m,\n\u001b[1;32m    701\u001b[0m     _raise_exceptions_for_missing_entries\u001b[39m=\u001b[39;49m\u001b[39mFalse\u001b[39;49;00m,\n\u001b[1;32m    702\u001b[0m     _raise_exceptions_for_connection_errors\u001b[39m=\u001b[39;49m\u001b[39mFalse\u001b[39;49;00m,\n\u001b[1;32m    703\u001b[0m     _commit_hash\u001b[39m=\u001b[39;49mcommit_hash,\n\u001b[1;32m    704\u001b[0m )\n\u001b[1;32m    705\u001b[0m \u001b[39mif\u001b[39;00m resolved_config_file \u001b[39mis\u001b[39;00m \u001b[39mNone\u001b[39;00m:\n\u001b[1;32m    706\u001b[0m     logger\u001b[39m.\u001b[39minfo(\u001b[39m\"\u001b[39m\u001b[39mCould not locate the tokenizer configuration file, will try to use the model config instead.\u001b[39m\u001b[39m\"\u001b[39m)\n",
      "File \u001b[0;32m~/LLM_data_selection/venv/lib/python3.10/site-packages/transformers/utils/hub.py:403\u001b[0m, in \u001b[0;36mcached_file\u001b[0;34m(path_or_repo_id, filename, cache_dir, force_download, resume_download, proxies, token, revision, local_files_only, subfolder, repo_type, user_agent, _raise_exceptions_for_gated_repo, _raise_exceptions_for_missing_entries, _raise_exceptions_for_connection_errors, _commit_hash, **deprecated_kwargs)\u001b[0m\n\u001b[1;32m    400\u001b[0m user_agent \u001b[39m=\u001b[39m http_user_agent(user_agent)\n\u001b[1;32m    401\u001b[0m \u001b[39mtry\u001b[39;00m:\n\u001b[1;32m    402\u001b[0m     \u001b[39m# Load from URL or cache if already cached\u001b[39;00m\n\u001b[0;32m--> 403\u001b[0m     resolved_file \u001b[39m=\u001b[39m hf_hub_download(\n\u001b[1;32m    404\u001b[0m         path_or_repo_id,\n\u001b[1;32m    405\u001b[0m         filename,\n\u001b[1;32m    406\u001b[0m         subfolder\u001b[39m=\u001b[39;49m\u001b[39mNone\u001b[39;49;00m \u001b[39mif\u001b[39;49;00m \u001b[39mlen\u001b[39;49m(subfolder) \u001b[39m==\u001b[39;49m \u001b[39m0\u001b[39;49m \u001b[39melse\u001b[39;49;00m subfolder,\n\u001b[1;32m    407\u001b[0m         repo_type\u001b[39m=\u001b[39;49mrepo_type,\n\u001b[1;32m    408\u001b[0m         revision\u001b[39m=\u001b[39;49mrevision,\n\u001b[1;32m    409\u001b[0m         cache_dir\u001b[39m=\u001b[39;49mcache_dir,\n\u001b[1;32m    410\u001b[0m         user_agent\u001b[39m=\u001b[39;49muser_agent,\n\u001b[1;32m    411\u001b[0m         force_download\u001b[39m=\u001b[39;49mforce_download,\n\u001b[1;32m    412\u001b[0m         proxies\u001b[39m=\u001b[39;49mproxies,\n\u001b[1;32m    413\u001b[0m         resume_download\u001b[39m=\u001b[39;49mresume_download,\n\u001b[1;32m    414\u001b[0m         token\u001b[39m=\u001b[39;49mtoken,\n\u001b[1;32m    415\u001b[0m         local_files_only\u001b[39m=\u001b[39;49mlocal_files_only,\n\u001b[1;32m    416\u001b[0m     )\n\u001b[1;32m    417\u001b[0m \u001b[39mexcept\u001b[39;00m GatedRepoError \u001b[39mas\u001b[39;00m e:\n\u001b[1;32m    418\u001b[0m     resolved_file \u001b[39m=\u001b[39m _get_cache_file_to_return(path_or_repo_id, full_filename, cache_dir, revision)\n",
      "File \u001b[0;32m~/LLM_data_selection/venv/lib/python3.10/site-packages/huggingface_hub/utils/_deprecation.py:101\u001b[0m, in \u001b[0;36m_deprecate_arguments.<locals>._inner_deprecate_positional_args.<locals>.inner_f\u001b[0;34m(*args, **kwargs)\u001b[0m\n\u001b[1;32m     99\u001b[0m         message \u001b[39m+\u001b[39m\u001b[39m=\u001b[39m \u001b[39m\"\u001b[39m\u001b[39m\\n\u001b[39;00m\u001b[39m\\n\u001b[39;00m\u001b[39m\"\u001b[39m \u001b[39m+\u001b[39m custom_message\n\u001b[1;32m    100\u001b[0m     warnings\u001b[39m.\u001b[39mwarn(message, \u001b[39mFutureWarning\u001b[39;00m)\n\u001b[0;32m--> 101\u001b[0m \u001b[39mreturn\u001b[39;00m f(\u001b[39m*\u001b[39;49margs, \u001b[39m*\u001b[39;49m\u001b[39m*\u001b[39;49mkwargs)\n",
      "File \u001b[0;32m~/LLM_data_selection/venv/lib/python3.10/site-packages/huggingface_hub/utils/_validators.py:114\u001b[0m, in \u001b[0;36mvalidate_hf_hub_args.<locals>._inner_fn\u001b[0;34m(*args, **kwargs)\u001b[0m\n\u001b[1;32m    111\u001b[0m \u001b[39mif\u001b[39;00m check_use_auth_token:\n\u001b[1;32m    112\u001b[0m     kwargs \u001b[39m=\u001b[39m smoothly_deprecate_use_auth_token(fn_name\u001b[39m=\u001b[39mfn\u001b[39m.\u001b[39m\u001b[39m__name__\u001b[39m, has_token\u001b[39m=\u001b[39mhas_token, kwargs\u001b[39m=\u001b[39mkwargs)\n\u001b[0;32m--> 114\u001b[0m \u001b[39mreturn\u001b[39;00m fn(\u001b[39m*\u001b[39;49margs, \u001b[39m*\u001b[39;49m\u001b[39m*\u001b[39;49mkwargs)\n",
      "File \u001b[0;32m~/LLM_data_selection/venv/lib/python3.10/site-packages/huggingface_hub/file_download.py:1232\u001b[0m, in \u001b[0;36mhf_hub_download\u001b[0;34m(repo_id, filename, subfolder, repo_type, revision, library_name, library_version, cache_dir, local_dir, user_agent, force_download, proxies, etag_timeout, token, local_files_only, headers, endpoint, legacy_cache_layout, resume_download, force_filename, local_dir_use_symlinks)\u001b[0m\n\u001b[1;32m   1212\u001b[0m     \u001b[39mreturn\u001b[39;00m _hf_hub_download_to_local_dir(\n\u001b[1;32m   1213\u001b[0m         \u001b[39m# Destination\u001b[39;00m\n\u001b[1;32m   1214\u001b[0m         local_dir\u001b[39m=\u001b[39mlocal_dir,\n\u001b[0;32m   (...)\u001b[0m\n\u001b[1;32m   1229\u001b[0m         local_files_only\u001b[39m=\u001b[39mlocal_files_only,\n\u001b[1;32m   1230\u001b[0m     )\n\u001b[1;32m   1231\u001b[0m \u001b[39melse\u001b[39;00m:\n\u001b[0;32m-> 1232\u001b[0m     \u001b[39mreturn\u001b[39;00m _hf_hub_download_to_cache_dir(\n\u001b[1;32m   1233\u001b[0m         \u001b[39m# Destination\u001b[39;49;00m\n\u001b[1;32m   1234\u001b[0m         cache_dir\u001b[39m=\u001b[39;49mcache_dir,\n\u001b[1;32m   1235\u001b[0m         \u001b[39m# File info\u001b[39;49;00m\n\u001b[1;32m   1236\u001b[0m         repo_id\u001b[39m=\u001b[39;49mrepo_id,\n\u001b[1;32m   1237\u001b[0m         filename\u001b[39m=\u001b[39;49mfilename,\n\u001b[1;32m   1238\u001b[0m         repo_type\u001b[39m=\u001b[39;49mrepo_type,\n\u001b[1;32m   1239\u001b[0m         revision\u001b[39m=\u001b[39;49mrevision,\n\u001b[1;32m   1240\u001b[0m         \u001b[39m# HTTP info\u001b[39;49;00m\n\u001b[1;32m   1241\u001b[0m         endpoint\u001b[39m=\u001b[39;49mendpoint,\n\u001b[1;32m   1242\u001b[0m         etag_timeout\u001b[39m=\u001b[39;49metag_timeout,\n\u001b[1;32m   1243\u001b[0m         headers\u001b[39m=\u001b[39;49mheaders,\n\u001b[1;32m   1244\u001b[0m         proxies\u001b[39m=\u001b[39;49mproxies,\n\u001b[1;32m   1245\u001b[0m         token\u001b[39m=\u001b[39;49mtoken,\n\u001b[1;32m   1246\u001b[0m         \u001b[39m# Additional options\u001b[39;49;00m\n\u001b[1;32m   1247\u001b[0m         local_files_only\u001b[39m=\u001b[39;49mlocal_files_only,\n\u001b[1;32m   1248\u001b[0m         force_download\u001b[39m=\u001b[39;49mforce_download,\n\u001b[1;32m   1249\u001b[0m     )\n",
      "File \u001b[0;32m~/LLM_data_selection/venv/lib/python3.10/site-packages/huggingface_hub/file_download.py:1355\u001b[0m, in \u001b[0;36m_hf_hub_download_to_cache_dir\u001b[0;34m(cache_dir, repo_id, filename, repo_type, revision, endpoint, etag_timeout, headers, proxies, token, local_files_only, force_download)\u001b[0m\n\u001b[1;32m   1350\u001b[0m os\u001b[39m.\u001b[39mmakedirs(os\u001b[39m.\u001b[39mpath\u001b[39m.\u001b[39mdirname(pointer_path), exist_ok\u001b[39m=\u001b[39m\u001b[39mTrue\u001b[39;00m)\n\u001b[1;32m   1352\u001b[0m \u001b[39m# if passed revision is not identical to commit_hash\u001b[39;00m\n\u001b[1;32m   1353\u001b[0m \u001b[39m# then revision has to be a branch name or tag name.\u001b[39;00m\n\u001b[1;32m   1354\u001b[0m \u001b[39m# In that case store a ref.\u001b[39;00m\n\u001b[0;32m-> 1355\u001b[0m _cache_commit_hash_for_specific_revision(storage_folder, revision, commit_hash)\n\u001b[1;32m   1357\u001b[0m \u001b[39m# If file already exists, return it (except if force_download=True)\u001b[39;00m\n\u001b[1;32m   1358\u001b[0m \u001b[39mif\u001b[39;00m \u001b[39mnot\u001b[39;00m force_download:\n",
      "File \u001b[0;32m~/LLM_data_selection/venv/lib/python3.10/site-packages/huggingface_hub/file_download.py:953\u001b[0m, in \u001b[0;36m_cache_commit_hash_for_specific_revision\u001b[0;34m(storage_folder, revision, commit_hash)\u001b[0m\n\u001b[1;32m    948\u001b[0m ref_path\u001b[39m.\u001b[39mparent\u001b[39m.\u001b[39mmkdir(parents\u001b[39m=\u001b[39m\u001b[39mTrue\u001b[39;00m, exist_ok\u001b[39m=\u001b[39m\u001b[39mTrue\u001b[39;00m)\n\u001b[1;32m    949\u001b[0m \u001b[39mif\u001b[39;00m \u001b[39mnot\u001b[39;00m ref_path\u001b[39m.\u001b[39mexists() \u001b[39mor\u001b[39;00m commit_hash \u001b[39m!=\u001b[39m ref_path\u001b[39m.\u001b[39mread_text():\n\u001b[1;32m    950\u001b[0m     \u001b[39m# Update ref only if has been updated. Could cause useless error in case\u001b[39;00m\n\u001b[1;32m    951\u001b[0m     \u001b[39m# repo is already cached and user doesn't have write access to cache folder.\u001b[39;00m\n\u001b[1;32m    952\u001b[0m     \u001b[39m# See https://github.com/huggingface/huggingface_hub/issues/1216.\u001b[39;00m\n\u001b[0;32m--> 953\u001b[0m     ref_path\u001b[39m.\u001b[39;49mwrite_text(commit_hash)\n",
      "File \u001b[0;32m/usr/lib/python3.10/pathlib.py:1154\u001b[0m, in \u001b[0;36mPath.write_text\u001b[0;34m(self, data, encoding, errors, newline)\u001b[0m\n\u001b[1;32m   1151\u001b[0m     \u001b[39mraise\u001b[39;00m \u001b[39mTypeError\u001b[39;00m(\u001b[39m'\u001b[39m\u001b[39mdata must be str, not \u001b[39m\u001b[39m%s\u001b[39;00m\u001b[39m'\u001b[39m \u001b[39m%\u001b[39m\n\u001b[1;32m   1152\u001b[0m                     data\u001b[39m.\u001b[39m\u001b[39m__class__\u001b[39m\u001b[39m.\u001b[39m\u001b[39m__name__\u001b[39m)\n\u001b[1;32m   1153\u001b[0m encoding \u001b[39m=\u001b[39m io\u001b[39m.\u001b[39mtext_encoding(encoding)\n\u001b[0;32m-> 1154\u001b[0m \u001b[39mwith\u001b[39;00m \u001b[39mself\u001b[39m\u001b[39m.\u001b[39mopen(mode\u001b[39m=\u001b[39m\u001b[39m'\u001b[39m\u001b[39mw\u001b[39m\u001b[39m'\u001b[39m, encoding\u001b[39m=\u001b[39mencoding, errors\u001b[39m=\u001b[39merrors, newline\u001b[39m=\u001b[39mnewline) \u001b[39mas\u001b[39;00m f:\n\u001b[1;32m   1155\u001b[0m     \u001b[39mreturn\u001b[39;00m f\u001b[39m.\u001b[39mwrite(data)\n",
      "\u001b[0;31mOSError\u001b[0m: [Errno 28] No space left on device"
     ]
    }
   ],
   "source": [
    "import torch\n",
    "import fire\n",
    "import os\n",
    "import json\n",
    "from transformers import AutoModelForCausalLM, AutoTokenizer, BitsAndBytesConfig\n",
    "import accelerate\n",
    "from functools import partial\n",
    "from torch.utils.data import DataLoader,Dataset\n",
    "from tqdm import tqdm\n",
    "import numpy as np\n",
    "from accelerate.utils import is_xpu_available\n",
    "from accelerate import Accelerator\n",
    "import regex as re\n",
    "from datasets import load_dataset\n",
    "import sys\n",
    "import gc\n",
    "\n",
    "### store the model \n",
    "os.environ[\"TOKENIZERS_PARALLELISM\"] = \"false\"\n",
    "B_INST, E_INST = \"[INST]\", \"[/INST]\"\n",
    "\n",
    "\n",
    "class CustomDataset(Dataset):\n",
    "    def __init__(self, dataset_name, dialogs, template=None):\n",
    "        self.dataset_name = dataset_name\n",
    "        self.dialogs = dialogs\n",
    "        self.template = template\n",
    "    def __getitem__(self, idx):\n",
    "\n",
    "        return {'data': self.dialogs[idx], 'index': idx}\n",
    "    \n",
    "    def __len__(self):\n",
    "        return len(self.dialogs)\n",
    "    \n",
    "    def map(self, function):\n",
    "        self.dialogs = [function(item, self.template) for item in self.dialogs]\n",
    "        return self\n",
    "    \n",
    "\n",
    "\n",
    "system_prompt = '''As a data quality estimator, your task is to assess the quality of data sample based on the criteria: Rarity, Complexity, Informativeness.\n",
    "    Please rate the sample on a scale from 1 to 10 for each criterion, and return an overall rating on a scale from 1 to 10, where a higher score indicates higher level of quality.\n",
    "    Ensure that the ratings are not overly concentrated around a specific score. If multiple samples have similar qualities, consider spreading the scores more evenly to reflect subtle differences.\n",
    "    '''\n",
    "\n",
    "user_prompt ='''Now, please carefully evaluate the following data sample and return the integral evaluation scores using the JSON format:\n",
    "    {\n",
    "        \"Rarity\": <number, 1-10>,\n",
    "        \"Complexity\": <number, 1-10>,\n",
    "        \"Informativeness\": <number, 1-10>,\n",
    "        \"Overall rating\": <number, 1-10>\n",
    "    }\n",
    "    Remember: the output must strictly follow this format, without any deviations.\n",
    "    '''   \n",
    "    \n",
    "# # mistral\n",
    "# model_name = \"mistralai/Mistral-7B-Instruct-v0.3\"\n",
    "# prompt_template = '''\n",
    "#             <s>[INST]system{}[/INST]\n",
    "#             [INST]user{} \\n## Data sample (conversation):\\n{}[/INST]\n",
    "#             [INST]assistant\n",
    "#             '''    \n",
    "\n",
    "\n",
    "\n",
    "###llama\n",
    "model_name = \"meta-llama/Meta-Llama-3.1-8B-Instruct\"\n",
    "prompt_template = '''\n",
    "            <|begin_of_text|><|start_header_id|>system<|end_header_id|>{}<|eot_id|>\n",
    "            <|start_header_id|>user<|end_header_id|>{} \\n## Data sample (conversation):\\n{}<|eot_id|> \n",
    "            <|start_header_id|>assistant<|end_header_id|>\n",
    "            '''\n",
    "\n",
    "\n",
    "# Load the tokenizer\n",
    "tokenizer = AutoTokenizer.from_pretrained(model_name)\n",
    "tokenizer.pad_token = tokenizer.eos_token\n",
    "# Load the model\n",
    "model = AutoModelForCausalLM.from_pretrained(model_name, device_map='auto')\n",
    "\n",
    "\n",
    "dataset_name='test'\n",
    "print(f\"Loading dataset: {dataset_name}\")\n",
    "data = load_dataset('json', data_files=f'../{dataset_name}_data.jsonl')\n",
    "\n",
    "print(\"Preprocessing dataset...\")\n",
    "inputs= []\n",
    "dialogs = data['train']\n",
    "for dialog in dialogs:\n",
    "    conversation = \"\"\n",
    "    for message in dialog['messages']:  #[{{'role': 'user', 'content': 'blabla'}, {'role': 'assistant', 'content': 'blabla'}]\n",
    "        conversation += f\"### {message['role']}: {message['content']}\\n\"\n",
    "    inputs.append(prompt_template.format(system_prompt, user_prompt, conversation))\n",
    "\n",
    "\n",
    "print(inputs)\n",
    "\n",
    "dataset = CustomDataset(dataset_name, inputs)\n",
    "\n",
    "data_loader = DataLoader(dataset, batch_size=8, shuffle=False) #, shuffle=True, seed=42 \n",
    "\n",
    "\n",
    "\n",
    "\n",
    "# Example: encode a prompt and generate a response\n",
    "\n",
    "output_text_all = []\n",
    "output_labels = []\n",
    "results = [] #store the results for data parallel\n",
    "\n",
    "model.eval()\n",
    "rating_all = []\n",
    "\n",
    "json_pattern = re.compile(r'\\{(?:[^{}]|(?R))*\\}')\n",
    "\n",
    "\n",
    "for batch in tqdm(data_loader, desc=\"Generating inference info for answers\"):\n",
    "\n",
    "    batch_data = batch['data']\n",
    "    batch_indices = batch['index'] #record the index for each sample to maintain the sequence\n",
    "\n",
    "    encodings = tokenizer(batch_data, padding=True, max_length=2048, truncation=True, return_tensors=\"pt\")\n",
    "    with torch.no_grad():\n",
    "        outputs = model.generate(\n",
    "            input_ids=encodings['input_ids'],\n",
    "            attention_mask=encodings['attention_mask'],\n",
    "            max_new_tokens=128,\n",
    "            do_sample=True,\n",
    "            top_p=0.9,\n",
    "            temperature=1,\n",
    "            use_cache=False,\n",
    "            top_k=50,\n",
    "            repetition_penalty=1,\n",
    "            length_penalty=1,\n",
    "        )\n",
    "\n",
    "    output_text_batch = [tokenizer.decode(x, skip_special_tokens=True) for x in outputs]\n",
    "    rating_batch = [None] * len(batch_data)\n",
    "    for idx, output_text in enumerate(output_text_batch):\n",
    "        # print(\"=\"*50 + \"\\n\")\n",
    "        # print(output_text)   \n",
    "        # print(\"=\"*50 + \"\\n\")\n",
    "\n",
    "        retry_count = 50\n",
    "        try:\n",
    "            while retry_count>0:\n",
    "                matches = json_pattern.findall(output_text)\n",
    "                if matches:\n",
    "                    try:\n",
    "                        # extract the json object\n",
    "                        json_obj = json.loads(matches[-1])\n",
    "                        # rating_batch[idx] = json.dumps(json_obj)\n",
    "                        rating_batch[idx] = [int(json_obj['Rarity']), int(json_obj['Complexity']), int(json_obj['Informativeness']), int(json_obj['Overall rating'])]\n",
    "                        break  \n",
    "                    except json.JSONDecodeError:\n",
    "                        print(f\"JSON Decode Error for batch data {batch_indices[idx]}\")\n",
    "                else:\n",
    "                    print(f\"No JSON match for batch data {batch_indices[idx]}, recalculating...\")\n",
    "\n",
    "                    with torch.no_grad():\n",
    "                        single_output = model.generate(\n",
    "                            input_ids=encodings['input_ids'],\n",
    "                            attention_mask=encodings['attention_mask'],\n",
    "                            max_new_tokens=128,\n",
    "                            do_sample=True,\n",
    "                            top_p=0.9,\n",
    "                            temperature=1,\n",
    "                            use_cache=False,\n",
    "                            top_k=50,\n",
    "                            repetition_penalty=1,\n",
    "                            length_penalty=1,\n",
    "                        )\n",
    "\n",
    "                    output_text = tokenizer.decode(single_output[0], skip_special_tokens=True)\n",
    "                retry_count -= 1\n",
    "                \n",
    "        except Exception as exc:\n",
    "            print(f'{batch_indices[idx]} generated an exception: {exc}')\n",
    "\n",
    "        results.append((batch_indices[idx], rating_batch[idx] if rating_batch[idx] is not None else [0,0,0,0]))\n",
    "\n",
    "        rating_all.extend(rating_batch)\n",
    "        print(f\"Unlabeled samples size of each batch: {rating_batch.count(None)}\")\n",
    "\n",
    "    del encodings, output_text_batch, batch\n",
    "    torch.cuda.empty_cache()\n",
    "\n",
    "\n",
    "print(f\"All unlabeled samples: {rating_all.count(None)}\")\n",
    "\n",
    "from collections import Counter\n",
    "rating_all_revise = [rating[-1] for rating in rating_all if rating is not None]\n",
    "print(f\"Score distribution: {Counter(rating_all_revise)}\")\n",
    "\n",
    "\n",
    "\n",
    "label_all = [label[-1] for label in output_labels]\n",
    "print(f\"Final scores: {label_all}\")\n",
    "\n",
    "print(f\"Final score distribution: {Counter(label_all)}\")\n",
    "\n",
    "\n"
   ]
  },
  {
   "cell_type": "markdown",
   "metadata": {},
   "source": [
    "## calculate the long tail score distribution"
   ]
  },
  {
   "cell_type": "code",
   "execution_count": 1,
   "metadata": {},
   "outputs": [
    {
     "name": "stderr",
     "output_type": "stream",
     "text": [
      "/home/jlpang/LLM_data_selection/venv/lib/python3.10/site-packages/tqdm/auto.py:21: TqdmWarning: IProgress not found. Please update jupyter and ipywidgets. See https://ipywidgets.readthedocs.io/en/stable/user_install.html\n",
      "  from .autonotebook import tqdm as notebook_tqdm\n",
      "/tmp/ipykernel_3505385/572632108.py:13: FutureWarning: You are using `torch.load` with `weights_only=False` (the current default value), which uses the default pickle module implicitly. It is possible to construct malicious pickle data which will execute arbitrary code during unpickling (See https://github.com/pytorch/pytorch/blob/main/SECURITY.md#untrusted-models for more details). In a future release, the default value for `weights_only` will be flipped to `True`. This limits the functions that could be executed during unpickling. Arbitrary objects will no longer be allowed to be loaded via this mode unless they are explicitly allowlisted by the user via `torch.serialization.add_safe_globals`. We recommend you start setting `weights_only=True` for any use case where you don't have full control of the loaded file. Please open an issue on GitHub for any issues related to this experimental feature.\n",
      "  reports = torch.load(report_path)\n"
     ]
    },
    {
     "name": "stdout",
     "output_type": "stream",
     "text": [
      "==== Docta: Doctor for your data. Current version: 0.2 ====\n"
     ]
    },
    {
     "data": {
      "image/png": "[encoded data removed]",
      "text/plain": [
       "<Figure size 800x600 with 1 Axes>"
      ]
     },
     "metadata": {},
     "output_type": "display_data"
    }
   ],
   "source": [
    "import os\n",
    "from datasets import load_dataset, concatenate_datasets\n",
    "import torch\n",
    "import numpy as np\n",
    "import matplotlib.pyplot as plt\n",
    "\n",
    "dataset_name='all_train'\n",
    "model_name=\"meta-llama/Meta-Llama-3.1-8B-Instruct\"\n",
    "dataset_size =10000\n",
    "# list = ['flan_v2', 'oasst1', 'wizardlm', 'dolly', 'stanford_alpaca']\n",
    "\n",
    "report_path = f\"./results-embedding-model-bge/{model_name}/{dataset_name}/{dataset_name}_report.pt\"\n",
    "reports = torch.load(report_path)\n",
    "\n",
    "subsets = {'flan_v2': 100000, 'oasst1': 33919, 'wizardlm': 100000, 'dolly':15011, 'stanford_alpaca':52002}\n",
    "\n",
    "\n",
    "\n",
    "rare_samples = reports.detection['rare_example'][:len(reports.detection['rare_example'])//2]\n",
    "\n",
    "long_tail_scores = [sample[-1]  for sample in rare_samples]\n",
    "bins = np.arange(0, max(long_tail_scores) + 0.004, 0.004)\n",
    "plt.figure(figsize=(8, 6))\n",
    "\n",
    "count = 0\n",
    "# for key, value in subsets.items():\n",
    "#     sub_long_tail_scores = long_tail_scores[count: count+value]\n",
    "#     # counts, _ = np.histogram(sub_long_tail_scores, bins)\n",
    "#     count += value\n",
    "#     plt.hist(sub_long_tail_scores, bins, alpha=0.5, label=f'Subset: {key}', edgecolor='gray')\n",
    "\n",
    "for key, value in subsets.items():\n",
    "    sub_long_tail_scores = long_tail_scores[count: count+value]\n",
    "    counts, _ = np.histogram(sub_long_tail_scores, bins)\n",
    "    count += value\n",
    "    plt.plot(bins[:-1], counts, alpha=1, linestyle='-.', label=f'Subset: {key}')\n",
    "    \n",
    "\n",
    "    \n",
    "plt.grid(alpha=0.3, linestyle='-')\n",
    "plt.title('Diversity score distribution')\n",
    "plt.xlabel('Diversity score value range', fontsize=20)\n",
    "plt.ylabel('Count',fontsize=20)\n",
    "plt.legend(loc='upper right', fontsize=20)\n",
    "plt.show()\n",
    "\n"
   ]
  },
  {
   "cell_type": "markdown",
   "metadata": {},
   "source": [
    "## Evaluate the diversity score's performance"
   ]
  },
  {
   "cell_type": "code",
   "execution_count": 16,
   "metadata": {},
   "outputs": [
    {
     "name": "stderr",
     "output_type": "stream",
     "text": [
      "/tmp/ipykernel_990954/863446268.py:13: FutureWarning: You are using `torch.load` with `weights_only=False` (the current default value), which uses the default pickle module implicitly. It is possible to construct malicious pickle data which will execute arbitrary code during unpickling (See https://github.com/pytorch/pytorch/blob/main/SECURITY.md#untrusted-models for more details). In a future release, the default value for `weights_only` will be flipped to `True`. This limits the functions that could be executed during unpickling. Arbitrary objects will no longer be allowed to be loaded via this mode unless they are explicitly allowlisted by the user via `torch.serialization.add_safe_globals`. We recommend you start setting `weights_only=True` for any use case where you don't have full control of the loaded file. Please open an issue on GitHub for any issues related to this experimental feature.\n",
      "  reports = torch.load(report_path)\n"
     ]
    },
    {
     "name": "stdout",
     "output_type": "stream",
     "text": [
      "../model_finetune/selected_data/meta-llama/Meta-Llama-3.1-8B-Instruct/flan_v2\n"
     ]
    },
    {
     "name": "stderr",
     "output_type": "stream",
     "text": [
      "Creating json from Arrow format: 100%|██████████| 10/10 [00:00<00:00, 34.52ba/s]\n",
      "Creating json from Arrow format: 100%|██████████| 10/10 [00:00<00:00, 25.91ba/s]\n"
     ]
    },
    {
     "name": "stdout",
     "output_type": "stream",
     "text": [
      "../model_finetune/selected_data/meta-llama/Meta-Llama-3.1-8B-Instruct/oasst1\n"
     ]
    },
    {
     "name": "stderr",
     "output_type": "stream",
     "text": [
      "Creating json from Arrow format: 100%|██████████| 10/10 [00:00<00:00, 24.22ba/s]\n",
      "Creating json from Arrow format: 100%|██████████| 10/10 [00:00<00:00, 37.92ba/s]\n"
     ]
    },
    {
     "name": "stdout",
     "output_type": "stream",
     "text": [
      "../model_finetune/selected_data/meta-llama/Meta-Llama-3.1-8B-Instruct/wizardlm\n"
     ]
    },
    {
     "name": "stderr",
     "output_type": "stream",
     "text": [
      "Creating json from Arrow format: 100%|██████████| 10/10 [00:00<00:00, 28.70ba/s]\n",
      "Creating json from Arrow format: 100%|██████████| 10/10 [00:00<00:00, 29.99ba/s]\n"
     ]
    },
    {
     "name": "stdout",
     "output_type": "stream",
     "text": [
      "../model_finetune/selected_data/meta-llama/Meta-Llama-3.1-8B-Instruct/dolly\n"
     ]
    },
    {
     "name": "stderr",
     "output_type": "stream",
     "text": [
      "Creating json from Arrow format: 100%|██████████| 10/10 [00:00<00:00, 49.69ba/s]\n",
      "Creating json from Arrow format: 100%|██████████| 10/10 [00:00<00:00, 45.25ba/s]\n"
     ]
    },
    {
     "name": "stdout",
     "output_type": "stream",
     "text": [
      "../model_finetune/selected_data/meta-llama/Meta-Llama-3.1-8B-Instruct/stanford_alpaca\n"
     ]
    },
    {
     "name": "stderr",
     "output_type": "stream",
     "text": [
      "Creating json from Arrow format: 100%|██████████| 10/10 [00:00<00:00, 51.39ba/s]\n",
      "Creating json from Arrow format: 100%|██████████| 10/10 [00:00<00:00, 50.37ba/s]\n"
     ]
    },
    {
     "data": {
      "text/plain": [
       "<Figure size 800x600 with 0 Axes>"
      ]
     },
     "metadata": {},
     "output_type": "display_data"
    }
   ],
   "source": [
    "import os\n",
    "from datasets import load_dataset, concatenate_datasets\n",
    "import torch\n",
    "import numpy as np\n",
    "import matplotlib.pyplot as plt\n",
    "\n",
    "dataset_name='all_train'\n",
    "model_name=\"meta-llama/Meta-Llama-3.1-8B-Instruct\"\n",
    "dataset_size =10000\n",
    "# list = ['flan_v2', 'oasst1', 'wizardlm', 'dolly', 'stanford_alpaca']\n",
    "\n",
    "report_path = f\"./results-embedding-model-bge/{model_name}/{dataset_name}/{dataset_name}_report.pt\"\n",
    "reports = torch.load(report_path)\n",
    "\n",
    "subsets = {'flan_v2': 100000, 'oasst1': 33919, 'wizardlm': 100000, 'dolly':15011, 'stanford_alpaca':52002}\n",
    "\n",
    "\n",
    "\n",
    "rare_samples = reports.detection['rare_example'][:len(reports.detection['rare_example'])//2]\n",
    "\n",
    "long_tail_scores = [sample[-1]  for sample in rare_samples]\n",
    "bins = np.arange(0, max(long_tail_scores) + 0.004, 0.004)\n",
    "plt.figure(figsize=(8, 6))\n",
    "\n",
    "dataset = load_dataset(\"json\", data_files='../full_dataset.json')['train']\n",
    "\n",
    "\n",
    "root_path = \"../model_finetune/selected_data/meta-llama/Meta-Llama-3.1-8B-Instruct/\"\n",
    "\n",
    "subset_scores = {}\n",
    "count = 0\n",
    "target_size = 10000\n",
    "for key, value in subsets.items():\n",
    "    subset_samples = rare_samples[count: count+value]\n",
    "    count += value\n",
    "    subset_samples = sorted(subset_samples, key = lambda x: x[1])\n",
    "    \n",
    "    low_diversity_idx = [sample[0] for sample in subset_samples[:target_size]]\n",
    "    high_diversity_idx = [sample[0] for sample in subset_samples[-target_size:]]\n",
    "    subset_scores[key] = (subset_samples[:target_size], subset_samples[-target_size:])\n",
    "\n",
    "    data_path  = os.path.join(root_path, key)\n",
    "    print(data_path)\n",
    "    if not os.path.exists(data_path):\n",
    "        os.mkdir(data_path)\n",
    "        \n",
    "    low_subset = dataset.select(low_diversity_idx)\n",
    "    low_subset.to_json(os.path.join(data_path, \"low_dataset.json\"))\n",
    "    \n",
    "    high_subset = dataset.select(high_diversity_idx)\n",
    "    high_subset.to_json(os.path.join(data_path, \"high_dataset.json\"))\n",
    "    \n",
    "    "
   ]
  },
  {
   "cell_type": "code",
   "execution_count": 4,
   "metadata": {},
   "outputs": [
    {
     "name": "stderr",
     "output_type": "stream",
     "text": [
      "/home/jlpang/LLM_data_selection/venv/lib/python3.10/site-packages/tqdm/auto.py:21: TqdmWarning: IProgress not found. Please update jupyter and ipywidgets. See https://ipywidgets.readthedocs.io/en/stable/user_install.html\n",
      "  from .autonotebook import tqdm as notebook_tqdm\n",
      "Generating train split: 10000 examples [00:00, 23149.40 examples/s]\n"
     ]
    }
   ],
   "source": [
    "\n",
    "import os\n",
    "from datasets import load_dataset, concatenate_datasets\n",
    "root_path = \"../model_finetune/selected_data/meta-llama/Meta-Llama-3.1-8B-Instruct/\"\n",
    "path = os.path.join(root_path, 'flan_v2', \"high_dataset.json\")\n",
    "\n",
    "dataset = load_dataset(\"json\", data_files=path)"
   ]
  },
  {
   "cell_type": "code",
   "execution_count": 8,
   "metadata": {},
   "outputs": [
    {
     "data": {
      "text/plain": [
       "10000"
      ]
     },
     "execution_count": 8,
     "metadata": {},
     "output_type": "execute_result"
    }
   ],
   "source": [
    "len(dataset['train'])"
   ]
  }
 ],
 "metadata": {
  "kernelspec": {
   "display_name": "venv",
   "language": "python",
   "name": "python3"
  },
  "language_info": {
   "codemirror_mode": {
    "name": "ipython",
    "version": 3
   },
   "file_extension": ".py",
   "mimetype": "text/x-python",
   "name": "python",
   "nbconvert_exporter": "python",
   "pygments_lexer": "ipython3",
   "version": "3.10.12"
  }
 },
 "nbformat": 4,
 "nbformat_minor": 2
}
