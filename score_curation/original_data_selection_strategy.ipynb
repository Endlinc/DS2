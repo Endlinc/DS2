{
 "cells": [
  {
   "cell_type": "markdown",
   "metadata": {},
   "source": [
    "## Check this original data form"
   ]
  },
  {
   "cell_type": "code",
   "execution_count": null,
   "metadata": {},
   "outputs": [],
   "source": [
    "import json\n",
    "import gzip\n",
    "\n",
    "path = \"/home/azureuser/cloudfiles/code/Users/jinlong.pang/docta/data/hh-rlhf/harmless-base/test.jsonl.gz\"\n",
    "\n",
    "all_data = []\n",
    "invalid_lines = 0\n",
    "\n",
    "with gzip.open(path, 'rt', encoding='utf-8') as f:\n",
    "    for line in f:\n",
    "        line = line.strip()  \n",
    "        if not line:\n",
    "            continue  \n",
    "\n",
    "        try:\n",
    "            data = json.loads(line)\n",
    "            all_data.append(data)\n",
    "            print(data) \n",
    "        except json.JSONDecodeError as e:\n",
    "            print(f\"Invalid JSON line: {line}\")\n",
    "            invalid_lines += 1\n",
    "\n",
    "print(f\"Total invalid lines skipped: {invalid_lines}\")\n",
    "print(f\"Total valid lines processed: {len(all_data)}\")\n"
   ]
  },
  {
   "cell_type": "markdown",
   "metadata": {},
   "source": [
    "# Check the Tulu data form"
   ]
  },
  {
   "cell_type": "code",
   "execution_count": null,
   "metadata": {},
   "outputs": [],
   "source": [
    "from datasets import load_dataset\n",
    "\n",
    "data = load_dataset(\"allenai/tulu-v2-sft-mixture\")"
   ]
  },
  {
   "cell_type": "code",
   "execution_count": 13,
   "metadata": {},
   "outputs": [
    {
     "name": "stdout",
     "output_type": "stream",
     "text": [
      "Dataset flan_v2: Counter({4: 25861, 3: 14717, 2: 5575, 1: 1140, 0: 1056, 5: 719, None: 37, -1: 18})\n"
     ]
    }
   ],
   "source": [
    "import torch\n",
    "from collections import Counter\n",
    "import  matplotlib.pyplot as plt\n",
    "import os\n",
    "\n",
    "##full dataset\n",
    "# dataset_list = ['wizardlm', 'lima', 'flan_v2', 'code_alpaca', 'cot', 'oasst1', 'open_orca', 'science.evidence_inference', 'science.qasper_truncated_4000', 'science.scifact_json', 'science.scitldr_aic', 'science.scierc_ner', 'science.scierc_relation' ,'hard_coded', 'sharegpt'] \n",
    "\n",
    "dataset_list=['flan_v2']\n",
    "\n",
    "# model_name=\"meta/llama-3.1-8b-instruct\"\n",
    "model_name='google/gemma-2-9b-it'\n",
    "\n",
    "for dataset_name in dataset_list:\n",
    "    path = f\"./data/{model_name}/{dataset_name}/\"\n",
    "    orginal_data_path = f\"./logs-api/{model_name}/{dataset_name}/\"\n",
    "\n",
    "    if not os.path.exists(path):\n",
    "        os.makedirs(path)\n",
    "\n",
    "    original_labels = torch.load(orginal_data_path +'total_output_labels.pt')\n",
    "    label_counts = Counter(original_labels)\n",
    "    print(f\"Dataset {dataset_name}: {label_counts}\")"
   ]
  },
  {
   "cell_type": "code",
   "execution_count": 6,
   "metadata": {},
   "outputs": [
    {
     "name": "stdout",
     "output_type": "stream",
     "text": [
      "总共加载了 326154 个标签。\n",
      "Dataset TULU: Counter({5: 179080, 4: 60095, 3: 33984, 1: 25314, 2: 24678, -1: 2862, 0: 141})\n"
     ]
    }
   ],
   "source": [
    "import os\n",
    "import torch\n",
    "from collections import Counter\n",
    "\n",
    "# List of dataset names\n",
    "DATASET_LIST = [\n",
    "    'flan_v2', 'cot', 'oasst1', 'lima', 'gpt4_alpaca', 'code_alpaca',\n",
    "    'sharegpt', 'wizardlm', 'open_orca', 'science.evidence_inference',\n",
    "    'science.qasper_truncated_4000', 'science.scifact_json', 'science.scitldr_aic',\n",
    "    'science.scierc_ner', 'science.scierc_relation', 'hard_coded'\n",
    "]\n",
    "\n",
    "# Base directory where the labels are stored\n",
    "base_dir = './output/meta-llama/Meta-Llama-3.1-8B-Instruct/'\n",
    "\n",
    "# List to store all labels across datasets\n",
    "all_labels = []\n",
    "\n",
    "# Loop through each dataset to load and count labels\n",
    "for dataset in DATASET_LIST:\n",
    "    labels_path = os.path.join(base_dir, dataset, 'output_labels.pt')\n",
    "    \n",
    "    if os.path.exists(labels_path):\n",
    "        labels = torch.load(labels_path)  # Load labels if file exists\n",
    "        all_labels.extend(labels)  # Append labels to the main list\n",
    "        label_counts = Counter(all_labels)  # Count label frequencies\n",
    "        print(f\"dataset: {dataset}: {label_counts}\")\n",
    "    else:\n",
    "        print(f\"File not found: {labels_path}\")\n",
    "\n",
    "# Print total number of labels loaded\n",
    "print(f\"Total labels loaded: {len(all_labels)}\")\n",
    "\n",
    "# Save all collected labels to a single file\n",
    "output_file = os.path.join(base_dir, 'all_output_labels.pt')\n",
    "torch.save(all_labels, output_file)\n",
    "\n",
    "# Count and print label frequencies for the combined dataset\n",
    "label_counts = Counter(all_labels)\n",
    "print(f\"Total label counts across datasets: {label_counts}\")\n"
   ]
  },
  {
   "cell_type": "markdown",
   "metadata": {},
   "source": [
    "## 1. Check the labels from LLMs and adjust the labels "
   ]
  },
  {
   "cell_type": "code",
   "execution_count": 23,
   "metadata": {},
   "outputs": [
    {
     "name": "stdout",
     "output_type": "stream",
     "text": [
      "Dataset flan_v2: Counter({5: 14378, 3: 10693, 4: 9011, 2: 7392, 1: 5625, -1: 1921, 0: 103})\n",
      "Dataset flan_v2: Revised Counter({5: 14378, 3: 10693, 4: 9011, 2: 7392, 1: 5625, 0: 2024}) \n",
      "\n"
     ]
    },
    {
     "data": {
      "image/png": "[encoded data removed]",
      "text/plain": [
       "<Figure size 800x600 with 1 Axes>"
      ]
     },
     "metadata": {},
     "output_type": "display_data"
    }
   ],
   "source": [
    "import torch\n",
    "from collections import Counter\n",
    "import  matplotlib.pyplot as plt\n",
    "import os\n",
    "\n",
    "##full dataset\n",
    "# dataset_list = ['wizardlm', 'lima', 'flan_v2', 'code_alpaca', 'cot', 'oasst1', 'open_orca', 'science.evidence_inference', 'science.qasper_truncated_4000', 'science.scifact_json', 'science.scitldr_aic', 'science.scierc_ner', 'science.scierc_relation' ,'hard_coded', 'sharegpt'] #, 'sharegpt'\n",
    "\n",
    "dataset_list=['flan_v2']\n",
    "\n",
    "model_name=\"meta/llama-3.1-8b-instruct\"\n",
    "# model_name='google/gemma-2-9b-it'\n",
    "# model_name= \"mistralai/mixtral-8x22b-instruct-v0.1\"\n",
    "\n",
    "\n",
    "\n",
    "for dataset_name in dataset_list:\n",
    "    path = f\"./data/{model_name}/{dataset_name}/\"\n",
    "    orginal_data_path = f\"./logs-api/{model_name}/{dataset_name}/\"\n",
    "\n",
    "    if not os.path.exists(path):\n",
    "        os.makedirs(path)\n",
    "\n",
    "    original_labels = torch.load(orginal_data_path +'total_output_labels_best.pt')\n",
    "\n",
    "    label_counts = Counter(original_labels)\n",
    "    print(f\"Dataset {dataset_name}: {label_counts}\")\n",
    "\n",
    "\n",
    "    labels_revised = []\n",
    "    for label in original_labels:\n",
    "        if label == None or label == -1 or label > 5:\n",
    "            labels_revised.append(0)\n",
    "        else:\n",
    "            labels_revised.append(label)\n",
    "\n",
    "    label_counts_revised = Counter(labels_revised)\n",
    "    print(f\"Dataset {dataset_name}: Revised {label_counts_revised} \\n\")\n",
    "\n",
    "    torch.save(labels_revised, path + \"output_labels_revised.pt\")\n",
    "\n",
    "    plt.figure(figsize=(8, 6))\n",
    "    keys_revised = list(label_counts_revised.keys())\n",
    "    values_revised = list(label_counts_revised.values())\n",
    "    plt.bar(keys_revised, values_revised, edgecolor='black')\n",
    "    plt.title(f'Rating score distribution ({dataset_name})', fontsize=16)\n",
    "\n",
    "    plt.xlabel('Scores', fontsize=16)\n",
    "    plt.ylabel('Count',fontsize=16)\n",
    "    plt.xticks(keys_revised) \n",
    "    plt.show()"
   ]
  },
  {
   "cell_type": "markdown",
   "metadata": {},
   "source": [
    "## 2. Check the labeling report"
   ]
  },
  {
   "cell_type": "code",
   "execution_count": null,
   "metadata": {},
   "outputs": [],
   "source": [
    "### run the code and check the report\n",
    "\n",
    "# bash diagnose_tulu.sh"
   ]
  },
  {
   "cell_type": "code",
   "execution_count": 39,
   "metadata": {},
   "outputs": [],
   "source": [
    "import torch\n",
    "\n",
    "reports = torch.load(\"score_curation/results/alignment_tulu/alignment_tulu_report.pt\")"
   ]
  },
  {
   "cell_type": "code",
   "execution_count": 40,
   "metadata": {},
   "outputs": [
    {
     "data": {
      "text/plain": [
       "dict_keys(['label_curation', 'sampling_strategy', 'feature_curation'])"
      ]
     },
     "execution_count": 40,
     "metadata": {},
     "output_type": "execute_result"
    }
   ],
   "source": [
    "reports.detection.keys()\n",
    "reports.curation.keys()"
   ]
  },
  {
   "cell_type": "code",
   "execution_count": 22,
   "metadata": {},
   "outputs": [],
   "source": [
    "### report structure\n",
    "\n",
    "{\n",
    "    'names': {\n",
    "        'diagnose': {\n",
    "            'T': None, # square matrix\n",
    "            'p_clean': None,  # row vector\n",
    "            'p_org': None,  # row vector\n",
    "            'class_distribution': None,  # histogram\n",
    "            'group_distribution': None,  # histogram      \n",
    "        },\n",
    "        'detection': {\n",
    "            'label_error': None, # (index, confidence)\n",
    "            'coexistence': None, # (index, confidence)\n",
    "            'rare_example': None, # (index, confidence)\n",
    "        },\n",
    "        'curation': {\n",
    "            'label_curation':  None, # (index, suggested_label, confidence)\n",
    "            'sampling_strategy': None, # (index, suggested_sample)\n",
    "            'feature_curation': None, # (index, suggested_feature)      \n",
    "        },\n",
    "        'audition': {\n",
    "            'model_perf': None, # (head_perf, tail_perf, overall_perf). \n",
    "            'fairness':  None, # (group_vec, performance_vec), disparity  \n",
    "            'stress_test': None, # model_perf after distribution shift\n",
    "        }\n",
    "    }\n",
    "}\n"
   ]
  },
  {
   "cell_type": "markdown",
   "metadata": {},
   "source": [
    "### 2.1 Print Noise Transition Matrix"
   ]
  },
  {
   "cell_type": "code",
   "execution_count": 20,
   "metadata": {},
   "outputs": [
    {
     "data": {
      "image/png": "[encoded data removed]",
      "text/plain": [
       "<Figure size 800x600 with 2 Axes>"
      ]
     },
     "metadata": {},
     "output_type": "display_data"
    }
   ],
   "source": [
    "import matplotlib.pyplot as plt\n",
    "import seaborn as sns\n",
    "import numpy as np\n",
    "import torch\n",
    "\n",
    "# Specify dataset and model name\n",
    "dataset_name = 'flan_v2'\n",
    "model_name = \"meta/llama-3.1-8b-instruct\"\n",
    "\n",
    "# Load report file containing the transition matrix\n",
    "report_path = f\"score_curation/results/tulu_{dataset_name}/tulu_{dataset_name}_report.pt\"\n",
    "reports = torch.load(report_path)\n",
    "\n",
    "# Access the transition matrix data\n",
    "data = reports.diagnose['T']\n",
    "\n",
    "# Set the figure size for better readability\n",
    "plt.figure(figsize=(8, 6))\n",
    "\n",
    "# Plot heatmap using seaborn\n",
    "sns.heatmap(data, annot=True, fmt=\".2f\", cmap=\"YlGnBu\")\n",
    "\n",
    "# Add title and labels for clarity\n",
    "plt.title(f'Label transition matrix ({dataset_name})', fontsize=18)\n",
    "plt.xlabel('Scores', fontsize=18)\n",
    "plt.ylabel('Scores', fontsize=18)\n",
    "\n",
    "# Display the plot\n",
    "plt.show()\n"
   ]
  },
  {
   "cell_type": "markdown",
   "metadata": {},
   "source": [
    "# 3 Generate small-scale dataset\n",
    "\n",
    "- Step 1: We first do label-wise samples and directly fiter out low-rated samples\n",
    "- Step 2: calculate the long-tail score for the remaining samples# 3 Generate small-scale dataset"
   ]
  },
  {
   "cell_type": "code",
   "execution_count": 2,
   "metadata": {},
   "outputs": [
    {
     "name": "stderr",
     "output_type": "stream",
     "text": [
      "/home/azureuser/.local/lib/python3.8/site-packages/tqdm/auto.py:21: TqdmWarning: IProgress not found. Please update jupyter and ipywidgets. See https://ipywidgets.readthedocs.io/en/stable/user_install.html\n",
      "  from .autonotebook import tqdm as notebook_tqdm\n"
     ]
    },
    {
     "name": "stdout",
     "output_type": "stream",
     "text": [
      "==== Docta: Doctor for your data. Current version: 0.2 ====\n",
      "cured sample size: 1491\n",
      "corrupted_samples_total: 9273\n",
      "label size: 49123\n",
      "Label: 0, Count: 577\n",
      "Label: 1, Count: 5613\n",
      "Label: 2, Count: 15986\n",
      "Label: 3, Count: 15935\n",
      "Label: 4, Count: 5926\n",
      "Label: 5, Count: 5086\n",
      "label_wise_filter_out_samples: 9273\n",
      "Size of the remaining samples with high quality: 39850\n",
      "Size of the filtered dataset: 6640\n"
     ]
    },
    {
     "name": "stderr",
     "output_type": "stream",
     "text": [
      "Creating json from Arrow format: 100%|███████████████████████████████████████████████████████████████████████████████████████████████████████████████████████████████████████████████████████████████████████████████████████████████████████████████████████████████████████████████████████████████████████████████████████████████████████████████████████████████████████████████████████████████████████████████████████████████████████████████████████████████████████████████████████████████████████████████████████████████████████████████████████████████████████████████████████████████████████████████████████████████████████████████████████████████████████████████████████████████████████████████████████████████████████████████████████████████████████████████████████████████████████████████████████████████████████████████████████████████████████████████████████████████████████████████████████████████████████████████████████████████████████████████████████████████████| 7/7 [00:00<00:00, 30.06ba/s]\n"
     ]
    },
    {
     "name": "stdout",
     "output_type": "stream",
     "text": [
      "output_json_path: data/meta/llama-3.1-8b-instruct/flan_v2/filtered_dataset.json\n",
      "\n",
      " Start creating the random-select dataset!\n",
      "full data size: 49123; random selected size: 6640!!!\n"
     ]
    },
    {
     "name": "stderr",
     "output_type": "stream",
     "text": [
      "Creating json from Arrow format: 100%|███████████████████████████████████████████████████████████████████████████████████████████████████████████████████████████████████████████████████████████████████████████████████████████████████████████████████████████████████████████████████████████████████████████████████████████████████████████████████████████████████████████████████████████████████████████████████████████████████████████████████████████████████████████████████████████████████████████████████████████████████████████████████████████████████████████████████████████████████████████████████████████████████████████████████████████████████████████████████████████████████████████████████████████████████████████████████████████████████████████████████████████████████████████████████████████████████████████████████████████████████████████████████████████████████████████████████████████████████████████████████████████████████████████████████████████████████| 7/7 [00:00<00:00, 40.39ba/s]\n"
     ]
    },
    {
     "data": {
      "text/plain": [
       "16225980"
      ]
     },
     "execution_count": 2,
     "metadata": {},
     "output_type": "execute_result"
    }
   ],
   "source": [
    "import torch \n",
    "import random\n",
    "import numpy as np\n",
    "from datasets import load_dataset\n",
    "\n",
    "random.seed(42)\n",
    "\n",
    "dataset_name ='flan_v2'\n",
    "model_name=\"meta/llama-3.1-8b-instruct\"\n",
    "\n",
    "\n",
    "## label curation reports\n",
    "report_path = f\"score_curation/results/tulu_{dataset_name}/tulu_{dataset_name}_report.pt\"\n",
    "\n",
    "reports = torch.load(report_path)\n",
    "\n",
    "'''Part 1 (label-wise): label curation'''\n",
    "### choose the data index that needed to be remove\n",
    "corrupted_samples = [x[0] for x in reports.detection['label_error']]\n",
    "\n",
    "##  samples that can be cured\n",
    "cured_samples = []\n",
    "cured_sample_labels = []\n",
    "for sample in reports.curation['label_curation']: ##(idx, label, confidence)\n",
    "    if sample[2] >= 0.75: #confidence prob;0.75\n",
    "        cured_samples.append(sample[0])\n",
    "        cured_sample_labels.append((sample[0], sample[1]))\n",
    "\n",
    "\n",
    "\n",
    "print(f\"cured sample size: {len(cured_sample_labels)}\")\n",
    "\n",
    "\n",
    "#filter out some cured samples from corrupted instances\n",
    "cured_samples_set = set(cured_samples)\n",
    "corrupted_samples_total = [x for x in corrupted_samples if x not in cured_samples_set]\n",
    "\n",
    "print(f\"corrupted_samples_total: {len(corrupted_samples_total)}\")\n",
    "\n",
    "\n",
    "# change the original labels to the suggested label\n",
    "root_path = f\"data/{model_name}/{dataset_name}/\"\n",
    "\n",
    "labels = torch.load(root_path + \"output_labels_revised.pt\")\n",
    "\n",
    "for sample_label in cured_sample_labels:\n",
    "    labels[sample_label[0]] = sample_label[1]\n",
    "print(f\"label size: {len(labels)}\")\n",
    "\n",
    "## select high-quality samples based on the quality labels\n",
    "labels = np.array(labels)\n",
    "unique_labels, counts = np.unique(labels, return_counts=True)\n",
    "\n",
    "for label, count in zip(unique_labels, counts):\n",
    "    print(f\"Label: {label}, Count: {count}\")\n",
    "###filter out the low-quality samples\n",
    "\n",
    "low_quality_label_idx = []\n",
    "for idx, label in enumerate(labels):\n",
    "    ####################### select labels  ########################\n",
    "    if label<4: \n",
    "        low_quality_label_idx.append(idx)\n",
    "    elif label == 3 and random.random() >= 0.5:\n",
    "        low_quality_label_idx.append(idx)\n",
    "\n",
    "\n",
    "\n",
    "\n",
    "label_wise_filter_out_samples = set(low_quality_label_idx + corrupted_samples_total)\n",
    "\n",
    "\n",
    "print(f\"label_wise_filter_out_samples: {len(label_wise_filter_out_samples)}\")\n",
    "\n",
    "'''Part-2 (feature-wise): handle the rare example'''\n",
    "\n",
    "rare_samples = reports.detection['rare_example'][:len(reports.detection['rare_example'])//2]\n",
    "rare_samples_filtered = [[sample[0], sample[1]] for sample in rare_samples if sample[0] not in set(label_wise_filter_out_samples)] \n",
    "\n",
    "\n",
    "print(f\"Size of the remaining samples with high quality: {len(rare_samples_filtered)}\")\n",
    "\n",
    "long_tail_scores = np.array(rare_samples_filtered)[:,1]\n",
    "\n",
    "\n",
    "bins = np.arange(0, max(long_tail_scores)+0.01, 0.01) \n",
    "\n",
    "counts, _ = np.histogram(long_tail_scores, bins)\n",
    "\n",
    "\n",
    "threshold = 530   ## the random threshold for feature-wise\n",
    "\n",
    "remaining_samples_indices = []\n",
    "\n",
    "for i in range(len(bins) - 1):\n",
    "    indices_in_bin = np.where((long_tail_scores >= bins[i]) & (long_tail_scores < bins[i+1]))[0]\n",
    "    \n",
    "    if counts[i] > threshold:\n",
    "        indices_in_bin = random.sample(list(indices_in_bin), threshold)\n",
    "    \n",
    "    remaining_samples_indices.extend(indices_in_bin)\n",
    "\n",
    "\n",
    "remaining_samples_idx = np.array(rare_samples_filtered, dtype=int)[remaining_samples_indices, 0]\n",
    "remaining_samples_idx_1 = remaining_samples_idx\n",
    "# long_tail_scores_filtered = long_tail_scores[remaining_samples_idx]\n",
    "long_tail_scores_filtered = np.array(rare_samples_filtered)[remaining_samples_indices, 1]\n",
    "\n",
    "\n",
    "print(\"Size of the filtered dataset:\", len(remaining_samples_idx))\n",
    "\n",
    "'''filter out the corrupted samples and reconstruct the dataset'''\n",
    "\n",
    "### the parquet data path\n",
    "open_instruct_path = './data_refine/tulu_split_parquet/'\n",
    "\n",
    "dataset_path = open_instruct_path + f\"{dataset_name}.parquet\"\n",
    "\n",
    "data = load_dataset('parquet', data_files=dataset_path)\n",
    "filtered_dialogs = data['train'].select(remaining_samples_idx)\n",
    "\n",
    "filtered_labels = np.array(labels)[remaining_samples_idx].tolist()\n",
    "torch.save(filtered_labels, root_path + \"filtered_output_labels.pt\")\n",
    "\n",
    "assert len(filtered_dialogs) == len(filtered_labels)\n",
    "\n",
    "\n",
    "\n",
    "output_json_path = root_path + f\"filtered_dataset.json\"  ## the json form is for fune-tunning\n",
    "filtered_dialogs.to_json(output_json_path)\n",
    "\n",
    "print(f\"output_json_path: {output_json_path}\")\n",
    "\n",
    "###############################################\n",
    "# random baseline\n",
    "print(\"\\n Start creating the random-select dataset!\")\n",
    "full_data_size = len(labels)\n",
    "data_size = len(filtered_labels)\n",
    "\n",
    "\n",
    "\n",
    "\n",
    "print(f\"full data size: {full_data_size}; random selected size: {data_size}!!!\")\n",
    "\n",
    "random_samples_idx = random.sample(list(range(full_data_size)), data_size)\n",
    "\n",
    "random_dialogs = data['train'].select(random_samples_idx)\n",
    "output_json_path = root_path + f\"random_dataset.json\"  ## the json form is for fune-tunning\n",
    "random_dialogs.to_json(output_json_path)\n",
    "\n"
   ]
  },
  {
   "cell_type": "markdown",
   "metadata": {},
   "source": [
    "# 3.* New method for generating small-scale dataset\n",
    "\n",
    "- Findings: From the current experiments, we found that simply filter out low-rated samples will hurt the representation because the low-rated samples may be still rare.\n",
    "\n",
    "\n",
    "New selection strategy is here: **first compare the long-tail distribution between selecting high-rated sample before and after to verify that the long-tail distribution is hurting by directly fiter out the low-rated samples**\n",
    "\n",
    "- Step 1: directly generate a long-tail distribution\n",
    "- Step 2: for each interval, rather than random filter out samples, we select the high-rated samples util reaching the threshold\n",
    "- Step 3: based on this, we can further do some label curation on this, which serves as one incremental technique.\n"
   ]
  },
  {
   "cell_type": "code",
   "execution_count": 9,
   "metadata": {},
   "outputs": [
    {
     "name": "stdout",
     "output_type": "stream",
     "text": [
      "cured sample size: 1236\n",
      "corrupted_samples_total: 10351\n",
      "label size: 49123\n",
      "Label: 0, Count: 1899\n",
      "Label: 1, Count: 5447\n",
      "Label: 2, Count: 7298\n",
      "Label: 3, Count: 10565\n",
      "Label: 4, Count: 8915\n",
      "Label: 5, Count: 14999\n",
      "label_wise_filter_out_samples: 10351\n",
      "Size of the remaining samples with high quality: 49123\n",
      "threshold - len(high_quality_indices_in_bin: 355;;; len_low: 1557\n",
      "threshold - len(high_quality_indices_in_bin: 592;;; len_low: 818\n",
      "Size of the filtered dataset: 6639\n"
     ]
    },
    {
     "name": "stderr",
     "output_type": "stream",
     "text": [
      "Creating json from Arrow format: 100%|███████████████████████████████████████████████████████████████████████████████████████████████████████████████████████████████████████████████████████████████████████████████████████████████████████████████████████████████████████████████████████████████████████████████████████████████████████████████████████████████████████████████████████████████████████████████████████████████████████████████████████████████████████████████████████████████████████████████████████████████████████████████████████████████████████████████████████████████████████████████████████████████████████████████████████████████████████████████████████████████████████████████████████████████████████████████████████████████████████████████████████████████████████████████████████████████████████████████████████████████████████████████████████████████████████████████████████████████████████████████████████████████████████████████████████████████████| 7/7 [00:00<00:00, 29.87ba/s]\n"
     ]
    },
    {
     "name": "stdout",
     "output_type": "stream",
     "text": [
      "output_json_path: data/meta/llama-3.1-8b-instruct/flan_v2/filtered_dataset.json\n",
      "\n",
      " Start creating the random-select dataset!\n",
      "full data size: 49123; random selected size: 6639!!!\n"
     ]
    },
    {
     "name": "stderr",
     "output_type": "stream",
     "text": [
      "Creating json from Arrow format: 100%|███████████████████████████████████████████████████████████████████████████████████████████████████████████████████████████████████████████████████████████████████████████████████████████████████████████████████████████████████████████████████████████████████████████████████████████████████████████████████████████████████████████████████████████████████████████████████████████████████████████████████████████████████████████████████████████████████████████████████████████████████████████████████████████████████████████████████████████████████████████████████████████████████████████████████████████████████████████████████████████████████████████████████████████████████████████████████████████████████████████████████████████████████████████████████████████████████████████████████████████████████████████████████████████████████████████████████████████████████████████████████████████████████████████████████████████████████| 7/7 [00:00<00:00, 40.38ba/s]\n"
     ]
    },
    {
     "data": {
      "text/plain": [
       "16075646"
      ]
     },
     "execution_count": 9,
     "metadata": {},
     "output_type": "execute_result"
    }
   ],
   "source": [
    "import torch \n",
    "import random\n",
    "import numpy as np\n",
    "from datasets import load_dataset\n",
    "\n",
    "random.seed(42)\n",
    "\n",
    "dataset_name ='flan_v2'\n",
    "model_name=\"meta/llama-3.1-8b-instruct\"\n",
    "\n",
    "\n",
    "## label curation reports\n",
    "report_path = f\"score_curation/results/tulu_{dataset_name}/tulu_{dataset_name}_report.pt\"\n",
    "\n",
    "reports = torch.load(report_path)\n",
    "\n",
    "'''Part 1 (label-wise): label curation'''\n",
    "### choose the data index that needed to be remove\n",
    "corrupted_samples = [x[0] for x in reports.detection['label_error']]\n",
    "\n",
    "##  samples that can be cured\n",
    "cured_samples = []\n",
    "cured_sample_labels = []\n",
    "for sample in reports.curation['label_curation']: ##(idx, label, confidence)\n",
    "    if sample[2] >= 0.75: #confidence prob;0.75\n",
    "        cured_samples.append(sample[0])\n",
    "        cured_sample_labels.append((sample[0], sample[1]))\n",
    "\n",
    "\n",
    "\n",
    "print(f\"cured sample size: {len(cured_sample_labels)}\")\n",
    "\n",
    "\n",
    "#filter out some cured samples from corrupted instances\n",
    "cured_samples_set = set(cured_samples)\n",
    "corrupted_samples_total = [x for x in corrupted_samples if x not in cured_samples_set]\n",
    "\n",
    "print(f\"corrupted_samples_total: {len(corrupted_samples_total)}\")\n",
    "\n",
    "\n",
    "# change the original labels to the suggested label\n",
    "root_path = f\"data/{model_name}/{dataset_name}/\"\n",
    "\n",
    "labels = torch.load(root_path + \"output_labels_revised.pt\")\n",
    "\n",
    "for sample_label in cured_sample_labels:\n",
    "    labels[sample_label[0]] = sample_label[1]\n",
    "print(f\"label size: {len(labels)}\")\n",
    "\n",
    "## select high-quality samples based on the quality labels\n",
    "labels = np.array(labels)\n",
    "unique_labels, counts = np.unique(labels, return_counts=True)\n",
    "\n",
    "\n",
    "for label, count in zip(unique_labels, counts):\n",
    "    print(f\"Label: {label}, Count: {count}\")\n",
    "###filter out the low-quality samples\n",
    "\n",
    "low_quality_label_idx = []\n",
    "# for idx, label in enumerate(labels):\n",
    "#     ######################## select labels  ########################\n",
    "#     if label<4: \n",
    "#         low_quality_label_idx.append(idx)\n",
    "#     # elif label == 3 and random.random() >= 0.5:\n",
    "#     #     low_quality_label_idx.append(idx)\n",
    "\n",
    "\n",
    "\n",
    "\n",
    "label_wise_filter_out_samples = set(low_quality_label_idx + corrupted_samples_total)\n",
    "\n",
    "\n",
    "print(f\"label_wise_filter_out_samples: {len(label_wise_filter_out_samples)}\")\n",
    "\n",
    "'''Part-2 (feature-wise): handle the rare example'''\n",
    "\n",
    "rare_samples = reports.detection['rare_example'][:len(reports.detection['rare_example'])//2]\n",
    "# rare_samples_filtered = [[sample[0], sample[1]] for sample in rare_samples if sample[0] not in label_wise_filter_out_samples] \n",
    "rare_samples_filtered = [[sample[0], sample[1]] for sample in rare_samples] \n",
    "\n",
    "# rare_samples_filtered = [[sample[0], sample[1]] for sample in rare_samples if sample[0] not in set(label_wise_filter_out_samples)] \n",
    "\n",
    "\n",
    "print(f\"Size of the remaining samples with high quality: {len(rare_samples_filtered)}\")\n",
    "\n",
    "long_tail_scores = np.array(rare_samples_filtered)[:,1]\n",
    "\n",
    "bins = np.arange(0, max(long_tail_scores)+0.01, 0.01) \n",
    "\n",
    "\n",
    "counts, _ = np.histogram(long_tail_scores, bins)\n",
    "\n",
    "\n",
    "threshold = 850  ## the random threshold for feature-wise\n",
    "\n",
    "remaining_samples_indices = []\n",
    "\n",
    "\n",
    "\n",
    "filter_idx=5\n",
    "threshold = 915\n",
    "for i in range(len(bins) - 1):\n",
    "    \n",
    "    if i <filter_idx:\n",
    "\n",
    "        indices_in_bin = np.where((long_tail_scores >= bins[i]) & (long_tail_scores < bins[i+1]))[0]\n",
    "        similar_sample_idxs = random.sample(list(indices_in_bin), int(10 * 100 * bins[i]))\n",
    "\n",
    "        remaining_samples_indices.extend(similar_sample_idxs)\n",
    "    else:\n",
    "        indices_in_bin = np.where((long_tail_scores >= bins[i]) & (long_tail_scores < bins[i+1]))[0]\n",
    "        if counts[i] > threshold:\n",
    "\n",
    "            high_quality_indices_in_bin = [idx for idx in indices_in_bin if labels[rare_samples_filtered[idx][0]] == 5]\n",
    "\n",
    "            if len(high_quality_indices_in_bin) >= threshold:\n",
    "\n",
    "                high_quality_indices_in_bin = random.sample(list(high_quality_indices_in_bin), threshold)\n",
    "                remaining_samples_indices.extend(high_quality_indices_in_bin)\n",
    "\n",
    "            else:\n",
    "                low_quality_indices_in_bin = [idx for idx in indices_in_bin if labels[rare_samples_filtered[idx][0]] >= 3]\n",
    "                print(f\"threshold - len(high_quality_indices_in_bin: {threshold - len(high_quality_indices_in_bin)};;; len_low: {len(low_quality_indices_in_bin)}\")\n",
    "                low_quality_indices_in_bin = random.sample(list(low_quality_indices_in_bin), threshold - len(high_quality_indices_in_bin))\n",
    "                remaining_samples_indices.extend(high_quality_indices_in_bin + low_quality_indices_in_bin)\n",
    "\n",
    "        else:\n",
    "            remaining_samples_indices.extend(indices_in_bin)\n",
    "\n",
    "\n",
    "########################################################################################################################\n",
    "\n",
    "\n",
    "# for i in range(len(bins) - 1):\n",
    "#     indices_in_bin = np.where((long_tail_scores >= bins[i]) & (long_tail_scores < bins[i+1]))[0]\n",
    "#     if counts[i] > threshold:\n",
    "#         indices_in_bin = [idx for idx in indices_in_bin if idx not in label_wise_filter_out_samples] ## only remove the wrong-annotated samples if the sample size is too much, otherwise remain them.\n",
    "#         high_quality_indices_in_bin = [idx for idx in indices_in_bin if labels[rare_samples_filtered[idx][0]] >= 4]\n",
    "#         low_quality_indices_in_bin = [idx for idx in indices_in_bin if labels[rare_samples_filtered[idx][0]] <= 3]\n",
    "#         if len(high_quality_indices_in_bin) > threshold//2:\n",
    "#             high_quality_indices_in_bin = random.sample(list(high_quality_indices_in_bin), threshold//2) \n",
    "#         low_quality_indices_in_bin = random.sample(list(low_quality_indices_in_bin), threshold //2)\n",
    "\n",
    "#         remaining_samples_indices.extend(high_quality_indices_in_bin + low_quality_indices_in_bin)\n",
    "\n",
    "#     else:\n",
    "#         remaining_samples_indices.extend(indices_in_bin)\n",
    "\n",
    "########################################################################################################################\n",
    "# for i in range(len(bins) - 1):\n",
    "#     indices_in_bin = np.where((long_tail_scores >= bins[i]) & (long_tail_scores < bins[i+1]))[0]\n",
    "#     if counts[i] > threshold:\n",
    "#         new_indices_in_bin = random.sample(list(indices_in_bin), threshold)\n",
    "#         remaining_samples_indices.extend(new_indices_in_bin)\n",
    "\n",
    "#     else:\n",
    "#         remaining_samples_indices.extend(indices_in_bin)\n",
    "########################################################################################################################\n",
    "\n",
    "# label_to_indices = {i: [] for i in range(1, 6)}\n",
    "\n",
    "# for i in range(len(bins) - 1):\n",
    "#     indices_in_bin = np.where((long_tail_scores >= bins[i]) & (long_tail_scores < bins[i + 1]))[0]\n",
    "#     if counts[i] > threshold:\n",
    "#         \n",
    "#         for idx in indices_in_bin:\n",
    "#             label = labels[rare_samples_filtered[idx][0]]\n",
    "#             if 1 <= label <= 5:\n",
    "#                 label_to_indices[label].append(idx)\n",
    "        \n",
    "#         \n",
    "#         for label in range(3, 6):\n",
    "#             indices = label_to_indices[label]\n",
    "#             if len(indices) >= threshold // 3:\n",
    "#                 sampled_indices = random.sample(indices, threshold // 3)\n",
    "#             else:\n",
    "#                 sampled_indices = indices \n",
    "#             remaining_samples_indices.extend(sampled_indices)\n",
    "            \n",
    "########################################################################################################################\n",
    "\n",
    "remaining_samples_idx = np.array(rare_samples_filtered, dtype=int)[remaining_samples_indices, 0]\n",
    "remaining_samples_idx_2 = remaining_samples_idx\n",
    "# long_tail_scores_filtered = long_tail_scores[remaining_samples_idx]\n",
    "long_tail_scores_filtered = np.array(rare_samples_filtered)[remaining_samples_indices, 1]\n",
    "\n",
    "\n",
    "print(\"Size of the filtered dataset:\", len(remaining_samples_idx))\n",
    "\n",
    "'''filter out the corrupted samples and reconstruct the dataset'''\n",
    "\n",
    "###the parquet data path\n",
    "open_instruct_path = './data_refine/tulu_split_parquet/'\n",
    "\n",
    "dataset_path = open_instruct_path + f\"{dataset_name}.parquet\"\n",
    "\n",
    "data = load_dataset('parquet', data_files=dataset_path)\n",
    "filtered_dialogs = data['train'].select(remaining_samples_idx)\n",
    "\n",
    "filtered_labels = np.array(labels)[remaining_samples_idx].tolist()\n",
    "torch.save(filtered_labels, root_path + \"filtered_output_labels.pt\")\n",
    "\n",
    "assert len(filtered_dialogs) == len(filtered_labels)\n",
    "\n",
    "# output_path = root_path + \"data/flan_v2/filtered_flan_v2.parquet\"\n",
    "# filtered_dialogs.to_parquet(output_path)\n",
    "\n",
    "output_json_path = root_path + f\"filtered_dataset.json\"  ## the json form is for fune-tunning\n",
    "filtered_dialogs.to_json(output_json_path)\n",
    "\n",
    "print(f\"output_json_path: {output_json_path}\")\n",
    "\n",
    "###############################################\n",
    "# random baseline\n",
    "print(\"\\n Start creating the random-select dataset!\")\n",
    "full_data_size = len(labels)\n",
    "data_size = len(filtered_labels)\n",
    "\n",
    "# data_size = 3000\n",
    "\n",
    "print(f\"full data size: {full_data_size}; random selected size: {data_size}!!!\")\n",
    "\n",
    "random_samples_idx = random.sample(list(range(full_data_size)), data_size)\n",
    "random_dialogs = data['train'].select(random_samples_idx)\n",
    "output_json_path = root_path + f\"random_dataset.json\"  ## the json form is for fune-tunning\n",
    "random_dialogs.to_json(output_json_path)\n",
    "\n"
   ]
  },
  {
   "cell_type": "markdown",
   "metadata": {},
   "source": [
    "## 3.*-1 Baseline: select the high-rated samples.\n",
    "\n",
    "- Here, we select the samples with a rate 5."
   ]
  },
  {
   "cell_type": "code",
   "execution_count": 2,
   "metadata": {},
   "outputs": [
    {
     "name": "stdout",
     "output_type": "stream",
     "text": [
      "Label: 0, Count: 2024\n",
      "Label: 1, Count: 5625\n",
      "Label: 2, Count: 7392\n",
      "Label: 3, Count: 10693\n",
      "Label: 4, Count: 9011\n",
      "Label: 5, Count: 14378\n",
      "label_wise_filter_out_samples: 34745\n",
      "Size of the filtered dataset: 6668\n"
     ]
    },
    {
     "name": "stderr",
     "output_type": "stream",
     "text": [
      "Creating json from Arrow format: 100%|███████████████████████████████████████████████████████████████████████████████████████████████████████████████████████████████████████████████████████████████████████████████████████████████████████████████████████████████████████████████████████████████████████████████████████████████████████████████████████████████████████████████████████████████████████████████████████████████████████████████████████████████████████████████████████████████████████████████████████████████████████████████████████████████████████████████████████████████████████████████████████████████████████████████████████████████████████████████████████████████████████████████████████████████████████████████████████████████████████████████████████████████████████████████████████████████████████████████████████████████████████████████████████████████████████████████████████████████████████████████████████████████████████████████████████████████████| 7/7 [00:01<00:00,  4.57ba/s]\n"
     ]
    },
    {
     "name": "stdout",
     "output_type": "stream",
     "text": [
      "output_json_path: data/meta/llama-3.1-8b-instruct/flan_v2/label-filtered_dataset.json\n"
     ]
    }
   ],
   "source": [
    "import torch \n",
    "import random\n",
    "import numpy as np\n",
    "from datasets import load_dataset\n",
    "\n",
    "random.seed(42)\n",
    "\n",
    "dataset_name ='flan_v2'\n",
    "model_name=\"meta/llama-3.1-8b-instruct\"\n",
    "\n",
    "\n",
    "## label curation reports\n",
    "report_path = f\"score_curation/results/tulu_{dataset_name}/tulu_{dataset_name}_report.pt\"\n",
    "\n",
    "reports = torch.load(report_path)\n",
    "\n",
    "\n",
    "\n",
    "# change the original labels to the suggested label\n",
    "root_path = f\"data/{model_name}/{dataset_name}/\"\n",
    "\n",
    "labels = torch.load(root_path + \"output_labels_revised.pt\")\n",
    "\n",
    "\n",
    "## select high-quality samples based on the quality labels\n",
    "labels = np.array(labels)\n",
    "unique_labels, counts = np.unique(labels, return_counts=True)\n",
    "\n",
    "\n",
    "for label, count in zip(unique_labels, counts):\n",
    "    print(f\"Label: {label}, Count: {count}\")\n",
    "###filter out the low-quality samples\n",
    "\n",
    "low_quality_label_idx = []\n",
    "for idx, label in enumerate(labels):\n",
    "    ######################## select labels  ########################\n",
    "    if label<=4: \n",
    "        low_quality_label_idx.append(idx)\n",
    "    # elif label == 3 and random.random() >= 0.5:\n",
    "    #     low_quality_label_idx.append(idx)\n",
    "\n",
    "\n",
    "\n",
    "\n",
    "label_wise_filter_out_samples = set(low_quality_label_idx)\n",
    "\n",
    "\n",
    "print(f\"label_wise_filter_out_samples: {len(label_wise_filter_out_samples)}\")\n",
    "\n",
    "'''Part-2 (feature-wise): handle the rare example'''\n",
    "\n",
    "rare_samples = reports.detection['rare_example'][:len(reports.detection['rare_example'])//2]\n",
    "# rare_samples_filtered = [[sample[0], sample[1]] for sample in rare_samples if sample[0] not in label_wise_filter_out_samples] \n",
    "samples_filtered = [sample[0] for sample in rare_samples if sample[0] not in label_wise_filter_out_samples] \n",
    "\n",
    "\n",
    "remaining_samples_indices = []\n",
    "\n",
    "dataset_size = 6668\n",
    "if len(samples_filtered) >= dataset_size:\n",
    "    remaining_samples_indices = random.sample(list(samples_filtered), dataset_size)\n",
    "\n",
    "else:\n",
    "    high_quality_indices = [sample[0] for sample[0] in rare_samples if labels[sample[0]] == 4]\n",
    "    new_added_high_quality_indices = random.sample(list(high_quality_indices), dataset_size-len(samples_filtered))\n",
    "    remaining_samples_indices.extend(new_added_high_quality_indices)\n",
    "    remaining_samples_indices.extend(samples_filtered)\n",
    "\n",
    "########################################################################################################################\n",
    "\n",
    "\n",
    "remaining_samples_idx = np.array(remaining_samples_indices, dtype=int)\n",
    "\n",
    "\n",
    "print(\"Size of the filtered dataset:\", len(remaining_samples_idx))\n",
    "\n",
    "'''filter out the corrupted samples and reconstruct the dataset'''\n",
    "\n",
    "###the parquet data path\n",
    "open_instruct_path = './data_refine/tulu_split_parquet/'\n",
    "\n",
    "dataset_path = open_instruct_path + f\"{dataset_name}.parquet\"\n",
    "\n",
    "data = load_dataset('parquet', data_files=dataset_path)\n",
    "filtered_dialogs = data['train'].select(remaining_samples_idx)\n",
    "\n",
    "\n",
    "output_json_path = root_path + f\"label-filtered_dataset.json\"  ## the json form is for fune-tunning\n",
    "filtered_dialogs.to_json(output_json_path)\n",
    "\n",
    "print(f\"output_json_path: {output_json_path}\")\n",
    "\n",
    "###############################################\n",
    "\n",
    "\n"
   ]
  },
  {
   "cell_type": "markdown",
   "metadata": {},
   "source": [
    "## 3.*-1-1 New Baseline: select the high rated samples also with the diversity \n",
    "\n",
    "- From paper: what makes good data for alignment? a comprehensive study of automatic data selection in instruction tunning\n",
    "\n",
    "- Here, we implement an algorithm that repetitively calculate the embedding distance with the new sample, and select sample one by one using a threshold untill reach the data sample size.\n"
   ]
  },
  {
   "cell_type": "code",
   "execution_count": 4,
   "metadata": {},
   "outputs": [
    {
     "name": "stdout",
     "output_type": "stream",
     "text": [
      "Using device: cuda\n",
      "Preprocessing dataset...\n"
     ]
    },
    {
     "name": "stderr",
     "output_type": "stream",
     "text": [
      "Map: 100%|█████████████████████████████████████████████████████████████████████████████████████████████████████████████████████████████████████████████████████████████████████████████████████████████████████████████████████████████████████████████████████████████████████████████████████████████████████████████████████████████████████████████████████████████████████████████████████████████████████████████████████████████████████████████████████████████████████████████████████████████████████████████████████████████████████████████████████████████████████████████████████████████████████████████████████████████████████████████████████████████████████████████████████████████████████████████████████████████████████████████████████████████████████████████████████████████████████████████████████████████████████████████████████████████████████████████████████████████████████████████████████████████████████████████████████████████████████████████| 49123/49123 [00:03<00:00, 12765.01 examples/s]\n",
      "Map: 100%|████████████████████████████████████████████████████████████████████████████████████████████████████████████████████████████████████████████████████████████████████████████████████████████████████████████████████████████████████████████████████████████████████████████████████████████████████████████████████████████████████████████████████████████████████████████████████████████████████████████████████████████████████████████████████████████████████████████████████████████████████████████████████████████████████████████████████████████████████████████████████████████████████████████████████████████████████████████████████████████████████████████████████████████████████████████████████████████████████████████████████████████████████████████████████████████████████████████████████████████████████████████████████████████████████████████████████████████████████████████████████████████████████████████████████████████████████████████████| 49123/49123 [18:39<00:00, 43.88 examples/s]\n",
      "Creating parquet from Arrow format: 100%|██████████████████████████████████████████████████████████████████████████████████████████████████████████████████████████████████████████████████████████████████████████████████████████████████████████████████████████████████████████████████████████████████████████████████████████████████████████████████████████████████████████████████████████████████████████████████████████████████████████████████████████████████████████████████████████████████████████████████████████████████████████████████████████████████████████████████████████████████████████████████████████████████████████████████████████████████████████████████████████████████████████████████████████████████████████████████████████████████████████████████████████████████████████████████████████████████████████████████████████████████████████████████████████████████████████████████████████████████████████████████████████████████████████████████████████████| 50/50 [00:02<00:00, 21.81ba/s]\n"
     ]
    },
    {
     "name": "stdout",
     "output_type": "stream",
     "text": [
      "Embeddings saved to 'output_embeddings.parquet'\n"
     ]
    }
   ],
   "source": [
    "from datasets import load_dataset, Dataset\n",
    "from transformers import AutoTokenizer, AutoModel\n",
    "import torch\n",
    "import torch.nn.functional as F\n",
    "\n",
    "# Mean pooling to get sentence embeddings\n",
    "def mean_pooling(model_output, attention_mask):\n",
    "    token_embeddings = model_output[0]  # All token embeddings from model output\n",
    "    input_mask_expanded = attention_mask.unsqueeze(-1).expand(token_embeddings.size()).float()\n",
    "    return torch.sum(token_embeddings * input_mask_expanded, 1) / torch.clamp(input_mask_expanded.sum(1), min=1e-9)\n",
    "\n",
    "# Device configuration\n",
    "device = torch.device(\"cuda\" if torch.cuda.is_available() else \"cpu\")\n",
    "print(f\"Using device: {device}\")\n",
    "\n",
    "print(\"Preprocessing dataset...\")\n",
    "\n",
    "# Load dataset\n",
    "dataset_name = \"flan_v2\"\n",
    "open_instruct_path = './data_refine/tulu_split_parquet/'\n",
    "dataset_path = open_instruct_path + f\"{dataset_name}.parquet\"\n",
    "data = load_dataset('parquet', data_files=dataset_path)\n",
    "dialogs = data['train']\n",
    "inputs = []\n",
    "\n",
    "# Process dialogues into single conversation text\n",
    "def process_dialog(dialog):\n",
    "    conversation = \"\"\n",
    "    for message in dialog['messages']:\n",
    "        conversation += f\"### {message['role']}: {message['content']}\\n\"\n",
    "    return {\"features\": conversation}\n",
    "\n",
    "data['train'] = data['train'].map(process_dialog, batched=False)\n",
    "\n",
    "# Load pretrained model and tokenizer\n",
    "model_name = \"BAAI/bge-large-en-v1.5\"  # You can replace with other embedding models\n",
    "tokenizer = AutoTokenizer.from_pretrained(model_name)\n",
    "model = AutoModel.from_pretrained(model_name).to(device)\n",
    "\n",
    "# Define function to generate embeddings\n",
    "def embed_text(batch):\n",
    "    encoded_inputs = tokenizer(batch['features'], padding=True, truncation=True, return_tensors=\"pt\").to(device)\n",
    "    with torch.no_grad():\n",
    "        model_outputs = model(**encoded_inputs)\n",
    "\n",
    "    sentence_embeddings = mean_pooling(model_outputs, encoded_inputs['attention_mask'].to(device))\n",
    "    embeddings = F.normalize(sentence_embeddings, p=2, dim=1)  # Normalize embeddings\n",
    "\n",
    "    # Move embeddings to CPU and convert to saveable format\n",
    "    batch['embeddings'] = embeddings.cpu().numpy().tolist()\n",
    "    return batch\n",
    "\n",
    "# Process each item in the dataset to create embeddings\n",
    "data['train'] = data['train'].map(embed_text, batched=True, batch_size=512)\n",
    "\n",
    "# Save dataset with embeddings to a Parquet file\n",
    "data['train'].to_parquet(f'{dataset_name}_embeddings.parquet')\n",
    "print(f\"Embeddings saved to {dataset_name}_embeddings.parquet\")\n"
   ]
  },
  {
   "cell_type": "code",
   "execution_count": 6,
   "metadata": {},
   "outputs": [],
   "source": [
    "from datasets import load_dataset\n",
    "\n",
    "embedding_dataset = load_dataset(\"parquet\", data_files=f\"{dataset_name}_embeddings.parquet\")['train']\n",
    "embedding_dataset"
   ]
  },
  {
   "cell_type": "code",
   "execution_count": 9,
   "metadata": {},
   "outputs": [
    {
     "name": "stderr",
     "output_type": "stream",
     "text": [
      "Processing high-quality samples (label=5):  46%|███████████████████████████████████████████████████████████████████████████████████████████████████████████████████████████████████████████████████████████████████████████████████████████████████████████████████████████████████████████████████████████████████████████████████████████████████████████████████████████████████████████████████████████████████████████████████████████████████████████████████████████████████                                                                                                                                                                                                                                                                                                                                                                                                                                                                                                              | 6599/14378 [00:59<01:09, 111.59it/s]\n"
     ]
    },
    {
     "name": "stdout",
     "output_type": "stream",
     "text": [
      "current selected data size: 6600; still need select sample from 4-rated sampels\n",
      "selected data size: 6600\n"
     ]
    },
    {
     "name": "stderr",
     "output_type": "stream",
     "text": [
      "Creating json from Arrow format: 100%|███████████████████████████████████████████████████████████████████████████████████████████████████████████████████████████████████████████████████████████████████████████████████████████████████████████████████████████████████████████████████████████████████████████████████████████████████████████████████████████████████████████████████████████████████████████████████████████████████████████████████████████████████████████████████████████████████████████████████████████████████████████████████████████████████████████████████████████████████████████████████████████████████████████████████████████████████████████████████████████████████████████████████████████████████████████████████████████████████████████████████████████████████████████████████████████████████████████████████████████████████████████████████████████████████████████████████████████████████████████████████████████████████████████████████████████████████| 7/7 [00:01<00:00,  6.18ba/s]\n"
     ]
    },
    {
     "name": "stdout",
     "output_type": "stream",
     "text": [
      "Dataset saved to 'selected_dataset.json'\n"
     ]
    }
   ],
   "source": [
    "from datasets import load_dataset, Dataset\n",
    "import torch\n",
    "import torch.nn.functional as F\n",
    "import random\n",
    "import numpy as np\n",
    "from tqdm import tqdm\n",
    "\n",
    "random.seed(42)\n",
    "\n",
    "# Function to compute cosine distance\n",
    "def cosDistance(sample_embedding, selected_embeddings, k_near=10):\n",
    "    # Calculate cosine similarity and convert it to distance\n",
    "    similarity_vector = torch.matmul(selected_embeddings, sample_embedding)\n",
    "    distance_vector = 1.0 - similarity_vector\n",
    "    if selected_embeddings.size(0) > k_near:\n",
    "        distance_vector, _ = torch.topk(distance_vector, k=k_near, dim=0)\n",
    "    mean_distance = distance_vector.mean()\n",
    "    return mean_distance\n",
    "\n",
    "# Load embeddings and labels\n",
    "dataset_name = 'flan_v2'\n",
    "model_name = \"meta/llama-3.1-8b-instruct\"\n",
    "root_path = f\"data/{model_name}/{dataset_name}/\"\n",
    "labels = torch.load(root_path + \"output_labels_revised.pt\")\n",
    "embedding_dataset = load_dataset(\"parquet\", data_files=f'{dataset_name}_embeddings.parquet')['train']\n",
    "\n",
    "# Filter based on high-quality labels\n",
    "high_quality_label_idx_5 = [idx for idx, label in enumerate(labels) if label == 5]\n",
    "high_quality_label_idx_4 = [idx for idx, label in enumerate(labels) if label == 4]\n",
    "embedding_dataset_5 = embedding_dataset.select(high_quality_label_idx_5)\n",
    "embedding_dataset_4 = embedding_dataset.select(high_quality_label_idx_4)\n",
    "\n",
    "tot_data_size = 6600\n",
    "threshold = 0.9\n",
    "k_near = 10\n",
    "selected_embeddings = None\n",
    "selected_samples = []\n",
    "\n",
    "# Select samples with label=5 using cosine distance threshold\n",
    "for sample in tqdm(embedding_dataset_5, desc=\"Processing high-quality samples (label=5)\"):\n",
    "    sample_embedding = torch.tensor(sample['embeddings'])\n",
    "    if selected_embeddings is None:\n",
    "        selected_embeddings = sample_embedding.unsqueeze(0)\n",
    "        selected_samples.append(sample)\n",
    "        continue\n",
    "    \n",
    "    if cosDistance(sample_embedding, selected_embeddings, k_near=k_near) < threshold:\n",
    "        selected_embeddings = torch.cat((selected_embeddings, sample_embedding.unsqueeze(0)), dim=0)\n",
    "        selected_samples.append(sample)\n",
    "    \n",
    "    if len(selected_samples) == tot_data_size:\n",
    "        break\n",
    "\n",
    "print(f\"Current selected data size: {len(selected_samples)}; still need to select from 4-rated samples.\")\n",
    "\n",
    "# Select remaining samples from label=4 if needed\n",
    "if len(selected_samples) < tot_data_size:\n",
    "    for sample in tqdm(embedding_dataset_4, desc=\"Processing high-quality samples (label=4)\"):\n",
    "        sample_embedding = torch.tensor(sample['embeddings'])\n",
    "        if cosDistance(sample_embedding, selected_embeddings, k_near=k_near) < threshold:\n",
    "            selected_embeddings = torch.cat((selected_embeddings, sample_embedding.unsqueeze(0)), dim=0)\n",
    "            selected_samples.append(sample)\n",
    "        \n",
    "        if len(selected_samples) == tot_data_size:\n",
    "            break\n",
    "\n",
    "# Convert selected samples to Dataset format and save\n",
    "selected_dataset = Dataset.from_dict({col: [s[col] for s in selected_samples] for col in selected_samples[0].keys()})\n",
    "print(f\"Selected data size: {len(selected_dataset)}\")\n",
    "selected_dataset.to_json(root_path + f'diversity-filtered_dataset.json', orient='records', lines=True)\n",
    "print(\"Dataset saved to 'diversity-filtered_dataset.json'\")\n"
   ]
  },
  {
   "cell_type": "markdown",
   "metadata": {},
   "source": [
    "### Plot the long-tail score distribution"
   ]
  },
  {
   "cell_type": "code",
   "execution_count": 49,
   "metadata": {},
   "outputs": [
    {
     "name": "stdout",
     "output_type": "stream",
     "text": [
      "Size of the original samples with high quality: 49123\n",
      "Size of the remaining samples with high quality: 38772\n",
      "Size of the remaining samples with high quality: 38772\n"
     ]
    },
    {
     "data": {
      "image/png": "[encoded data removed]",
      "text/plain": [
       "<Figure size 1000x600 with 1 Axes>"
      ]
     },
     "metadata": {},
     "output_type": "display_data"
    }
   ],
   "source": [
    "import numpy as np\n",
    "import matplotlib.pyplot as plt\n",
    "import torch\n",
    "\n",
    "dataset_name ='flan_v2'\n",
    "model_name=\"meta/llama-3.1-8b-instruct\"\n",
    "\n",
    "\n",
    "## label curation reports\n",
    "report_path = f\"score_curation/results/tulu_{dataset_name}/tulu_{dataset_name}_report.pt\"\n",
    "\n",
    "reports = torch.load(report_path)\n",
    "rare_samples = reports.detection['rare_example'][:len(reports.detection['rare_example'])//2]\n",
    "rare_samples_orginal = [[sample[0], sample[1]] for sample in rare_samples] \n",
    "\n",
    "rare_samples_filtered = [[sample[0], sample[1]] for sample in rare_samples if sample[0] not in set(label_wise_filter_out_samples)] \n",
    "\n",
    "print(f\"Size of the original samples with high quality: {len(rare_samples_orginal)}\")\n",
    "print(f\"Size of the remaining samples with high quality: {len(rare_samples_filtered)}\")\n",
    "\n",
    "\n",
    "print(f\"Size of the remaining samples with high quality: {len(rare_samples_filtered)}\")\n",
    "\n",
    "\n",
    "long_tail_scores_filtered = np.array(rare_samples_filtered)[:,1]\n",
    "\n",
    "long_tail_scores_orginal = np.array(rare_samples_orginal)[:,1]\n",
    "\n",
    "\n",
    "\n",
    "bins = np.arange(0, max(max(long_tail_scores_filtered), max(long_tail_scores_orginal)) + 0.003, 0.003)\n",
    "\n",
    "\n",
    "counts, _ = np.histogram(long_tail_scores_filtered, bins)\n",
    "threshold = 530   ## the random threshold for feature-wise\n",
    "remaining_samples_indices = []\n",
    "for i in range(len(bins) - 1):\n",
    "    indices_in_bin = np.where((long_tail_scores_filtered >= bins[i]) & (long_tail_scores_filtered < bins[i+1]))[0]\n",
    "    # if counts[i] > threshold:\n",
    "    #     high_quality_indices_in_bin = [idx for idx in indices_in_bin if labels[rare_samples_filtered[idx][0]] > 4]\n",
    "\n",
    "    #     if len(high_quality_indices_in_bin) >= threshold:\n",
    "\n",
    "    #         high_quality_indices_in_bin = random.sample(list(high_quality_indices_in_bin), threshold)\n",
    "    #     remaining_samples_indices.extend(high_quality_indices_in_bin)\n",
    "\n",
    "    #     # else:\n",
    "    #     #     print(f\"threshold - len(high_quality_indices_in_bin: {threshold - len(high_quality_indices_in_bin)}\")\n",
    "    #     #     low_quality_indices_in_bin = [idx for idx in indices_in_bin if labels[rare_samples_filtered[idx][0]] <= 3]\n",
    "    #     #     low_quality_indices_in_bin = random.sample(list(low_quality_indices_in_bin), threshold - len(high_quality_indices_in_bin))\n",
    "    #     #     remaining_samples_indices.extend(high_quality_indices_in_bin + low_quality_indices_in_bin)\n",
    "\n",
    "    # else:\n",
    "    #     remaining_samples_indices.extend(indices_in_bin)\n",
    "\n",
    "    high_quality_indices_in_bin = [idx for idx in indices_in_bin if labels[rare_samples_filtered[idx][0]] > 4]\n",
    "    remaining_samples_indices.extend(high_quality_indices_in_bin)\n",
    "\n",
    "\n",
    "remaining_samples_idx = np.array(rare_samples_filtered, dtype=int)[remaining_samples_indices, 0]\n",
    "\n",
    "long_tail_scores_filtered_new = np.array(rare_samples_filtered)[remaining_samples_indices, 1]\n",
    "\n",
    "\n",
    "\n",
    "\n",
    "plt.figure(figsize=(10, 6))\n",
    "\n",
    "plt.hist(long_tail_scores_orginal, bins, alpha=0.5, label='Original Long-tail score', edgecolor='black')\n",
    "\n",
    "plt.hist(long_tail_scores_filtered, bins, alpha=0.5, label='Filtered out wrong-annotated labels', edgecolor='black')\n",
    "\n",
    "plt.hist(long_tail_scores_filtered_new, bins, alpha=0.5, label='New Filtered Pattern based on features', edgecolor='black')\n",
    "\n",
    "\n",
    "plt.title('Long-tail score distribution')\n",
    "plt.xlabel('Long tail score value range')\n",
    "plt.ylabel('Count')\n",
    "\n",
    "plt.legend(loc='upper right')\n",
    "\n",
    "threshold_value = 400  \n",
    "plt.axhline(y=threshold_value, color='orange', linestyle='--')\n",
    "plt.text(x=0.1, y=threshold_value + 100, s='cutting threshold', color='orange', fontsize=14, ha='right', va='bottom')\n",
    "\n",
    "plt.show()\n",
    "\n",
    "\n"
   ]
  },
  {
   "cell_type": "code",
   "execution_count": 35,
   "metadata": {},
   "outputs": [
    {
     "name": "stdout",
     "output_type": "stream",
     "text": [
      "Size of the original samples with high quality: 6788\n",
      "Size of the remaining samples with high quality: 6684\n",
      "Size of the remaining samples with high quality: 6684\n"
     ]
    },
    {
     "data": {
      "image/png": "[encoded data removed]",
      "text/plain": [
       "<Figure size 1000x600 with 1 Axes>"
      ]
     },
     "metadata": {},
     "output_type": "display_data"
    }
   ],
   "source": [
    "import numpy as np\n",
    "import matplotlib.pyplot as plt\n",
    "\n",
    "rare_samples = reports.detection['rare_example'][:len(reports.detection['rare_example'])//2]\n",
    "rare_samples_orginal = [[sample[0], sample[1]] for sample in rare_samples if sample[0] in set(remaining_samples_idx_2)] \n",
    "\n",
    "rare_samples_filtered = [[sample[0], sample[1]] for sample in rare_samples if sample[0] in set(remaining_samples_idx_1)] \n",
    "\n",
    "print(f\"Size of the original samples with high quality: {len(rare_samples_orginal)}\")\n",
    "print(f\"Size of the remaining samples with high quality: {len(rare_samples_filtered)}\")\n",
    "\n",
    "\n",
    "print(f\"Size of the remaining samples with high quality: {len(rare_samples_filtered)}\")\n",
    "\n",
    "\n",
    "long_tail_scores_filtered = np.array(rare_samples_filtered)[:,1]\n",
    "\n",
    "long_tail_scores_orginal = np.array(rare_samples_orginal)[:,1]\n",
    "\n",
    "\n",
    "\n",
    "bins = np.arange(0, max(max(long_tail_scores_filtered), max(long_tail_scores_orginal)) + 0.005, 0.005)\n",
    "\n",
    "\n",
    "counts, _ = np.histogram(long_tail_scores_filtered, bins)\n",
    "threshold = 530   ## the random threshold for feature-wise\n",
    "remaining_samples_indices = []\n",
    "for i in range(len(bins) - 1):\n",
    "    indices_in_bin = np.where((long_tail_scores_filtered >= bins[i]) & (long_tail_scores_filtered < bins[i+1]))[0]\n",
    "    # if counts[i] > threshold:\n",
    "    #     high_quality_indices_in_bin = [idx for idx in indices_in_bin if labels[rare_samples_filtered[idx][0]] > 4]\n",
    "\n",
    "    #     if len(high_quality_indices_in_bin) >= threshold:\n",
    "\n",
    "    #         high_quality_indices_in_bin = random.sample(list(high_quality_indices_in_bin), threshold)\n",
    "    #     remaining_samples_indices.extend(high_quality_indices_in_bin)\n",
    "\n",
    "    #     # else:\n",
    "    #     #     print(f\"threshold - len(high_quality_indices_in_bin: {threshold - len(high_quality_indices_in_bin)}\")\n",
    "    #     #     low_quality_indices_in_bin = [idx for idx in indices_in_bin if labels[rare_samples_filtered[idx][0]] <= 3]\n",
    "    #     #     low_quality_indices_in_bin = random.sample(list(low_quality_indices_in_bin), threshold - len(high_quality_indices_in_bin))\n",
    "    #     #     remaining_samples_indices.extend(high_quality_indices_in_bin + low_quality_indices_in_bin)\n",
    "\n",
    "    # else:\n",
    "    #     remaining_samples_indices.extend(indices_in_bin)\n",
    "\n",
    "    high_quality_indices_in_bin = [idx for idx in indices_in_bin if labels[rare_samples_filtered[idx][0]] >= 4]\n",
    "    remaining_samples_indices.extend(high_quality_indices_in_bin)\n",
    "\n",
    "\n",
    "remaining_samples_idx = np.array(rare_samples_filtered, dtype=int)[remaining_samples_indices, 0]\n",
    "\n",
    "long_tail_scores_filtered_new = np.array(rare_samples_filtered)[remaining_samples_indices, 1]\n",
    "\n",
    "\n",
    "\n",
    "\n",
    "\n",
    "plt.figure(figsize=(10, 6))\n",
    "plt.hist(long_tail_scores_orginal, bins, alpha=0.5, label='Original Long-tail score', edgecolor='black')\n",
    "plt.hist(long_tail_scores_filtered, bins, alpha=0.5, label='Filtered out wrong-annotated labels', edgecolor='black')\n",
    "plt.hist(long_tail_scores_filtered_new, bins, alpha=0.5, label='New Filtered Pattern based on features', edgecolor='black')\n",
    "\n",
    "\n",
    "plt.title('Long-tail score distribution')\n",
    "plt.xlabel('Long tail score value range')\n",
    "plt.ylabel('Count')\n",
    "\n",
    "\n",
    "plt.legend(loc='upper right')\n",
    "\n",
    "threshold_value = 530  \n",
    "plt.axhline(y=threshold_value, color='orange', linestyle='--')\n",
    "plt.text(x=0.1, y=threshold_value + 100, s='cutting threshold', color='orange', fontsize=14, ha='right', va='bottom')\n",
    "\n",
    "plt.show()\n"
   ]
  },
  {
   "cell_type": "markdown",
   "metadata": {},
   "source": [
    "## Plot the label infos within each bin"
   ]
  },
  {
   "cell_type": "code",
   "execution_count": 50,
   "metadata": {},
   "outputs": [
    {
     "data": {
      "image/png": "[encoded data removed]",
      "text/plain": [
       "<Figure size 1000x600 with 1 Axes>"
      ]
     },
     "metadata": {},
     "output_type": "display_data"
    }
   ],
   "source": [
    "import numpy as np\n",
    "import matplotlib.pyplot as plt\n",
    "import torch\n",
    "\n",
    "# Assuming 'labels' is a dictionary with each rare_sample's index mapped to a label score\n",
    "# Example: labels = {index: score, ...}\n",
    "# Here, we generate a sample dictionary with labels between 1 and 5.\n",
    "labels = {sample[0]: np.random.randint(1, 6) for sample in rare_samples}  # Replace with actual data as needed\n",
    "\n",
    "# Extract long-tail scores from rare_samples\n",
    "long_tail_scores = np.array(rare_samples)[:, 1]\n",
    "\n",
    "# Define bins with a specified interval for histogram distribution\n",
    "bins = np.arange(0, max(long_tail_scores) + 0.003, 0.003)\n",
    "\n",
    "# Group scores by label (assumes labels are between 1 and 5)\n",
    "grouped_counts = {i: np.zeros(len(bins) - 1) for i in range(1, 6)}\n",
    "for i, score in enumerate(long_tail_scores):\n",
    "    label = labels[rare_samples[i][0]]\n",
    "    bin_index = np.digitize(score, bins) - 1  # Find bin for the score\n",
    "    grouped_counts[label][bin_index] += 1  # Increment count for label in the respective bin\n",
    "\n",
    "# Plot stacked histogram\n",
    "plt.figure(figsize=(10, 6))\n",
    "\n",
    "# Define colors and alpha for transparency\n",
    "colors = ['darkorange', 'indigo', 'darkred', 'darkgreen', 'dimgray']\n",
    "alpha = 0.5  # Set transparency to 50%\n",
    "\n",
    "# Plot each label's distribution as a stacked bar\n",
    "bottom = np.zeros(len(bins) - 1)\n",
    "for i in range(5, 0, -1):  # Iterate from label 5 to 1 for stacking order\n",
    "    plt.bar(bins[:-1], grouped_counts[i], width=np.diff(bins), bottom=bottom,\n",
    "            color=colors[5 - i], edgecolor='black', alpha=alpha, label=f'Label Score {i}')\n",
    "    bottom += grouped_counts[i]\n",
    "\n",
    "# Add title and labels\n",
    "plt.title('Long-tail score distribution by label score')\n",
    "plt.xlabel('Long tail score value range')\n",
    "plt.ylabel('Count')\n",
    "\n",
    "# Add legend\n",
    "plt.legend(loc='upper right')\n",
    "\n",
    "# Add threshold line with label\n",
    "threshold_value = 400  # Example threshold; adjust based on your data\n",
    "plt.axhline(y=threshold_value, color='orange', linestyle='--')\n",
    "plt.text(x=0.1, y=threshold_value + 100, s='cutting threshold', color='orange', fontsize=14, ha='right', va='bottom')\n",
    "\n",
    "# Display plot\n",
    "plt.show()\n"
   ]
  },
  {
   "cell_type": "markdown",
   "metadata": {},
   "source": [
    "## 3.*-2 Check the model-generated labels from different labeling models."
   ]
  },
  {
   "cell_type": "code",
   "execution_count": 51,
   "metadata": {},
   "outputs": [
    {
     "name": "stdout",
     "output_type": "stream",
     "text": [
      "(49123, 3)\n",
      "[[4 3 5]\n",
      " [2 3 5]\n",
      " [4 1 1]\n",
      " [2 3 5]\n",
      " [4 4 5]]\n"
     ]
    }
   ],
   "source": [
    "import torch\n",
    "import numpy as np\n",
    "\n",
    "# Specify dataset name and list of model names\n",
    "dataset_name = 'flan_v2'\n",
    "model_names = [\"meta/llama-3.1-8b-instruct\", 'google/gemma-2-9b-it', \"mistralai/mixtral-8x22b-instruct-v0.1\"]\n",
    "\n",
    "# Initialize an empty list to store labels for all models\n",
    "all_labels = []\n",
    "\n",
    "for model_name in model_names:\n",
    "    # Construct the root path for each model\n",
    "    root_path = f\"data/{model_name}/{dataset_name}/\"\n",
    "    \n",
    "    # Load labels for each model and add to the all_labels list\n",
    "    labels = torch.load(root_path + \"output_labels_revised.pt\")\n",
    "    all_labels.append(labels)\n",
    "\n",
    "# Stack the labels into an n*3 NumPy array where each column is a model's labels\n",
    "combined_labels = np.column_stack(all_labels)\n",
    "\n",
    "# Print shape of the combined array to confirm it is n*3\n",
    "print(combined_labels.shape)\n",
    "\n",
    "# Preview the first few rows of the combined array\n",
    "print(combined_labels[:5])\n"
   ]
  },
  {
   "cell_type": "markdown",
   "metadata": {},
   "source": [
    "## 3.3 Create a random selection sampling method"
   ]
  },
  {
   "cell_type": "code",
   "execution_count": 6,
   "metadata": {},
   "outputs": [
    {
     "name": "stdout",
     "output_type": "stream",
     "text": [
      "full data size: 49123; random selected size: 1208!!!\n"
     ]
    },
    {
     "ename": "FileNotFoundError",
     "evalue": "Unable to find '/mnt/batch/tasks/shared/LS_root/mounts/clusters/jinlong-exp/code/Users/jinlong.pang/LADR_LLM_alignment_data_refinement/labeling/data/meta/llama-3.1-8b-instruct/flan_v2/flan_v2.parquet'",
     "output_type": "error",
     "traceback": [
      "\u001b[0;31m---------------------------------------------------------------------------\u001b[0m",
      "\u001b[0;31mFileNotFoundError\u001b[0m                         Traceback (most recent call last)",
      "Cell \u001b[0;32mIn[6], line 32\u001b[0m\n\u001b[1;32m     27\u001b[0m random_samples_idx \u001b[38;5;241m=\u001b[39m random\u001b[38;5;241m.\u001b[39msample(\u001b[38;5;28mlist\u001b[39m(\u001b[38;5;28mrange\u001b[39m(full_data_size)), data_size)\n\u001b[1;32m     31\u001b[0m dataset_path \u001b[38;5;241m=\u001b[39m root_path \u001b[38;5;241m+\u001b[39m \u001b[38;5;124mf\u001b[39m\u001b[38;5;124m\"\u001b[39m\u001b[38;5;132;01m{\u001b[39;00mdataset_name\u001b[38;5;132;01m}\u001b[39;00m\u001b[38;5;124m.parquet\u001b[39m\u001b[38;5;124m\"\u001b[39m\n\u001b[0;32m---> 32\u001b[0m data \u001b[38;5;241m=\u001b[39m \u001b[43mload_dataset\u001b[49m\u001b[43m(\u001b[49m\u001b[38;5;124;43m'\u001b[39;49m\u001b[38;5;124;43mparquet\u001b[39;49m\u001b[38;5;124;43m'\u001b[39;49m\u001b[43m,\u001b[49m\u001b[43m \u001b[49m\u001b[43mdata_files\u001b[49m\u001b[38;5;241;43m=\u001b[39;49m\u001b[43mdataset_path\u001b[49m\u001b[43m)\u001b[49m\n\u001b[1;32m     33\u001b[0m filtered_dialogs \u001b[38;5;241m=\u001b[39m data[\u001b[38;5;124m'\u001b[39m\u001b[38;5;124mtrain\u001b[39m\u001b[38;5;124m'\u001b[39m]\u001b[38;5;241m.\u001b[39mselect(random_samples_idx)\n\u001b[1;32m     36\u001b[0m output_json_path \u001b[38;5;241m=\u001b[39m root_path \u001b[38;5;241m+\u001b[39m \u001b[38;5;124mf\u001b[39m\u001b[38;5;124m\"\u001b[39m\u001b[38;5;124mrandom_\u001b[39m\u001b[38;5;132;01m{\u001b[39;00mdataset_name\u001b[38;5;132;01m}\u001b[39;00m\u001b[38;5;124m.json\u001b[39m\u001b[38;5;124m\"\u001b[39m  \u001b[38;5;66;03m## the json form is for funetunning\u001b[39;00m\n",
      "File \u001b[0;32m/anaconda/envs/new_env/lib/python3.8/site-packages/datasets/load.py:2594\u001b[0m, in \u001b[0;36mload_dataset\u001b[0;34m(path, name, data_dir, data_files, split, cache_dir, features, download_config, download_mode, verification_mode, ignore_verifications, keep_in_memory, save_infos, revision, token, use_auth_token, task, streaming, num_proc, storage_options, trust_remote_code, **config_kwargs)\u001b[0m\n\u001b[1;32m   2589\u001b[0m verification_mode \u001b[38;5;241m=\u001b[39m VerificationMode(\n\u001b[1;32m   2590\u001b[0m     (verification_mode \u001b[38;5;129;01mor\u001b[39;00m VerificationMode\u001b[38;5;241m.\u001b[39mBASIC_CHECKS) \u001b[38;5;28;01mif\u001b[39;00m \u001b[38;5;129;01mnot\u001b[39;00m save_infos \u001b[38;5;28;01melse\u001b[39;00m VerificationMode\u001b[38;5;241m.\u001b[39mALL_CHECKS\n\u001b[1;32m   2591\u001b[0m )\n\u001b[1;32m   2593\u001b[0m \u001b[38;5;66;03m# Create a dataset builder\u001b[39;00m\n\u001b[0;32m-> 2594\u001b[0m builder_instance \u001b[38;5;241m=\u001b[39m \u001b[43mload_dataset_builder\u001b[49m\u001b[43m(\u001b[49m\n\u001b[1;32m   2595\u001b[0m \u001b[43m    \u001b[49m\u001b[43mpath\u001b[49m\u001b[38;5;241;43m=\u001b[39;49m\u001b[43mpath\u001b[49m\u001b[43m,\u001b[49m\n\u001b[1;32m   2596\u001b[0m \u001b[43m    \u001b[49m\u001b[43mname\u001b[49m\u001b[38;5;241;43m=\u001b[39;49m\u001b[43mname\u001b[49m\u001b[43m,\u001b[49m\n\u001b[1;32m   2597\u001b[0m \u001b[43m    \u001b[49m\u001b[43mdata_dir\u001b[49m\u001b[38;5;241;43m=\u001b[39;49m\u001b[43mdata_dir\u001b[49m\u001b[43m,\u001b[49m\n\u001b[1;32m   2598\u001b[0m \u001b[43m    \u001b[49m\u001b[43mdata_files\u001b[49m\u001b[38;5;241;43m=\u001b[39;49m\u001b[43mdata_files\u001b[49m\u001b[43m,\u001b[49m\n\u001b[1;32m   2599\u001b[0m \u001b[43m    \u001b[49m\u001b[43mcache_dir\u001b[49m\u001b[38;5;241;43m=\u001b[39;49m\u001b[43mcache_dir\u001b[49m\u001b[43m,\u001b[49m\n\u001b[1;32m   2600\u001b[0m \u001b[43m    \u001b[49m\u001b[43mfeatures\u001b[49m\u001b[38;5;241;43m=\u001b[39;49m\u001b[43mfeatures\u001b[49m\u001b[43m,\u001b[49m\n\u001b[1;32m   2601\u001b[0m \u001b[43m    \u001b[49m\u001b[43mdownload_config\u001b[49m\u001b[38;5;241;43m=\u001b[39;49m\u001b[43mdownload_config\u001b[49m\u001b[43m,\u001b[49m\n\u001b[1;32m   2602\u001b[0m \u001b[43m    \u001b[49m\u001b[43mdownload_mode\u001b[49m\u001b[38;5;241;43m=\u001b[39;49m\u001b[43mdownload_mode\u001b[49m\u001b[43m,\u001b[49m\n\u001b[1;32m   2603\u001b[0m \u001b[43m    \u001b[49m\u001b[43mrevision\u001b[49m\u001b[38;5;241;43m=\u001b[39;49m\u001b[43mrevision\u001b[49m\u001b[43m,\u001b[49m\n\u001b[1;32m   2604\u001b[0m \u001b[43m    \u001b[49m\u001b[43mtoken\u001b[49m\u001b[38;5;241;43m=\u001b[39;49m\u001b[43mtoken\u001b[49m\u001b[43m,\u001b[49m\n\u001b[1;32m   2605\u001b[0m \u001b[43m    \u001b[49m\u001b[43mstorage_options\u001b[49m\u001b[38;5;241;43m=\u001b[39;49m\u001b[43mstorage_options\u001b[49m\u001b[43m,\u001b[49m\n\u001b[1;32m   2606\u001b[0m \u001b[43m    \u001b[49m\u001b[43mtrust_remote_code\u001b[49m\u001b[38;5;241;43m=\u001b[39;49m\u001b[43mtrust_remote_code\u001b[49m\u001b[43m,\u001b[49m\n\u001b[1;32m   2607\u001b[0m \u001b[43m    \u001b[49m\u001b[43m_require_default_config_name\u001b[49m\u001b[38;5;241;43m=\u001b[39;49m\u001b[43mname\u001b[49m\u001b[43m \u001b[49m\u001b[38;5;129;43;01mis\u001b[39;49;00m\u001b[43m \u001b[49m\u001b[38;5;28;43;01mNone\u001b[39;49;00m\u001b[43m,\u001b[49m\n\u001b[1;32m   2608\u001b[0m \u001b[43m    \u001b[49m\u001b[38;5;241;43m*\u001b[39;49m\u001b[38;5;241;43m*\u001b[39;49m\u001b[43mconfig_kwargs\u001b[49m\u001b[43m,\u001b[49m\n\u001b[1;32m   2609\u001b[0m \u001b[43m\u001b[49m\u001b[43m)\u001b[49m\n\u001b[1;32m   2611\u001b[0m \u001b[38;5;66;03m# Return iterable dataset in case of streaming\u001b[39;00m\n\u001b[1;32m   2612\u001b[0m \u001b[38;5;28;01mif\u001b[39;00m streaming:\n",
      "File \u001b[0;32m/anaconda/envs/new_env/lib/python3.8/site-packages/datasets/load.py:2266\u001b[0m, in \u001b[0;36mload_dataset_builder\u001b[0;34m(path, name, data_dir, data_files, cache_dir, features, download_config, download_mode, revision, token, use_auth_token, storage_options, trust_remote_code, _require_default_config_name, **config_kwargs)\u001b[0m\n\u001b[1;32m   2264\u001b[0m     download_config \u001b[38;5;241m=\u001b[39m download_config\u001b[38;5;241m.\u001b[39mcopy() \u001b[38;5;28;01mif\u001b[39;00m download_config \u001b[38;5;28;01melse\u001b[39;00m DownloadConfig()\n\u001b[1;32m   2265\u001b[0m     download_config\u001b[38;5;241m.\u001b[39mstorage_options\u001b[38;5;241m.\u001b[39mupdate(storage_options)\n\u001b[0;32m-> 2266\u001b[0m dataset_module \u001b[38;5;241m=\u001b[39m \u001b[43mdataset_module_factory\u001b[49m\u001b[43m(\u001b[49m\n\u001b[1;32m   2267\u001b[0m \u001b[43m    \u001b[49m\u001b[43mpath\u001b[49m\u001b[43m,\u001b[49m\n\u001b[1;32m   2268\u001b[0m \u001b[43m    \u001b[49m\u001b[43mrevision\u001b[49m\u001b[38;5;241;43m=\u001b[39;49m\u001b[43mrevision\u001b[49m\u001b[43m,\u001b[49m\n\u001b[1;32m   2269\u001b[0m \u001b[43m    \u001b[49m\u001b[43mdownload_config\u001b[49m\u001b[38;5;241;43m=\u001b[39;49m\u001b[43mdownload_config\u001b[49m\u001b[43m,\u001b[49m\n\u001b[1;32m   2270\u001b[0m \u001b[43m    \u001b[49m\u001b[43mdownload_mode\u001b[49m\u001b[38;5;241;43m=\u001b[39;49m\u001b[43mdownload_mode\u001b[49m\u001b[43m,\u001b[49m\n\u001b[1;32m   2271\u001b[0m \u001b[43m    \u001b[49m\u001b[43mdata_dir\u001b[49m\u001b[38;5;241;43m=\u001b[39;49m\u001b[43mdata_dir\u001b[49m\u001b[43m,\u001b[49m\n\u001b[1;32m   2272\u001b[0m \u001b[43m    \u001b[49m\u001b[43mdata_files\u001b[49m\u001b[38;5;241;43m=\u001b[39;49m\u001b[43mdata_files\u001b[49m\u001b[43m,\u001b[49m\n\u001b[1;32m   2273\u001b[0m \u001b[43m    \u001b[49m\u001b[43mcache_dir\u001b[49m\u001b[38;5;241;43m=\u001b[39;49m\u001b[43mcache_dir\u001b[49m\u001b[43m,\u001b[49m\n\u001b[1;32m   2274\u001b[0m \u001b[43m    \u001b[49m\u001b[43mtrust_remote_code\u001b[49m\u001b[38;5;241;43m=\u001b[39;49m\u001b[43mtrust_remote_code\u001b[49m\u001b[43m,\u001b[49m\n\u001b[1;32m   2275\u001b[0m \u001b[43m    \u001b[49m\u001b[43m_require_default_config_name\u001b[49m\u001b[38;5;241;43m=\u001b[39;49m\u001b[43m_require_default_config_name\u001b[49m\u001b[43m,\u001b[49m\n\u001b[1;32m   2276\u001b[0m \u001b[43m    \u001b[49m\u001b[43m_require_custom_configs\u001b[49m\u001b[38;5;241;43m=\u001b[39;49m\u001b[38;5;28;43mbool\u001b[39;49m\u001b[43m(\u001b[49m\u001b[43mconfig_kwargs\u001b[49m\u001b[43m)\u001b[49m\u001b[43m,\u001b[49m\n\u001b[1;32m   2277\u001b[0m \u001b[43m\u001b[49m\u001b[43m)\u001b[49m\n\u001b[1;32m   2278\u001b[0m \u001b[38;5;66;03m# Get dataset builder class from the processing script\u001b[39;00m\n\u001b[1;32m   2279\u001b[0m builder_kwargs \u001b[38;5;241m=\u001b[39m dataset_module\u001b[38;5;241m.\u001b[39mbuilder_kwargs\n",
      "File \u001b[0;32m/anaconda/envs/new_env/lib/python3.8/site-packages/datasets/load.py:1799\u001b[0m, in \u001b[0;36mdataset_module_factory\u001b[0;34m(path, revision, download_config, download_mode, dynamic_modules_path, data_dir, data_files, cache_dir, trust_remote_code, _require_default_config_name, _require_custom_configs, **download_kwargs)\u001b[0m\n\u001b[1;32m   1782\u001b[0m \u001b[38;5;66;03m# We have several ways to get a dataset builder:\u001b[39;00m\n\u001b[1;32m   1783\u001b[0m \u001b[38;5;66;03m#\u001b[39;00m\n\u001b[1;32m   1784\u001b[0m \u001b[38;5;66;03m# - if path is the name of a packaged dataset module\u001b[39;00m\n\u001b[0;32m   (...)\u001b[0m\n\u001b[1;32m   1796\u001b[0m \n\u001b[1;32m   1797\u001b[0m \u001b[38;5;66;03m# Try packaged\u001b[39;00m\n\u001b[1;32m   1798\u001b[0m \u001b[38;5;28;01mif\u001b[39;00m path \u001b[38;5;129;01min\u001b[39;00m _PACKAGED_DATASETS_MODULES:\n\u001b[0;32m-> 1799\u001b[0m     \u001b[38;5;28;01mreturn\u001b[39;00m \u001b[43mPackagedDatasetModuleFactory\u001b[49m\u001b[43m(\u001b[49m\n\u001b[1;32m   1800\u001b[0m \u001b[43m        \u001b[49m\u001b[43mpath\u001b[49m\u001b[43m,\u001b[49m\n\u001b[1;32m   1801\u001b[0m \u001b[43m        \u001b[49m\u001b[43mdata_dir\u001b[49m\u001b[38;5;241;43m=\u001b[39;49m\u001b[43mdata_dir\u001b[49m\u001b[43m,\u001b[49m\n\u001b[1;32m   1802\u001b[0m \u001b[43m        \u001b[49m\u001b[43mdata_files\u001b[49m\u001b[38;5;241;43m=\u001b[39;49m\u001b[43mdata_files\u001b[49m\u001b[43m,\u001b[49m\n\u001b[1;32m   1803\u001b[0m \u001b[43m        \u001b[49m\u001b[43mdownload_config\u001b[49m\u001b[38;5;241;43m=\u001b[39;49m\u001b[43mdownload_config\u001b[49m\u001b[43m,\u001b[49m\n\u001b[1;32m   1804\u001b[0m \u001b[43m        \u001b[49m\u001b[43mdownload_mode\u001b[49m\u001b[38;5;241;43m=\u001b[39;49m\u001b[43mdownload_mode\u001b[49m\u001b[43m,\u001b[49m\n\u001b[1;32m   1805\u001b[0m \u001b[43m    \u001b[49m\u001b[43m)\u001b[49m\u001b[38;5;241;43m.\u001b[39;49m\u001b[43mget_module\u001b[49m\u001b[43m(\u001b[49m\u001b[43m)\u001b[49m\n\u001b[1;32m   1806\u001b[0m \u001b[38;5;66;03m# Try locally\u001b[39;00m\n\u001b[1;32m   1807\u001b[0m \u001b[38;5;28;01melif\u001b[39;00m path\u001b[38;5;241m.\u001b[39mendswith(filename):\n",
      "File \u001b[0;32m/anaconda/envs/new_env/lib/python3.8/site-packages/datasets/load.py:1142\u001b[0m, in \u001b[0;36mPackagedDatasetModuleFactory.get_module\u001b[0;34m(self)\u001b[0m\n\u001b[1;32m   1136\u001b[0m base_path \u001b[38;5;241m=\u001b[39m Path(\u001b[38;5;28mself\u001b[39m\u001b[38;5;241m.\u001b[39mdata_dir \u001b[38;5;129;01mor\u001b[39;00m \u001b[38;5;124m\"\u001b[39m\u001b[38;5;124m\"\u001b[39m)\u001b[38;5;241m.\u001b[39mexpanduser()\u001b[38;5;241m.\u001b[39mresolve()\u001b[38;5;241m.\u001b[39mas_posix()\n\u001b[1;32m   1137\u001b[0m patterns \u001b[38;5;241m=\u001b[39m (\n\u001b[1;32m   1138\u001b[0m     sanitize_patterns(\u001b[38;5;28mself\u001b[39m\u001b[38;5;241m.\u001b[39mdata_files)\n\u001b[1;32m   1139\u001b[0m     \u001b[38;5;28;01mif\u001b[39;00m \u001b[38;5;28mself\u001b[39m\u001b[38;5;241m.\u001b[39mdata_files \u001b[38;5;129;01mis\u001b[39;00m \u001b[38;5;129;01mnot\u001b[39;00m \u001b[38;5;28;01mNone\u001b[39;00m\n\u001b[1;32m   1140\u001b[0m     \u001b[38;5;28;01melse\u001b[39;00m get_data_patterns(base_path, download_config\u001b[38;5;241m=\u001b[39m\u001b[38;5;28mself\u001b[39m\u001b[38;5;241m.\u001b[39mdownload_config)\n\u001b[1;32m   1141\u001b[0m )\n\u001b[0;32m-> 1142\u001b[0m data_files \u001b[38;5;241m=\u001b[39m \u001b[43mDataFilesDict\u001b[49m\u001b[38;5;241;43m.\u001b[39;49m\u001b[43mfrom_patterns\u001b[49m\u001b[43m(\u001b[49m\n\u001b[1;32m   1143\u001b[0m \u001b[43m    \u001b[49m\u001b[43mpatterns\u001b[49m\u001b[43m,\u001b[49m\n\u001b[1;32m   1144\u001b[0m \u001b[43m    \u001b[49m\u001b[43mdownload_config\u001b[49m\u001b[38;5;241;43m=\u001b[39;49m\u001b[38;5;28;43mself\u001b[39;49m\u001b[38;5;241;43m.\u001b[39;49m\u001b[43mdownload_config\u001b[49m\u001b[43m,\u001b[49m\n\u001b[1;32m   1145\u001b[0m \u001b[43m    \u001b[49m\u001b[43mbase_path\u001b[49m\u001b[38;5;241;43m=\u001b[39;49m\u001b[43mbase_path\u001b[49m\u001b[43m,\u001b[49m\n\u001b[1;32m   1146\u001b[0m \u001b[43m\u001b[49m\u001b[43m)\u001b[49m\n\u001b[1;32m   1147\u001b[0m supports_metadata \u001b[38;5;241m=\u001b[39m \u001b[38;5;28mself\u001b[39m\u001b[38;5;241m.\u001b[39mname \u001b[38;5;129;01min\u001b[39;00m _MODULE_SUPPORTS_METADATA\n\u001b[1;32m   1148\u001b[0m \u001b[38;5;28;01mif\u001b[39;00m \u001b[38;5;28mself\u001b[39m\u001b[38;5;241m.\u001b[39mdata_files \u001b[38;5;129;01mis\u001b[39;00m \u001b[38;5;28;01mNone\u001b[39;00m \u001b[38;5;129;01mand\u001b[39;00m supports_metadata \u001b[38;5;129;01mand\u001b[39;00m patterns \u001b[38;5;241m!=\u001b[39m DEFAULT_PATTERNS_ALL:\n",
      "File \u001b[0;32m/anaconda/envs/new_env/lib/python3.8/site-packages/datasets/data_files.py:721\u001b[0m, in \u001b[0;36mDataFilesDict.from_patterns\u001b[0;34m(cls, patterns, base_path, allowed_extensions, download_config)\u001b[0m\n\u001b[1;32m    716\u001b[0m out \u001b[38;5;241m=\u001b[39m \u001b[38;5;28mcls\u001b[39m()\n\u001b[1;32m    717\u001b[0m \u001b[38;5;28;01mfor\u001b[39;00m key, patterns_for_key \u001b[38;5;129;01min\u001b[39;00m patterns\u001b[38;5;241m.\u001b[39mitems():\n\u001b[1;32m    718\u001b[0m     out[key] \u001b[38;5;241m=\u001b[39m (\n\u001b[1;32m    719\u001b[0m         patterns_for_key\n\u001b[1;32m    720\u001b[0m         \u001b[38;5;28;01mif\u001b[39;00m \u001b[38;5;28misinstance\u001b[39m(patterns_for_key, DataFilesList)\n\u001b[0;32m--> 721\u001b[0m         \u001b[38;5;28;01melse\u001b[39;00m \u001b[43mDataFilesList\u001b[49m\u001b[38;5;241;43m.\u001b[39;49m\u001b[43mfrom_patterns\u001b[49m\u001b[43m(\u001b[49m\n\u001b[1;32m    722\u001b[0m \u001b[43m            \u001b[49m\u001b[43mpatterns_for_key\u001b[49m\u001b[43m,\u001b[49m\n\u001b[1;32m    723\u001b[0m \u001b[43m            \u001b[49m\u001b[43mbase_path\u001b[49m\u001b[38;5;241;43m=\u001b[39;49m\u001b[43mbase_path\u001b[49m\u001b[43m,\u001b[49m\n\u001b[1;32m    724\u001b[0m \u001b[43m            \u001b[49m\u001b[43mallowed_extensions\u001b[49m\u001b[38;5;241;43m=\u001b[39;49m\u001b[43mallowed_extensions\u001b[49m\u001b[43m,\u001b[49m\n\u001b[1;32m    725\u001b[0m \u001b[43m            \u001b[49m\u001b[43mdownload_config\u001b[49m\u001b[38;5;241;43m=\u001b[39;49m\u001b[43mdownload_config\u001b[49m\u001b[43m,\u001b[49m\n\u001b[1;32m    726\u001b[0m \u001b[43m        \u001b[49m\u001b[43m)\u001b[49m\n\u001b[1;32m    727\u001b[0m     )\n\u001b[1;32m    728\u001b[0m \u001b[38;5;28;01mreturn\u001b[39;00m out\n",
      "File \u001b[0;32m/anaconda/envs/new_env/lib/python3.8/site-packages/datasets/data_files.py:624\u001b[0m, in \u001b[0;36mDataFilesList.from_patterns\u001b[0;34m(cls, patterns, base_path, allowed_extensions, download_config)\u001b[0m\n\u001b[1;32m    621\u001b[0m \u001b[38;5;28;01mfor\u001b[39;00m pattern \u001b[38;5;129;01min\u001b[39;00m patterns:\n\u001b[1;32m    622\u001b[0m     \u001b[38;5;28;01mtry\u001b[39;00m:\n\u001b[1;32m    623\u001b[0m         data_files\u001b[38;5;241m.\u001b[39mextend(\n\u001b[0;32m--> 624\u001b[0m             \u001b[43mresolve_pattern\u001b[49m\u001b[43m(\u001b[49m\n\u001b[1;32m    625\u001b[0m \u001b[43m                \u001b[49m\u001b[43mpattern\u001b[49m\u001b[43m,\u001b[49m\n\u001b[1;32m    626\u001b[0m \u001b[43m                \u001b[49m\u001b[43mbase_path\u001b[49m\u001b[38;5;241;43m=\u001b[39;49m\u001b[43mbase_path\u001b[49m\u001b[43m,\u001b[49m\n\u001b[1;32m    627\u001b[0m \u001b[43m                \u001b[49m\u001b[43mallowed_extensions\u001b[49m\u001b[38;5;241;43m=\u001b[39;49m\u001b[43mallowed_extensions\u001b[49m\u001b[43m,\u001b[49m\n\u001b[1;32m    628\u001b[0m \u001b[43m                \u001b[49m\u001b[43mdownload_config\u001b[49m\u001b[38;5;241;43m=\u001b[39;49m\u001b[43mdownload_config\u001b[49m\u001b[43m,\u001b[49m\n\u001b[1;32m    629\u001b[0m \u001b[43m            \u001b[49m\u001b[43m)\u001b[49m\n\u001b[1;32m    630\u001b[0m         )\n\u001b[1;32m    631\u001b[0m     \u001b[38;5;28;01mexcept\u001b[39;00m \u001b[38;5;167;01mFileNotFoundError\u001b[39;00m:\n\u001b[1;32m    632\u001b[0m         \u001b[38;5;28;01mif\u001b[39;00m \u001b[38;5;129;01mnot\u001b[39;00m has_magic(pattern):\n",
      "File \u001b[0;32m/anaconda/envs/new_env/lib/python3.8/site-packages/datasets/data_files.py:411\u001b[0m, in \u001b[0;36mresolve_pattern\u001b[0;34m(pattern, base_path, allowed_extensions, download_config)\u001b[0m\n\u001b[1;32m    409\u001b[0m     \u001b[38;5;28;01mif\u001b[39;00m allowed_extensions \u001b[38;5;129;01mis\u001b[39;00m \u001b[38;5;129;01mnot\u001b[39;00m \u001b[38;5;28;01mNone\u001b[39;00m:\n\u001b[1;32m    410\u001b[0m         error_msg \u001b[38;5;241m+\u001b[39m\u001b[38;5;241m=\u001b[39m \u001b[38;5;124mf\u001b[39m\u001b[38;5;124m\"\u001b[39m\u001b[38;5;124m with any supported extension \u001b[39m\u001b[38;5;132;01m{\u001b[39;00m\u001b[38;5;28mlist\u001b[39m(allowed_extensions)\u001b[38;5;132;01m}\u001b[39;00m\u001b[38;5;124m\"\u001b[39m\n\u001b[0;32m--> 411\u001b[0m     \u001b[38;5;28;01mraise\u001b[39;00m \u001b[38;5;167;01mFileNotFoundError\u001b[39;00m(error_msg)\n\u001b[1;32m    412\u001b[0m \u001b[38;5;28;01mreturn\u001b[39;00m out\n",
      "\u001b[0;31mFileNotFoundError\u001b[0m: Unable to find '/mnt/batch/tasks/shared/LS_root/mounts/clusters/jinlong-exp/code/Users/jinlong.pang/LADR_LLM_alignment_data_refinement/labeling/data/meta/llama-3.1-8b-instruct/flan_v2/flan_v2.parquet'"
     ]
    }
   ],
   "source": [
    "import torch \n",
    "import random\n",
    "import numpy as np\n",
    "from datasets import load_dataset\n",
    "\n",
    "\n",
    "dataset_name ='flan_v2'\n",
    "model_name=\"meta/llama-3.1-8b-instruct\"\n",
    "\n",
    "root_path = f\"data/{model_name}/{dataset_name}/\"\n",
    "\n",
    "#full size\n",
    "labels = torch.load(root_path + \"output_labels_revised.pt\")\n",
    "\n",
    "#selected size\n",
    "filtered_labels = torch.load(root_path + \"filtered_output_labels.pt\")\n",
    "\n",
    "full_data_size = len(labels)\n",
    "data_size = len(filtered_labels)\n",
    "print(f\"full data size: {full_data_size}; random selected size: {data_size}!!!\")\n",
    "\n",
    "random_samples_idx = random.sample(list(range(full_data_size)), data_size)\n",
    "\n",
    "\n",
    "\n",
    "dataset_path = root_path + f\"{dataset_name}.parquet\"\n",
    "data = load_dataset('parquet', data_files=dataset_path)\n",
    "filtered_dialogs = data['train'].select(random_samples_idx)\n",
    "\n",
    "\n",
    "output_json_path = root_path + f\"random_dataset.json\"  ## the json form is for fine-tunning\n",
    "filtered_dialogs.to_json(output_json_path)\n"
   ]
  },
  {
   "cell_type": "markdown",
   "metadata": {},
   "source": [
    "### 3.2 Plot the filtered feature-wise long tail score"
   ]
  },
  {
   "cell_type": "code",
   "execution_count": 23,
   "metadata": {},
   "outputs": [
    {
     "data": {
      "image/png": "[encoded data removed]",
      "text/plain": [
       "<Figure size 800x600 with 1 Axes>"
      ]
     },
     "metadata": {},
     "output_type": "display_data"
    },
    {
     "data": {
      "image/png": "[encoded data removed]",
      "text/plain": [
       "<Figure size 800x600 with 1 Axes>"
      ]
     },
     "metadata": {},
     "output_type": "display_data"
    }
   ],
   "source": [
    "import numpy as np\n",
    "import matplotlib.pyplot as plt\n",
    "\n",
    "# Sample threshold value\n",
    "threshold_value = 300\n",
    "\n",
    "# Define bins for histogram\n",
    "bins = np.arange(0, max(long_tail_scores) + 0.01, 0.01)\n",
    "\n",
    "# Compute histogram counts for the original long_tail_scores\n",
    "counts, _ = np.histogram(long_tail_scores, bins)\n",
    "\n",
    "# Plot histogram for original scores\n",
    "plt.figure(figsize=(8, 6))\n",
    "plt.hist(long_tail_scores, bins, edgecolor='black')\n",
    "\n",
    "# Add title and axis labels\n",
    "plt.title('Long-tail score distribution')\n",
    "plt.xlabel('Long tail score value range')\n",
    "plt.ylabel('Count')\n",
    "\n",
    "# Add a horizontal line and label for the threshold\n",
    "plt.axhline(y=threshold_value, color='orange', linestyle='--')\n",
    "plt.text(x=0.1, y=threshold_value + 100, s='cutting threshold', color='orange', fontsize=14, ha='right', va='bottom')\n",
    "\n",
    "# Display the plot\n",
    "plt.show()\n",
    "\n",
    "# Histogram for filtered long_tail_scores\n",
    "bins = np.arange(0, max(long_tail_scores_filtered) + 0.01, 0.01)\n",
    "\n",
    "# Compute histogram counts for the filtered scores\n",
    "counts, _ = np.histogram(long_tail_scores_filtered, bins)\n",
    "\n",
    "# Plot histogram for filtered scores\n",
    "plt.figure(figsize=(8, 6))\n",
    "plt.hist(long_tail_scores_filtered, bins, edgecolor='black')\n",
    "\n",
    "# Add title and axis labels for the filtered plot\n",
    "plt.title('Long-tail score distribution after filtered out')\n",
    "plt.xlabel('Value Range')\n",
    "plt.ylabel('Count')\n",
    "\n",
    "# Display the filtered plot\n",
    "plt.show()\n"
   ]
  },
  {
   "cell_type": "code",
   "execution_count": 19,
   "metadata": {},
   "outputs": [
    {
     "data": {
      "text/plain": [
       "array([0.0027, 0.0055, 0.0085, ..., 0.2625, 0.2736, 0.281 ])"
      ]
     },
     "execution_count": 19,
     "metadata": {},
     "output_type": "execute_result"
    }
   ],
   "source": [
    "long_tail_scores_filtered"
   ]
  },
  {
   "cell_type": "code",
   "execution_count": 134,
   "metadata": {},
   "outputs": [
    {
     "name": "stderr",
     "output_type": "stream",
     "text": [
      "Generating train split: 23672 examples [00:00, 31009.59 examples/s]\n"
     ]
    }
   ],
   "source": [
    "\n",
    "dataset_path = root_path + \"data/tulu/filtered_flan_v2.parquet\"\n",
    "data = load_dataset('parquet', data_files=dataset_path)\n"
   ]
  },
  {
   "cell_type": "code",
   "execution_count": 122,
   "metadata": {},
   "outputs": [
    {
     "data": {
      "text/plain": [
       "7451"
      ]
     },
     "execution_count": 122,
     "metadata": {},
     "output_type": "execute_result"
    }
   ],
   "source": [
    "len(corrupted_samples_total)"
   ]
  },
  {
   "cell_type": "code",
   "execution_count": 103,
   "metadata": {},
   "outputs": [],
   "source": [
    "data = reports.detection['rare_example']\n"
   ]
  },
  {
   "cell_type": "code",
   "execution_count": 104,
   "metadata": {},
   "outputs": [],
   "source": [
    "data = data[:len(data)//2]"
   ]
  },
  {
   "cell_type": "code",
   "execution_count": 88,
   "metadata": {},
   "outputs": [],
   "source": [
    "assert len(reports.curation['label_curation']) == len(reports.detection['label_error'])"
   ]
  },
  {
   "cell_type": "code",
   "execution_count": 91,
   "metadata": {},
   "outputs": [
    {
     "data": {
      "text/plain": [
       "9369"
      ]
     },
     "execution_count": 91,
     "metadata": {},
     "output_type": "execute_result"
    }
   ],
   "source": [
    "len(reports.detection['label_error'])"
   ]
  },
  {
   "cell_type": "markdown",
   "metadata": {},
   "source": [
    "## 4. Convert .Parquet to .Jsonl.gz form for datasets"
   ]
  },
  {
   "cell_type": "code",
   "execution_count": 15,
   "metadata": {},
   "outputs": [
    {
     "name": "stdout",
     "output_type": "stream",
     "text": [
      "Converted data/tulu/flan_v2.parquet to data/tulu/flan_v2.jsonl.gz\n"
     ]
    }
   ],
   "source": [
    "import pandas as pd\n",
    "import json\n",
    "import gzip\n",
    "import numpy as np\n",
    "\n",
    "# Read the .parquet file\n",
    "parquet_file = 'data/tulu/flan_v2.parquet'\n",
    "df = pd.read_parquet(parquet_file)\n",
    "\n",
    "# Define output JSON Lines file with gzip compression\n",
    "jsonl_gz_file = 'data/tulu/flan_v2.jsonl.gz'\n",
    "with gzip.open(jsonl_gz_file, 'wt', encoding='utf-8') as f:\n",
    "    for record in df.to_dict(orient='records'):\n",
    "        # Convert 'messages' column from ndarray to list if necessary\n",
    "        if isinstance(record['messages'], (pd.Series, pd.DataFrame, np.ndarray)):\n",
    "            record['messages'] = record['messages'].tolist()\n",
    "        f.write(json.dumps(record) + '\\n')\n",
    "\n",
    "print(f\"Converted {parquet_file} to {jsonl_gz_file}\")\n"
   ]
  },
  {
   "cell_type": "markdown",
   "metadata": {},
   "source": [
    "## 5 Generate dataset to evaluate the performance gap between high-rated samples and low-rated sample"
   ]
  },
  {
   "cell_type": "code",
   "execution_count": 6,
   "metadata": {},
   "outputs": [
    {
     "name": "stderr",
     "output_type": "stream",
     "text": [
      "/home/azureuser/.local/lib/python3.8/site-packages/tqdm/auto.py:21: TqdmWarning: IProgress not found. Please update jupyter and ipywidgets. See https://ipywidgets.readthedocs.io/en/stable/user_install.html\n",
      "  from .autonotebook import tqdm as notebook_tqdm\n",
      "/tmp/ipykernel_40411/1047514123.py:7: FutureWarning: You are using `torch.load` with `weights_only=False` (the current default value), which uses the default pickle module implicitly. It is possible to construct malicious pickle data which will execute arbitrary code during unpickling (See https://github.com/pytorch/pytorch/blob/main/SECURITY.md#untrusted-models for more details). In a future release, the default value for `weights_only` will be flipped to `True`. This limits the functions that could be executed during unpickling. Arbitrary objects will no longer be allowed to be loaded via this mode unless they are explicitly allowlisted by the user via `torch.serialization.add_safe_globals`. We recommend you start setting `weights_only=True` for any use case where you don't have full control of the loaded file. Please open an issue on GitHub for any issues related to this experimental feature.\n",
      "  reports = torch.load(\"score_curation/results/tulu_flan_v2/tulu_flan_v2_report.pt\")\n"
     ]
    },
    {
     "name": "stdout",
     "output_type": "stream",
     "text": [
      "==== Docta: Doctor for your data. Current version: 0.2 ====\n",
      "cured sample size: 1765\n",
      "corrupted_samples_total: 7402\n",
      "Label: 0, Count: 5215\n",
      "Label: 1, Count: 1858\n",
      "Label: 2, Count: 8806\n",
      "Label: 3, Count: 22345\n",
      "Label: 4, Count: 1427\n",
      "Label: 5, Count: 9472\n",
      "Selected 1500 samples from label 1.\n",
      "Selected 1500 samples from label 5.\n"
     ]
    },
    {
     "name": "stderr",
     "output_type": "stream",
     "text": [
      "/tmp/ipykernel_40411/1047514123.py:35: FutureWarning: You are using `torch.load` with `weights_only=False` (the current default value), which uses the default pickle module implicitly. It is possible to construct malicious pickle data which will execute arbitrary code during unpickling (See https://github.com/pytorch/pytorch/blob/main/SECURITY.md#untrusted-models for more details). In a future release, the default value for `weights_only` will be flipped to `True`. This limits the functions that could be executed during unpickling. Arbitrary objects will no longer be allowed to be loaded via this mode unless they are explicitly allowlisted by the user via `torch.serialization.add_safe_globals`. We recommend you start setting `weights_only=True` for any use case where you don't have full control of the loaded file. Please open an issue on GitHub for any issues related to this experimental feature.\n",
      "  labels = torch.load(root_path + \"data/gemma/flan_v2/output_labels_revised.pt\")\n",
      "Creating json from Arrow format: 100%|███████████████████████████████████████████████████████████████████████████████████████████████████████████████████████████████████████████████████████████████████████████████████████████████████████████████████████████████████████████████████████████████████████████████████████████████████████████████████████████████████████████████████████████████████████████████████████████████████████████████████████████████████████████████████████████████████████████████████████████████████████████████████████████████████████████████████████████████████████████████████████████████████████████████████████████████████████████████████████████████████████████████████████████████████████████████████████████████████████████████████████████████████████████████████████████████████████████████████████████████████████████████████████████████████████████████████████████████████████████████████████████████████████████████████████████████████| 2/2 [00:00<00:00, 42.88ba/s]\n",
      "Creating json from Arrow format: 100%|███████████████████████████████████████████████████████████████████████████████████████████████████████████████████████████████████████████████████████████████████████████████████████████████████████████████████████████████████████████████████████████████████████████████████████████████████████████████████████████████████████████████████████████████████████████████████████████████████████████████████████████████████████████████████████████████████████████████████████████████████████████████████████████████████████████████████████████████████████████████████████████████████████████████████████████████████████████████████████████████████████████████████████████████████████████████████████████████████████████████████████████████████████████████████████████████████████████████████████████████████████████████████████████████████████████████████████████████████████████████████████████████████████████████████████████████████| 2/2 [00:00<00:00, 47.98ba/s]\n"
     ]
    },
    {
     "data": {
      "text/plain": [
       "3594829"
      ]
     },
     "execution_count": 6,
     "metadata": {},
     "output_type": "execute_result"
    }
   ],
   "source": [
    "import torch \n",
    "import random\n",
    "import numpy as np\n",
    "from datasets import load_dataset\n",
    "\n",
    "## label curation reports\n",
    "reports = torch.load(\"score_curation/results/tulu_flan_v2/tulu_flan_v2_report.pt\")\n",
    "\n",
    "'''Part 1 (label-wise): label curation'''\n",
    "### choose the data index that needed to be remove\n",
    "corrupted_samples = [x[0] for x in reports.detection['label_error']]\n",
    "\n",
    "##  samples that can be cured\n",
    "cured_samples = []\n",
    "cured_sample_labels = []\n",
    "for sample in reports.curation['label_curation']: ##(idx, label, confidence)\n",
    "    if sample[2] >= 0.75: #confidence prob;0.75\n",
    "        cured_samples.append(sample[0])\n",
    "        cured_sample_labels.append((sample[0], sample[1]))\n",
    "\n",
    "\n",
    "\n",
    "print(f\"cured sample size: {len(cured_sample_labels)}\")\n",
    "\n",
    "\n",
    "#filter out some cured samples from corrupted instances\n",
    "cured_samples_set = set(cured_samples)\n",
    "corrupted_samples_total = [x for x in corrupted_samples if x not in cured_samples_set]\n",
    "\n",
    "print(f\"corrupted_samples_total: {len(corrupted_samples_total)}\")\n",
    "\n",
    "\n",
    "# change the original labels to the suggested label\n",
    "root_path =\"score_curation/\"\n",
    "labels = torch.load(root_path + \"data/gemma/flan_v2/output_labels_revised.pt\")\n",
    "\n",
    "# for sample_label in cured_sample_labels:\n",
    "#     labels[sample_label[0]] = sample_label[1]\n",
    "# print(f\"label size: {len(labels)}\")\n",
    "\n",
    "## select high-quality samples based on the quality labels\n",
    "labels = np.array(labels)\n",
    "unique_labels, counts = np.unique(labels, return_counts=True)\n",
    "\n",
    "\n",
    "for label, count in zip(unique_labels, counts):\n",
    "    print(f\"Label: {label}, Count: {count}\")\n",
    "\n",
    "label_1_indices = np.where(labels == 1)[0]\n",
    "label_5_indices = np.where(labels == 5)[0]\n",
    "\n",
    "num_samples = 1500\n",
    "if len(label_1_indices) >= num_samples and len(label_5_indices) >= num_samples:\n",
    "    selected_label_1_samples = random.sample(list(label_1_indices), num_samples)\n",
    "    selected_label_5_samples = random.sample(list(label_5_indices), num_samples)\n",
    "else:\n",
    "    print(\"Not enough samples in one of the labels.\")\n",
    "\n",
    "print(f\"Selected {len(selected_label_1_samples)} samples from label 1.\")\n",
    "print(f\"Selected {len(selected_label_5_samples)} samples from label 5.\")\n",
    "\n",
    "\n",
    "\n",
    "dataset_name = 'flan_v2'\n",
    "\n",
    "data_path = './data_refine/tulu_split_parquet/'\n",
    "\n",
    "dataset_path = data_path + f\"{dataset_name}.parquet\"\n",
    "data = load_dataset('parquet', data_files=dataset_path)\n",
    "output_json_path_1 = root_path + \"data/gemma/flan_v2/label_1_1500samples.json\"\n",
    "output_json_path_5 = root_path + \"data/gemma/flan_v2/label_5_1500samples.json\"\n",
    "\n",
    "label_1_dialogs = data['train'].select(selected_label_1_samples)\n",
    "label_1_dialogs.to_json(output_json_path_1)\n",
    "\n",
    "\n",
    "label_5_dialogs = data['train'].select(selected_label_5_samples)\n",
    "label_5_dialogs.to_json(output_json_path_5)\n",
    "\n"
   ]
  },
  {
   "cell_type": "markdown",
   "metadata": {},
   "source": [
    "### Check the data"
   ]
  },
  {
   "cell_type": "code",
   "execution_count": 17,
   "metadata": {},
   "outputs": [
    {
     "name": "stdout",
     "output_type": "stream",
     "text": [
      "Contents from label 1:\n",
      "Premise & hypothesis: Is the premise \"Business attired man having a shoeshine on a busy street.\" true if \"A businessman is walking on the street.\"?\n",
      "A: no\n",
      "\n",
      "Premise & hypothesis: Is the premise \"A man in midair about to land on a snowboard.\" true if \"the man is really tired\"?\n",
      "A: it is not possible to tell\n",
      "\n",
      "Premise & hypothesis: Is the premise \"A referee indicating the winner of a wrestling match.\" true if \"there is a sport being played\"?\n",
      "A: yes\n",
      "\n",
      "Premise & hypothesis: Is the premise \"A woman and a young girl in a purple jacket are looking at sweets in a shop.\" true if \"Two boys in red are dancing.\"?\n",
      "A:\n",
      "@@@@@@@@@@@@@@@@@@@@@@@@@@@@@@@@@@@@@@@@@@@@@@@@@@@@@@@@@@@@@@@@@@@@@@@@@@@@@@@@@@@@@@@@@@@@@@@@@@@@@@@@@@@@@@@@@@@@@@@@@@@@@@@@@@@@@@@@@@@@@@@@@@@@@@\n"
     ]
    }
   ],
   "source": [
    "import json\n",
    "\n",
    "root_path =\"score_curation/\"\n",
    "\n",
    "def read_samples_content(file_path, num_samples=1):\n",
    "    samples = []\n",
    "    with open(file_path, 'r') as file:\n",
    "        for line in file:\n",
    "            if len(samples) < num_samples:\n",
    "                data = json.loads(line)\n",
    "                for message in data['messages']:\n",
    "                    samples.append(message['content'])\n",
    "            else:\n",
    "                break\n",
    "    return samples\n",
    "\n",
    "output_json_path_1 = root_path + \"data/gemma/flan_v2/label_1_1500samples.json\"\n",
    "output_json_path_5 = root_path + \"data/gemma/flan_v2/label_5_1500samples.json\"\n",
    "\n",
    "contents_label_1 = read_samples_content(output_json_path_1)\n",
    "contents_label_5 = read_samples_content(output_json_path_5)\n",
    "\n",
    "print(\"Contents from label 1:\")\n",
    "for content in contents_label_1:\n",
    "    print('#'*100)\n",
    "    print(content)\n",
    "\n",
    "print('@'*150)\n",
    "print(\"\\nContents from label 5:\")\n",
    "for content in contents_label_5:\n",
    "    print('#'*100)\n",
    "    print(content)\n",
    "\n"
   ]
  },
  {
   "cell_type": "code",
   "execution_count": 3,
   "metadata": {},
   "outputs": [
    {
     "name": "stdout",
     "output_type": "stream",
     "text": [
      "Cured sample size: 0\n",
      "Corrupted samples total: 190136\n",
      "Original Counter(labels): Counter({3: 116114, 4: 57669, 2: 48254, 1: 47402, 0: 27386, 5: 4107})\n",
      "Label size: 300932\n",
      "Revised Counter(labels): Counter({3: 116114, 4: 57669, 2: 48254, 1: 47402, 0: 27386, 5: 4107})\n",
      "Label-wise filter out samples: 190136\n",
      "Size of the remaining samples with high quality: 300932\n",
      "Size of the filtered dataset: 2500\n"
     ]
    },
    {
     "name": "stderr",
     "output_type": "stream",
     "text": [
      "Creating json from Arrow format: 100%|███████████████████████████████████████████████████████████████████████████████████████████████████████████████████████████████████████████████████████████████████████████████████████████████████████████████████████████████████████████████████████████████████████████████████████████████████████████████████████████████████████████████████████████████████████████████████████████████████████████████████████████████████████████████████████████████████████████████████████████████████████████████████████████████████████████████████████████████████████████████████████████████████████████████████████████████████████████████████████████████████████████████████████████████████████████████████████████████████████████████████████████████████████████████████████████████████████████████████████████████████████████████████████████████████████████████████████████████████████████████████████████████████████████████████████████████████| 3/3 [00:00<00:00, 38.77ba/s]\n"
     ]
    },
    {
     "data": {
      "text/plain": [
       "7605900"
      ]
     },
     "execution_count": 3,
     "metadata": {},
     "output_type": "execute_result"
    }
   ],
   "source": [
    "import torch \n",
    "import random\n",
    "import numpy as np\n",
    "from datasets import load_dataset\n",
    "from collections import Counter\n",
    "\n",
    "random.seed(3)\n",
    "\n",
    "# Specify dataset and model details\n",
    "dataset_name = 'all_train'\n",
    "model_name = \"meta-llama/Meta-Llama-3.1-8B-Instruct\"\n",
    "dataset_size = 2500\n",
    "\n",
    "# Load curation report\n",
    "report_path = f\"score_curation/results/{model_name}/{dataset_name}/{dataset_name}_report.pt\"\n",
    "reports = torch.load(report_path)\n",
    "\n",
    "# Part 1: Label curation based on detected label errors\n",
    "corrupted_samples = [x[0] for x in reports.detection['label_error']]\n",
    "\n",
    "# Identify high-confidence samples for curation\n",
    "cured_samples = []\n",
    "cured_sample_labels = []\n",
    "for sample in reports.curation['label_curation']:  # (idx, label, confidence)\n",
    "    if sample[2] >= 1:  # confidence threshold\n",
    "        cured_samples.append(sample[0])\n",
    "        cured_sample_labels.append((sample[0], sample[1]))\n",
    "\n",
    "print(f\"Cured sample size: {len(cured_sample_labels)}\")\n",
    "\n",
    "# Exclude cured samples from corrupted samples list\n",
    "cured_samples_set = set(cured_samples)\n",
    "corrupted_samples_total = [x for x in corrupted_samples if x not in cured_samples_set]\n",
    "\n",
    "print(f\"Corrupted samples total: {len(corrupted_samples_total)}\")\n",
    "\n",
    "# Update labels to the curated labels\n",
    "root_path = f\"./model_finetune/selected_data/{model_name}/{dataset_name}/\"\n",
    "labels = torch.load(root_path + \"output_labels_revised.pt\")\n",
    "\n",
    "print(f\"Original Counter(labels): {Counter(labels)}\")\n",
    "\n",
    "# Apply cured labels to original labels\n",
    "for sample_label in cured_sample_labels:\n",
    "    labels[sample_label[0]] = sample_label[1]\n",
    "\n",
    "print(f\"Label size: {len(labels)}\")\n",
    "print(f\"Revised Counter(labels): {Counter(labels)}\")\n",
    "\n",
    "# Collect indices of corrupted samples for filtering\n",
    "label_wise_filter_out_samples = set(corrupted_samples_total)\n",
    "print(f\"Label-wise filter out samples: {len(label_wise_filter_out_samples)}\")\n",
    "\n",
    "# Part 2: Handle rare examples by selecting high-quality samples\n",
    "rare_samples = reports.detection['rare_example'][:len(reports.detection['rare_example']) // 2]\n",
    "rare_samples_filtered = [[sample[0], sample[1]] for sample in rare_samples]\n",
    "\n",
    "print(f\"Size of the remaining samples with high quality: {len(rare_samples_filtered)}\")\n",
    "\n",
    "# Filter indices initialization\n",
    "filtered_indices = []\n",
    "\n",
    "# Loop through target labels, starting with high quality (label 5 down to 1)\n",
    "for target_label in [5, 4, 3, 2, 1]:\n",
    "    if len(filtered_indices) >= dataset_size:\n",
    "        break\n",
    "\n",
    "    # Find indices with the target label\n",
    "    label_indices = [idx for idx in range(len(labels)) if labels[idx] == target_label]\n",
    "\n",
    "    # Add the indices if there's space in the dataset size limit\n",
    "    if dataset_size - len(filtered_indices) > len(label_indices):\n",
    "        filtered_indices.extend(label_indices)\n",
    "    else:\n",
    "        rated_samples = [[sample[0], sample[1]] for sample in rare_samples if sample[0] in set(label_indices)]\n",
    "        \n",
    "        remain_data_size = dataset_size - len(filtered_indices)\n",
    "\n",
    "        if rated_samples:  # Ensure rated_samples is non-empty\n",
    "            sorted_samples = sorted(rated_samples, key=lambda x: x[1], reverse=True)[:remain_data_size]\n",
    "            sorted_samples_indices = np.array(sorted_samples)[:, 0].astype(int)\n",
    "            filtered_indices.extend(sorted_samples_indices)\n",
    "\n",
    "    print(\"Size of the filtered dataset:\", len(filtered_indices))\n",
    "\n",
    "# Load the dataset and select filtered samples\n",
    "data = load_dataset('json', data_files=root_path + 'full_dataset.json')\n",
    "filtered_dialogs = data['train'].select(filtered_indices)\n",
    "\n",
    "# Save the filtered dataset\n",
    "filtered_dialogs.to_json(root_path + f\"filtered\n"
   ]
  }
 ],
 "metadata": {
  "kernelspec": {
   "display_name": "azureml_py38",
   "language": "python",
   "name": "python3"
  },
  "language_info": {
   "codemirror_mode": {
    "name": "ipython",
    "version": 3
   },
   "file_extension": ".py",
   "mimetype": "text/x-python",
   "name": "python",
   "nbconvert_exporter": "python",
   "pygments_lexer": "ipython3",
   "version": "3.10.12"
  }
 },
 "nbformat": 4,
 "nbformat_minor": 2
}
